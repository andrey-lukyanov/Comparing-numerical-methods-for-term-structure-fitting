{
 "cells": [
  {
   "cell_type": "code",
   "execution_count": 1,
   "metadata": {},
   "outputs": [],
   "source": [
    "import pandas as pd\n",
    "import numpy as np\n",
    "import matplotlib.pyplot as plt\n",
    "import pdb\n",
    "import datetime as dt\n",
    "\n",
    "pd.options.display.max_rows = 999\n",
    "pd.options.display.max_columns = 100\n",
    "\n",
    "%matplotlib inline\n",
    "\n",
    "from new_thesis_library import *"
   ]
  },
  {
   "cell_type": "markdown",
   "metadata": {},
   "source": [
    "In this document we gather data for Russian governament bonds starting from year 2014."
   ]
  },
  {
   "cell_type": "markdown",
   "metadata": {},
   "source": [
    "# Determining valid bonds from Cbonds search"
   ]
  },
  {
   "cell_type": "code",
   "execution_count": null,
   "metadata": {},
   "outputs": [],
   "source": [
    "bond_search = pd.read_excel('/Users/andrey_lukyanov/Google_Drive/Studies/Year_4/Курсач/Coding/Comparing-numerical-methods-for-term-structure-fitting/Data/New_data/New_search.xls')\n",
    "registration_numbers = bond_search['Регистрационный номер']"
   ]
  },
  {
   "cell_type": "code",
   "execution_count": 81,
   "metadata": {},
   "outputs": [],
   "source": [
    "valid_codes = []\n",
    "\n",
    "for number in registration_numbers:\n",
    "\n",
    "    codes = ['SU' + number + str(i) for i in range(0, 10)]\n",
    "    \n",
    "    for code in codes:\n",
    "        try:\n",
    "            prices_df = MoexReader(code, start = '01.01.2014').read()\n",
    "            if prices_df.empty == False:\n",
    "                valid_codes.append(code)\n",
    "        except OSError:\n",
    "            continue    "
   ]
  },
  {
   "cell_type": "code",
   "execution_count": 84,
   "metadata": {},
   "outputs": [
    {
     "name": "stdout",
     "output_type": "stream",
     "text": [
      "1. SU25076RMFS9\n",
      "2. SU25068RMFS6\n",
      "3. SU25071RMFS0\n",
      "4. SU26202RMFS0\n",
      "5. SU25079RMFS3\n",
      "6. SU25075RMFS1\n",
      "7. SU25077RMFS7\n",
      "8. SU25082RMFS7\n",
      "9. SU46017RMFS8\n",
      "10. SU26203RMFS8\n",
      "11. SU25080RMFS1\n",
      "12. SU26206RMFS1\n",
      "13. SU25081RMFS9\n",
      "14. SU26204RMFS6\n",
      "15. SU46021RMFS0\n",
      "16. SU46014RMFS5\n",
      "17. SU46005RMFS3\n",
      "18. SU26208RMFS7\n",
      "19. SU46019RMFS4\n",
      "20. SU26216RMFS0\n",
      "21. SU26210RMFS3\n",
      "22. SU53001RMFS2\n",
      "23. SU26214RMFS5\n",
      "24. SU53002RMFS0\n",
      "25. SU53003RMFS8\n",
      "26. SU26205RMFS3\n",
      "27. SU26217RMFS8\n",
      "28. SU46018RMFS6\n",
      "29. SU25083RMFS5\n",
      "30. SU26209RMFS5\n",
      "31. SU53004RMFS6\n",
      "32. SU26220RMFS2\n",
      "33. SU53005RMFS3\n",
      "34. SU26211RMFS1\n",
      "35. SU46022RMFS8\n",
      "36. SU26215RMFS2\n",
      "37. SU52001RMFS3\n",
      "38. SU25084RMFS3\n",
      "39. SU26223RMFS6\n",
      "40. SU26227RMFS7\n",
      "41. SU26222RMFS8\n",
      "42. SU26234RMFS3\n",
      "43. SU46011RMFS1\n",
      "44. SU26229RMFS3\n",
      "45. SU46023RMFS6\n",
      "46. SU26219RMFS4\n",
      "47. SU26226RMFS9\n",
      "48. SU26207RMFS9\n",
      "49. SU26232RMFS7\n",
      "50. SU26212RMFS9\n",
      "51. SU52002RMFS1\n",
      "52. SU26224RMFS4\n",
      "53. SU26228RMFS5\n",
      "54. SU26218RMFS6\n",
      "55. SU26221RMFS0\n",
      "56. SU26225RMFS1\n",
      "57. SU46020RMFS2\n",
      "58. SU26230RMFS1\n"
     ]
    }
   ],
   "source": [
    "for i in range(len(valid_codes)):\n",
    "    print(str(i+1) + '. ' + valid_codes[i])"
   ]
  },
  {
   "cell_type": "markdown",
   "metadata": {},
   "source": [
    "# Looking at the prices from MOEX"
   ]
  },
  {
   "cell_type": "code",
   "execution_count": 26,
   "metadata": {},
   "outputs": [],
   "source": [
    "moex_prices = pd.read_csv('/Users/andrey_lukyanov/Google_Drive/Studies/Year_4/Курсач/Coding/Comparing-numerical-methods-for-term-structure-fitting/Data/New_data/moex_prices.csv',\n",
    "                          sep = \";\")"
   ]
  },
  {
   "cell_type": "code",
   "execution_count": 27,
   "metadata": {},
   "outputs": [],
   "source": [
    "moex_prices['tradedate'] = pd.to_datetime(moex_prices['tradedate'], format='%d.%m.%Y')"
   ]
  },
  {
   "cell_type": "code",
   "execution_count": 31,
   "metadata": {},
   "outputs": [],
   "source": [
    "moex_prices['crtprice'] = moex_prices['crtprice'].apply(lambda x: x.replace(',','.'))"
   ]
  },
  {
   "cell_type": "code",
   "execution_count": 34,
   "metadata": {},
   "outputs": [],
   "source": [
    "moex_prices['crtprice'] = moex_prices['crtprice'].astype('float64')"
   ]
  },
  {
   "cell_type": "code",
   "execution_count": 39,
   "metadata": {},
   "outputs": [
    {
     "data": {
      "text/plain": [
       "39"
      ]
     },
     "execution_count": 39,
     "metadata": {},
     "output_type": "execute_result"
    }
   ],
   "source": [
    "len(moex_prices.secid.unique())"
   ]
  },
  {
   "cell_type": "markdown",
   "metadata": {},
   "source": [
    "# Reading bonds' quotes from imported data from Cbonds"
   ]
  },
  {
   "cell_type": "code",
   "execution_count": 2,
   "metadata": {},
   "outputs": [],
   "source": [
    "import xlrd"
   ]
  },
  {
   "cell_type": "code",
   "execution_count": 3,
   "metadata": {},
   "outputs": [],
   "source": [
    "bonds_quotes_book = xlrd.open_workbook('/Users/andrey_lukyanov/Google_Drive/Studies/Year_4/Курсач/Coding/Comparing-numerical-methods-for-term-structure-fitting/Data/New_data/Bonds_quotes.xlsx')"
   ]
  },
  {
   "cell_type": "code",
   "execution_count": 4,
   "metadata": {},
   "outputs": [],
   "source": [
    "ISIN = bonds_quotes_book.sheet_names()"
   ]
  },
  {
   "cell_type": "code",
   "execution_count": 5,
   "metadata": {},
   "outputs": [],
   "source": [
    "raw_bonds_quotes_dict = pd.read_excel(io = '/Users/andrey_lukyanov/Google_Drive/Studies/Year_4/Курсач/Coding/Comparing-numerical-methods-for-term-structure-fitting/Data/New_data/Bonds_quotes.xlsx', \n",
    "                                      sheet_name = ISIN)"
   ]
  },
  {
   "cell_type": "code",
   "execution_count": 8,
   "metadata": {},
   "outputs": [
    {
     "name": "stderr",
     "output_type": "stream",
     "text": [
      "/Users/andrey_lukyanov/anaconda3/lib/python3.7/site-packages/ipykernel_launcher.py:6: SettingWithCopyWarning: \n",
      "A value is trying to be set on a copy of a slice from a DataFrame.\n",
      "Try using .loc[row_indexer,col_indexer] = value instead\n",
      "\n",
      "See the caveats in the documentation: https://pandas.pydata.org/pandas-docs/stable/user_guide/indexing.html#returning-a-view-versus-a-copy\n",
      "  \n"
     ]
    }
   ],
   "source": [
    "bonds_quotes_dict = {}\n",
    "\n",
    "for code in ISIN:\n",
    "    df = raw_bonds_quotes_dict[code][6:]\n",
    "    df.columns = raw_bonds_quotes_dict[code].iloc[5].values\n",
    "    df['Дата торгов'] = pd.to_datetime(df['Дата торгов'], format='%Y%m%d')\n",
    "    df.set_index('Дата торгов', inplace = True)\n",
    "    bonds_quotes_dict[code] = df"
   ]
  },
  {
   "cell_type": "code",
   "execution_count": 10,
   "metadata": {},
   "outputs": [],
   "source": [
    "list_of_avg_quotes = []\n",
    "\n",
    "for i in range(len(ISIN)):\n",
    "    list_of_avg_quotes.append(bonds_quotes_dict[ISIN[i]]['Цена средневзвешенная, %'])"
   ]
  },
  {
   "cell_type": "code",
   "execution_count": 21,
   "metadata": {},
   "outputs": [],
   "source": [
    "bonds_clean_prices = pd.concat(list_of_avg_quotes, axis = 1)\n",
    "bonds_clean_prices.columns = ISIN\n",
    "bonds_clean_prices.index.names = ['TRADEDATE']\n",
    "bonds_clean_prices.to_csv('/Users/andrey_lukyanov/Google_Drive/Studies/Year_4/Курсач/Coding/Comparing-numerical-methods-for-term-structure-fitting/Data/New_data/bonds_clean_prices.csv')"
   ]
  },
  {
   "cell_type": "code",
   "execution_count": 16,
   "metadata": {},
   "outputs": [],
   "source": [
    "bonds_clean_prices = pd.read_csv(path + 'Data/New_data/bonds_clean_prices.csv', \n",
    "                                 index_col = 0, parse_dates = True)"
   ]
  },
  {
   "cell_type": "code",
   "execution_count": 52,
   "metadata": {},
   "outputs": [
    {
     "data": {
      "text/plain": [
       "46299"
      ]
     },
     "execution_count": 52,
     "metadata": {},
     "output_type": "execute_result"
    }
   ],
   "source": [
    "bonds_clean_prices.isna().sum().sum()"
   ]
  },
  {
   "cell_type": "markdown",
   "metadata": {},
   "source": [
    "### Bonds with sparse data"
   ]
  },
  {
   "cell_type": "code",
   "execution_count": 151,
   "metadata": {},
   "outputs": [
    {
     "data": {
      "text/plain": [
       "('RU000A0JTWW3',\n",
       " 'RU000A0JP2S9',\n",
       " 'RU000A0JNHJ4',\n",
       " 'RU000A0JRTL6',\n",
       " 'RU0002868001',\n",
       " 'RU000A0JS4M5',\n",
       " 'RU0002867854',\n",
       " 'RU0002868076',\n",
       " 'RU0002867631')"
      ]
     },
     "execution_count": 151,
     "metadata": {},
     "output_type": "execute_result"
    }
   ],
   "source": [
    "ISIN[7], ISIN[14], ISIN[15], ISIN[25], ISIN[28], ISIN[29], ISIN[38], ISIN[51], ISIN[52]"
   ]
  },
  {
   "cell_type": "markdown",
   "metadata": {},
   "source": [
    "# Reading bonds payments"
   ]
  },
  {
   "cell_type": "code",
   "execution_count": 283,
   "metadata": {},
   "outputs": [],
   "source": [
    "bonds_payments = pd.read_csv('/Users/andrey_lukyanov/Google_Drive/Studies/Year_4/Курсач/Coding/Comparing-numerical-methods-for-term-structure-fitting/Data/New_data/bonds_payments.csv',\n",
    "                             sep = ';')\n",
    "bonds_payments['Дата фактической выплаты'] = pd.to_datetime(bonds_payments['Дата фактической выплаты'], format='%d.%m.%Y')"
   ]
  },
  {
   "cell_type": "code",
   "execution_count": 309,
   "metadata": {},
   "outputs": [],
   "source": [
    "bonds_payments[['Ставка купона, % годовых',\n",
    "                'Сумма купона, RUB',\n",
    "                'Погашение номинала, RUB']] = bonds_payments[['Ставка купона, % годовых', \n",
    "                                                              'Сумма купона, RUB', \n",
    "                                                              'Погашение номинала, RUB']].apply(lambda x: x.str.replace(',','.'))\n",
    "bonds_payments[['Ставка купона, % годовых',\n",
    "                'Сумма купона, RUB',\n",
    "                'Погашение номинала, RUB']] = bonds_payments[['Ставка купона, % годовых', \n",
    "                                                              'Сумма купона, RUB', \n",
    "                                                              'Погашение номинала, RUB']].apply(lambda x: x.str.replace(' ',''))"
   ]
  },
  {
   "cell_type": "code",
   "execution_count": 310,
   "metadata": {},
   "outputs": [],
   "source": [
    "bonds_payments.fillna(0, inplace = True)"
   ]
  },
  {
   "cell_type": "code",
   "execution_count": 311,
   "metadata": {},
   "outputs": [],
   "source": [
    "bonds_payments[['Ставка купона, % годовых',\n",
    "                'Сумма купона, RUB',\n",
    "                'Погашение номинала, RUB']] = bonds_payments[['Ставка купона, % годовых', \n",
    "                                                              'Сумма купона, RUB', \n",
    "                                                              'Погашение номинала, RUB']].astype('float64')"
   ]
  },
  {
   "cell_type": "code",
   "execution_count": 464,
   "metadata": {},
   "outputs": [],
   "source": [
    "bonds_payments[['Сумма купона, RUB', \n",
    "                'Погашение номинала, RUB']] = bonds_payments[['Сумма купона, RUB', \n",
    "                                                              'Погашение номинала, RUB']]/10"
   ]
  },
  {
   "cell_type": "code",
   "execution_count": 466,
   "metadata": {},
   "outputs": [],
   "source": [
    "bonds_payments.to_csv('/Users/andrey_lukyanov/Google_Drive/Studies/Year_4/Курсач/Coding/Comparing-numerical-methods-for-term-structure-fitting/Data/New_data/bonds_payments.csv')"
   ]
  },
  {
   "cell_type": "code",
   "execution_count": 7,
   "metadata": {},
   "outputs": [],
   "source": [
    "bonds_payments = pd.read_csv('/Users/andrey_lukyanov/Google_Drive/Studies/Year_4/Курсач/Coding/Comparing-numerical-methods-for-term-structure-fitting/Data/New_data/bonds_payments.csv',\n",
    "                            index_col = 0)\n",
    "bonds_payments['Дата фактической выплаты'] = pd.to_datetime(bonds_payments['Дата фактической выплаты'], format='%Y-%m-%d')"
   ]
  },
  {
   "cell_type": "code",
   "execution_count": 11,
   "metadata": {},
   "outputs": [
    {
     "data": {
      "text/html": [
       "<div>\n",
       "<style scoped>\n",
       "    .dataframe tbody tr th:only-of-type {\n",
       "        vertical-align: middle;\n",
       "    }\n",
       "\n",
       "    .dataframe tbody tr th {\n",
       "        vertical-align: top;\n",
       "    }\n",
       "\n",
       "    .dataframe thead th {\n",
       "        text-align: right;\n",
       "    }\n",
       "</style>\n",
       "<table border=\"1\" class=\"dataframe\">\n",
       "  <thead>\n",
       "    <tr style=\"text-align: right;\">\n",
       "      <th></th>\n",
       "      <th>Номер бумаги</th>\n",
       "      <th>ISIN</th>\n",
       "      <th>Номер платежа</th>\n",
       "      <th>Дата фактической выплаты</th>\n",
       "      <th>Ставка купона, % годовых</th>\n",
       "      <th>Сумма купона, RUB</th>\n",
       "      <th>Погашение номинала, RUB</th>\n",
       "    </tr>\n",
       "  </thead>\n",
       "  <tbody>\n",
       "    <tr>\n",
       "      <th>0</th>\n",
       "      <td>1</td>\n",
       "      <td>RU000A0JR779</td>\n",
       "      <td>1</td>\n",
       "      <td>2011-09-15</td>\n",
       "      <td>7.1</td>\n",
       "      <td>4.649</td>\n",
       "      <td>0.0</td>\n",
       "    </tr>\n",
       "    <tr>\n",
       "      <th>1</th>\n",
       "      <td>1</td>\n",
       "      <td>RU000A0JR779</td>\n",
       "      <td>2</td>\n",
       "      <td>2012-03-15</td>\n",
       "      <td>7.1</td>\n",
       "      <td>3.540</td>\n",
       "      <td>0.0</td>\n",
       "    </tr>\n",
       "    <tr>\n",
       "      <th>2</th>\n",
       "      <td>1</td>\n",
       "      <td>RU000A0JR779</td>\n",
       "      <td>3</td>\n",
       "      <td>2012-09-13</td>\n",
       "      <td>7.1</td>\n",
       "      <td>3.540</td>\n",
       "      <td>0.0</td>\n",
       "    </tr>\n",
       "    <tr>\n",
       "      <th>3</th>\n",
       "      <td>1</td>\n",
       "      <td>RU000A0JR779</td>\n",
       "      <td>4</td>\n",
       "      <td>2013-03-14</td>\n",
       "      <td>7.1</td>\n",
       "      <td>3.540</td>\n",
       "      <td>0.0</td>\n",
       "    </tr>\n",
       "    <tr>\n",
       "      <th>4</th>\n",
       "      <td>1</td>\n",
       "      <td>RU000A0JR779</td>\n",
       "      <td>5</td>\n",
       "      <td>2013-09-12</td>\n",
       "      <td>7.1</td>\n",
       "      <td>3.540</td>\n",
       "      <td>0.0</td>\n",
       "    </tr>\n",
       "  </tbody>\n",
       "</table>\n",
       "</div>"
      ],
      "text/plain": [
       "   Номер бумаги          ISIN  Номер платежа Дата фактической выплаты  \\\n",
       "0             1  RU000A0JR779              1               2011-09-15   \n",
       "1             1  RU000A0JR779              2               2012-03-15   \n",
       "2             1  RU000A0JR779              3               2012-09-13   \n",
       "3             1  RU000A0JR779              4               2013-03-14   \n",
       "4             1  RU000A0JR779              5               2013-09-12   \n",
       "\n",
       "   Ставка купона, % годовых  Сумма купона, RUB  Погашение номинала, RUB  \n",
       "0                       7.1              4.649                      0.0  \n",
       "1                       7.1              3.540                      0.0  \n",
       "2                       7.1              3.540                      0.0  \n",
       "3                       7.1              3.540                      0.0  \n",
       "4                       7.1              3.540                      0.0  "
      ]
     },
     "execution_count": 11,
     "metadata": {},
     "output_type": "execute_result"
    }
   ],
   "source": [
    "bonds_payments.head()"
   ]
  },
  {
   "cell_type": "markdown",
   "metadata": {},
   "source": [
    "# Exporting accrued interest"
   ]
  },
  {
   "cell_type": "code",
   "execution_count": 152,
   "metadata": {},
   "outputs": [],
   "source": [
    "list_of_accint = []\n",
    "\n",
    "for i in range(len(ISIN)):\n",
    "    list_of_accint.append(bonds_quotes_dict[ISIN[i]]['НКД'])"
   ]
  },
  {
   "cell_type": "code",
   "execution_count": 153,
   "metadata": {},
   "outputs": [],
   "source": [
    "bonds_accint = pd.concat(list_of_accint, axis = 1)\n",
    "bonds_accint.columns = ISIN"
   ]
  },
  {
   "cell_type": "code",
   "execution_count": 154,
   "metadata": {},
   "outputs": [],
   "source": [
    "bonds_accint.index.names = ['TRADEDATE']"
   ]
  },
  {
   "cell_type": "code",
   "execution_count": 385,
   "metadata": {},
   "outputs": [
    {
     "data": {
      "text/html": [
       "<div>\n",
       "<style scoped>\n",
       "    .dataframe tbody tr th:only-of-type {\n",
       "        vertical-align: middle;\n",
       "    }\n",
       "\n",
       "    .dataframe tbody tr th {\n",
       "        vertical-align: top;\n",
       "    }\n",
       "\n",
       "    .dataframe thead th {\n",
       "        text-align: right;\n",
       "    }\n",
       "</style>\n",
       "<table border=\"1\" class=\"dataframe\">\n",
       "  <thead>\n",
       "    <tr style=\"text-align: right;\">\n",
       "      <th></th>\n",
       "      <th>Номер бумаги</th>\n",
       "      <th>ISIN</th>\n",
       "      <th>Номер платежа</th>\n",
       "      <th>Дата фактической выплаты</th>\n",
       "      <th>Ставка купона, % годовых</th>\n",
       "      <th>Сумма купона, RUB</th>\n",
       "      <th>Погашение номинала, RUB</th>\n",
       "    </tr>\n",
       "  </thead>\n",
       "  <tbody>\n",
       "    <tr>\n",
       "      <th>0</th>\n",
       "      <td>1</td>\n",
       "      <td>RU000A0JR779</td>\n",
       "      <td>1</td>\n",
       "      <td>2011-09-15</td>\n",
       "      <td>7.1</td>\n",
       "      <td>46.49</td>\n",
       "      <td>0.0</td>\n",
       "    </tr>\n",
       "    <tr>\n",
       "      <th>1</th>\n",
       "      <td>1</td>\n",
       "      <td>RU000A0JR779</td>\n",
       "      <td>2</td>\n",
       "      <td>2012-03-15</td>\n",
       "      <td>7.1</td>\n",
       "      <td>35.40</td>\n",
       "      <td>0.0</td>\n",
       "    </tr>\n",
       "    <tr>\n",
       "      <th>2</th>\n",
       "      <td>1</td>\n",
       "      <td>RU000A0JR779</td>\n",
       "      <td>3</td>\n",
       "      <td>2012-09-13</td>\n",
       "      <td>7.1</td>\n",
       "      <td>35.40</td>\n",
       "      <td>0.0</td>\n",
       "    </tr>\n",
       "    <tr>\n",
       "      <th>3</th>\n",
       "      <td>1</td>\n",
       "      <td>RU000A0JR779</td>\n",
       "      <td>4</td>\n",
       "      <td>2013-03-14</td>\n",
       "      <td>7.1</td>\n",
       "      <td>35.40</td>\n",
       "      <td>0.0</td>\n",
       "    </tr>\n",
       "    <tr>\n",
       "      <th>4</th>\n",
       "      <td>1</td>\n",
       "      <td>RU000A0JR779</td>\n",
       "      <td>5</td>\n",
       "      <td>2013-09-12</td>\n",
       "      <td>7.1</td>\n",
       "      <td>35.40</td>\n",
       "      <td>0.0</td>\n",
       "    </tr>\n",
       "    <tr>\n",
       "      <th>5</th>\n",
       "      <td>1</td>\n",
       "      <td>RU000A0JR779</td>\n",
       "      <td>6</td>\n",
       "      <td>2014-03-13</td>\n",
       "      <td>7.1</td>\n",
       "      <td>35.40</td>\n",
       "      <td>1000.0</td>\n",
       "    </tr>\n",
       "    <tr>\n",
       "      <th>6</th>\n",
       "      <td>2</td>\n",
       "      <td>RU000A0JQAE3</td>\n",
       "      <td>1</td>\n",
       "      <td>2010-02-24</td>\n",
       "      <td>12.0</td>\n",
       "      <td>59.84</td>\n",
       "      <td>0.0</td>\n",
       "    </tr>\n",
       "    <tr>\n",
       "      <th>7</th>\n",
       "      <td>2</td>\n",
       "      <td>RU000A0JQAE3</td>\n",
       "      <td>2</td>\n",
       "      <td>2010-08-25</td>\n",
       "      <td>12.0</td>\n",
       "      <td>59.84</td>\n",
       "      <td>0.0</td>\n",
       "    </tr>\n",
       "    <tr>\n",
       "      <th>8</th>\n",
       "      <td>2</td>\n",
       "      <td>RU000A0JQAE3</td>\n",
       "      <td>3</td>\n",
       "      <td>2011-02-23</td>\n",
       "      <td>12.0</td>\n",
       "      <td>59.84</td>\n",
       "      <td>0.0</td>\n",
       "    </tr>\n",
       "    <tr>\n",
       "      <th>9</th>\n",
       "      <td>2</td>\n",
       "      <td>RU000A0JQAE3</td>\n",
       "      <td>4</td>\n",
       "      <td>2011-08-24</td>\n",
       "      <td>12.0</td>\n",
       "      <td>59.84</td>\n",
       "      <td>0.0</td>\n",
       "    </tr>\n",
       "    <tr>\n",
       "      <th>10</th>\n",
       "      <td>2</td>\n",
       "      <td>RU000A0JQAE3</td>\n",
       "      <td>5</td>\n",
       "      <td>2012-02-22</td>\n",
       "      <td>12.0</td>\n",
       "      <td>59.84</td>\n",
       "      <td>0.0</td>\n",
       "    </tr>\n",
       "    <tr>\n",
       "      <th>11</th>\n",
       "      <td>2</td>\n",
       "      <td>RU000A0JQAE3</td>\n",
       "      <td>6</td>\n",
       "      <td>2012-08-22</td>\n",
       "      <td>12.0</td>\n",
       "      <td>59.84</td>\n",
       "      <td>0.0</td>\n",
       "    </tr>\n",
       "    <tr>\n",
       "      <th>12</th>\n",
       "      <td>2</td>\n",
       "      <td>RU000A0JQAE3</td>\n",
       "      <td>7</td>\n",
       "      <td>2013-02-20</td>\n",
       "      <td>12.0</td>\n",
       "      <td>59.84</td>\n",
       "      <td>0.0</td>\n",
       "    </tr>\n",
       "    <tr>\n",
       "      <th>13</th>\n",
       "      <td>2</td>\n",
       "      <td>RU000A0JQAE3</td>\n",
       "      <td>8</td>\n",
       "      <td>2013-08-21</td>\n",
       "      <td>12.0</td>\n",
       "      <td>59.84</td>\n",
       "      <td>0.0</td>\n",
       "    </tr>\n",
       "    <tr>\n",
       "      <th>14</th>\n",
       "      <td>2</td>\n",
       "      <td>RU000A0JQAE3</td>\n",
       "      <td>9</td>\n",
       "      <td>2014-02-19</td>\n",
       "      <td>12.0</td>\n",
       "      <td>59.84</td>\n",
       "      <td>0.0</td>\n",
       "    </tr>\n",
       "    <tr>\n",
       "      <th>15</th>\n",
       "      <td>2</td>\n",
       "      <td>RU000A0JQAE3</td>\n",
       "      <td>10</td>\n",
       "      <td>2014-08-20</td>\n",
       "      <td>12.0</td>\n",
       "      <td>59.84</td>\n",
       "      <td>1000.0</td>\n",
       "    </tr>\n",
       "    <tr>\n",
       "      <th>16</th>\n",
       "      <td>3</td>\n",
       "      <td>RU000A0JQLL5</td>\n",
       "      <td>1</td>\n",
       "      <td>2010-06-02</td>\n",
       "      <td>8.1</td>\n",
       "      <td>40.39</td>\n",
       "      <td>0.0</td>\n",
       "    </tr>\n",
       "    <tr>\n",
       "      <th>17</th>\n",
       "      <td>3</td>\n",
       "      <td>RU000A0JQLL5</td>\n",
       "      <td>2</td>\n",
       "      <td>2010-12-01</td>\n",
       "      <td>8.1</td>\n",
       "      <td>40.39</td>\n",
       "      <td>0.0</td>\n",
       "    </tr>\n",
       "    <tr>\n",
       "      <th>18</th>\n",
       "      <td>3</td>\n",
       "      <td>RU000A0JQLL5</td>\n",
       "      <td>3</td>\n",
       "      <td>2011-06-01</td>\n",
       "      <td>8.1</td>\n",
       "      <td>40.39</td>\n",
       "      <td>0.0</td>\n",
       "    </tr>\n",
       "    <tr>\n",
       "      <th>19</th>\n",
       "      <td>3</td>\n",
       "      <td>RU000A0JQLL5</td>\n",
       "      <td>4</td>\n",
       "      <td>2011-11-30</td>\n",
       "      <td>8.1</td>\n",
       "      <td>40.39</td>\n",
       "      <td>0.0</td>\n",
       "    </tr>\n",
       "  </tbody>\n",
       "</table>\n",
       "</div>"
      ],
      "text/plain": [
       "    Номер бумаги          ISIN  Номер платежа Дата фактической выплаты  \\\n",
       "0              1  RU000A0JR779              1               2011-09-15   \n",
       "1              1  RU000A0JR779              2               2012-03-15   \n",
       "2              1  RU000A0JR779              3               2012-09-13   \n",
       "3              1  RU000A0JR779              4               2013-03-14   \n",
       "4              1  RU000A0JR779              5               2013-09-12   \n",
       "5              1  RU000A0JR779              6               2014-03-13   \n",
       "6              2  RU000A0JQAE3              1               2010-02-24   \n",
       "7              2  RU000A0JQAE3              2               2010-08-25   \n",
       "8              2  RU000A0JQAE3              3               2011-02-23   \n",
       "9              2  RU000A0JQAE3              4               2011-08-24   \n",
       "10             2  RU000A0JQAE3              5               2012-02-22   \n",
       "11             2  RU000A0JQAE3              6               2012-08-22   \n",
       "12             2  RU000A0JQAE3              7               2013-02-20   \n",
       "13             2  RU000A0JQAE3              8               2013-08-21   \n",
       "14             2  RU000A0JQAE3              9               2014-02-19   \n",
       "15             2  RU000A0JQAE3             10               2014-08-20   \n",
       "16             3  RU000A0JQLL5              1               2010-06-02   \n",
       "17             3  RU000A0JQLL5              2               2010-12-01   \n",
       "18             3  RU000A0JQLL5              3               2011-06-01   \n",
       "19             3  RU000A0JQLL5              4               2011-11-30   \n",
       "\n",
       "    Ставка купона, % годовых  Сумма купона, RUB  Погашение номинала, RUB  \n",
       "0                        7.1              46.49                      0.0  \n",
       "1                        7.1              35.40                      0.0  \n",
       "2                        7.1              35.40                      0.0  \n",
       "3                        7.1              35.40                      0.0  \n",
       "4                        7.1              35.40                      0.0  \n",
       "5                        7.1              35.40                   1000.0  \n",
       "6                       12.0              59.84                      0.0  \n",
       "7                       12.0              59.84                      0.0  \n",
       "8                       12.0              59.84                      0.0  \n",
       "9                       12.0              59.84                      0.0  \n",
       "10                      12.0              59.84                      0.0  \n",
       "11                      12.0              59.84                      0.0  \n",
       "12                      12.0              59.84                      0.0  \n",
       "13                      12.0              59.84                      0.0  \n",
       "14                      12.0              59.84                      0.0  \n",
       "15                      12.0              59.84                   1000.0  \n",
       "16                       8.1              40.39                      0.0  \n",
       "17                       8.1              40.39                      0.0  \n",
       "18                       8.1              40.39                      0.0  \n",
       "19                       8.1              40.39                      0.0  "
      ]
     },
     "execution_count": 385,
     "metadata": {},
     "output_type": "execute_result"
    }
   ],
   "source": [
    "bonds_payments[:20]"
   ]
  },
  {
   "cell_type": "code",
   "execution_count": 390,
   "metadata": {},
   "outputs": [
    {
     "data": {
      "text/html": [
       "<div>\n",
       "<style scoped>\n",
       "    .dataframe tbody tr th:only-of-type {\n",
       "        vertical-align: middle;\n",
       "    }\n",
       "\n",
       "    .dataframe tbody tr th {\n",
       "        vertical-align: top;\n",
       "    }\n",
       "\n",
       "    .dataframe thead th {\n",
       "        text-align: right;\n",
       "    }\n",
       "</style>\n",
       "<table border=\"1\" class=\"dataframe\">\n",
       "  <thead>\n",
       "    <tr style=\"text-align: right;\">\n",
       "      <th></th>\n",
       "      <th>RU000A0JR779</th>\n",
       "      <th>RU000A0JQAE3</th>\n",
       "      <th>RU000A0JQLL5</th>\n",
       "      <th>RU000A0JQCL4</th>\n",
       "      <th>RU000A0JRHZ1</th>\n",
       "      <th>RU000A0JQYN4</th>\n",
       "      <th>RU000A0JR7G1</th>\n",
       "      <th>RU000A0JTWW3</th>\n",
       "      <th>RU000A0DY8K8</th>\n",
       "      <th>RU000A0JQZ18</th>\n",
       "      <th>RU000A0JS751</th>\n",
       "      <th>RU000A0JRJU8</th>\n",
       "      <th>RU000A0JTKZ1</th>\n",
       "      <th>RU000A0JRCJ6</th>\n",
       "      <th>RU000A0JP2S9</th>\n",
       "      <th>RU000A0JNHJ4</th>\n",
       "      <th>RU000A0JU9V1</th>\n",
       "      <th>RU000A0JTG59</th>\n",
       "      <th>RU000A0JTYA5</th>\n",
       "      <th>RU000A0JREQ7</th>\n",
       "      <th>RU000A0D0G29</th>\n",
       "      <th>RU000A0JSMA2</th>\n",
       "      <th>RU000A0JTJL3</th>\n",
       "      <th>RU000A0JPLH5</th>\n",
       "      <th>RU000A0JU4L3</th>\n",
       "      <th>RU000A0JRTL6</th>\n",
       "      <th>RU000A0JS3W6</th>\n",
       "      <th>RU000A0JTK38</th>\n",
       "      <th>RU0002868001</th>\n",
       "      <th>RU000A0JS4M5</th>\n",
       "      <th>RU000A0JVW30</th>\n",
       "      <th>RU000A0ZYCK6</th>\n",
       "      <th>RU000A0JXB41</th>\n",
       "      <th>RU000A101FA1</th>\n",
       "      <th>RU000A0ZYU88</th>\n",
       "      <th>RU000A1007F4</th>\n",
       "      <th>RU000A0JXQF2</th>\n",
       "      <th>RU000A101QE0</th>\n",
       "      <th>RU0002867854</th>\n",
       "      <th>RU000A100EG3</th>\n",
       "      <th>RU000A0JWM07</th>\n",
       "      <th>RU000A0ZZYW2</th>\n",
       "      <th>RU000A1014N4</th>\n",
       "      <th>RU000A0ZYUA9</th>\n",
       "      <th>RU000A100A82</th>\n",
       "      <th>RU000A0JVW48</th>\n",
       "      <th>RU000A0JXFM1</th>\n",
       "      <th>RU000A0ZYUB7</th>\n",
       "      <th>RU000A101F94</th>\n",
       "      <th>RU000A0GN9A7</th>\n",
       "      <th>RU000A100EF5</th>\n",
       "      <th>RU0002868076</th>\n",
       "      <th>RU0002867631</th>\n",
       "    </tr>\n",
       "    <tr>\n",
       "      <th>TRADEDATE</th>\n",
       "      <th></th>\n",
       "      <th></th>\n",
       "      <th></th>\n",
       "      <th></th>\n",
       "      <th></th>\n",
       "      <th></th>\n",
       "      <th></th>\n",
       "      <th></th>\n",
       "      <th></th>\n",
       "      <th></th>\n",
       "      <th></th>\n",
       "      <th></th>\n",
       "      <th></th>\n",
       "      <th></th>\n",
       "      <th></th>\n",
       "      <th></th>\n",
       "      <th></th>\n",
       "      <th></th>\n",
       "      <th></th>\n",
       "      <th></th>\n",
       "      <th></th>\n",
       "      <th></th>\n",
       "      <th></th>\n",
       "      <th></th>\n",
       "      <th></th>\n",
       "      <th></th>\n",
       "      <th></th>\n",
       "      <th></th>\n",
       "      <th></th>\n",
       "      <th></th>\n",
       "      <th></th>\n",
       "      <th></th>\n",
       "      <th></th>\n",
       "      <th></th>\n",
       "      <th></th>\n",
       "      <th></th>\n",
       "      <th></th>\n",
       "      <th></th>\n",
       "      <th></th>\n",
       "      <th></th>\n",
       "      <th></th>\n",
       "      <th></th>\n",
       "      <th></th>\n",
       "      <th></th>\n",
       "      <th></th>\n",
       "      <th></th>\n",
       "      <th></th>\n",
       "      <th></th>\n",
       "      <th></th>\n",
       "      <th></th>\n",
       "      <th></th>\n",
       "      <th></th>\n",
       "      <th></th>\n",
       "    </tr>\n",
       "  </thead>\n",
       "  <tbody>\n",
       "    <tr>\n",
       "      <th>2014-01-06</th>\n",
       "      <td>22.56</td>\n",
       "      <td>45.37</td>\n",
       "      <td>8.88</td>\n",
       "      <td>5.83</td>\n",
       "      <td>6.33</td>\n",
       "      <td>32.61</td>\n",
       "      <td>33.43</td>\n",
       "      <td>8.88</td>\n",
       "      <td>10.86</td>\n",
       "      <td>28.73</td>\n",
       "      <td>15.21</td>\n",
       "      <td>3.85</td>\n",
       "      <td>25.82</td>\n",
       "      <td>22.4</td>\n",
       "      <td>21.85</td>\n",
       "      <td>14.09</td>\n",
       "      <td>9.91</td>\n",
       "      <td>3.54</td>\n",
       "      <td>5.79</td>\n",
       "      <td>15.62</td>\n",
       "      <td>6.33</td>\n",
       "      <td>33.11</td>\n",
       "      <td>29.15</td>\n",
       "      <td>27.29</td>\n",
       "      <td>23.78</td>\n",
       "      <td>33.76</td>\n",
       "      <td>30.81</td>\n",
       "      <td>29.36</td>\n",
       "      <td>4.79</td>\n",
       "      <td>25.48</td>\n",
       "      <td>NaN</td>\n",
       "      <td>NaN</td>\n",
       "      <td>NaN</td>\n",
       "      <td>NaN</td>\n",
       "      <td>NaN</td>\n",
       "      <td>NaN</td>\n",
       "      <td>NaN</td>\n",
       "      <td>NaN</td>\n",
       "      <td>33.97</td>\n",
       "      <td>NaN</td>\n",
       "      <td>NaN</td>\n",
       "      <td>NaN</td>\n",
       "      <td>NaN</td>\n",
       "      <td>NaN</td>\n",
       "      <td>NaN</td>\n",
       "      <td>NaN</td>\n",
       "      <td>NaN</td>\n",
       "      <td>NaN</td>\n",
       "      <td>NaN</td>\n",
       "      <td>27.41</td>\n",
       "      <td>NaN</td>\n",
       "      <td>11.89</td>\n",
       "      <td>NaN</td>\n",
       "    </tr>\n",
       "    <tr>\n",
       "      <th>2014-01-08</th>\n",
       "      <td>22.95</td>\n",
       "      <td>46.03</td>\n",
       "      <td>9.32</td>\n",
       "      <td>6.44</td>\n",
       "      <td>6.71</td>\n",
       "      <td>32.99</td>\n",
       "      <td>33.83</td>\n",
       "      <td>9.21</td>\n",
       "      <td>11.22</td>\n",
       "      <td>29.11</td>\n",
       "      <td>15.61</td>\n",
       "      <td>4.26</td>\n",
       "      <td>26.16</td>\n",
       "      <td>22.81</td>\n",
       "      <td>22.15</td>\n",
       "      <td>14.19</td>\n",
       "      <td>10.28</td>\n",
       "      <td>3.91</td>\n",
       "      <td>6.14</td>\n",
       "      <td>16.03</td>\n",
       "      <td>6.71</td>\n",
       "      <td>33.52</td>\n",
       "      <td>29.53</td>\n",
       "      <td>27.62</td>\n",
       "      <td>24.16</td>\n",
       "      <td>34.2</td>\n",
       "      <td>31.26</td>\n",
       "      <td>29.75</td>\n",
       "      <td>4.88</td>\n",
       "      <td>25.89</td>\n",
       "      <td>NaN</td>\n",
       "      <td>NaN</td>\n",
       "      <td>NaN</td>\n",
       "      <td>NaN</td>\n",
       "      <td>NaN</td>\n",
       "      <td>NaN</td>\n",
       "      <td>NaN</td>\n",
       "      <td>NaN</td>\n",
       "      <td>34.52</td>\n",
       "      <td>NaN</td>\n",
       "      <td>NaN</td>\n",
       "      <td>NaN</td>\n",
       "      <td>NaN</td>\n",
       "      <td>NaN</td>\n",
       "      <td>NaN</td>\n",
       "      <td>NaN</td>\n",
       "      <td>NaN</td>\n",
       "      <td>NaN</td>\n",
       "      <td>NaN</td>\n",
       "      <td>27.79</td>\n",
       "      <td>NaN</td>\n",
       "      <td>12.08</td>\n",
       "      <td>NaN</td>\n",
       "    </tr>\n",
       "    <tr>\n",
       "      <th>2014-01-09</th>\n",
       "      <td>23.15</td>\n",
       "      <td>46.36</td>\n",
       "      <td>9.54</td>\n",
       "      <td>6.75</td>\n",
       "      <td>6.9</td>\n",
       "      <td>33.17</td>\n",
       "      <td>34.03</td>\n",
       "      <td>9.37</td>\n",
       "      <td>11.4</td>\n",
       "      <td>29.3</td>\n",
       "      <td>15.81</td>\n",
       "      <td>4.46</td>\n",
       "      <td>26.33</td>\n",
       "      <td>23.01</td>\n",
       "      <td>22.3</td>\n",
       "      <td>14.24</td>\n",
       "      <td>10.46</td>\n",
       "      <td>4.1</td>\n",
       "      <td>6.31</td>\n",
       "      <td>16.24</td>\n",
       "      <td>6.9</td>\n",
       "      <td>33.73</td>\n",
       "      <td>29.73</td>\n",
       "      <td>27.78</td>\n",
       "      <td>24.36</td>\n",
       "      <td>34.43</td>\n",
       "      <td>31.48</td>\n",
       "      <td>29.94</td>\n",
       "      <td>4.93</td>\n",
       "      <td>26.1</td>\n",
       "      <td>NaN</td>\n",
       "      <td>NaN</td>\n",
       "      <td>NaN</td>\n",
       "      <td>NaN</td>\n",
       "      <td>NaN</td>\n",
       "      <td>NaN</td>\n",
       "      <td>NaN</td>\n",
       "      <td>NaN</td>\n",
       "      <td>34.79</td>\n",
       "      <td>NaN</td>\n",
       "      <td>NaN</td>\n",
       "      <td>NaN</td>\n",
       "      <td>NaN</td>\n",
       "      <td>NaN</td>\n",
       "      <td>NaN</td>\n",
       "      <td>NaN</td>\n",
       "      <td>NaN</td>\n",
       "      <td>NaN</td>\n",
       "      <td>NaN</td>\n",
       "      <td>27.98</td>\n",
       "      <td>NaN</td>\n",
       "      <td>12.18</td>\n",
       "      <td>NaN</td>\n",
       "    </tr>\n",
       "    <tr>\n",
       "      <th>2014-01-10</th>\n",
       "      <td>23.34</td>\n",
       "      <td>46.68</td>\n",
       "      <td>9.76</td>\n",
       "      <td>7.06</td>\n",
       "      <td>7.1</td>\n",
       "      <td>33.36</td>\n",
       "      <td>34.23</td>\n",
       "      <td>9.53</td>\n",
       "      <td>11.58</td>\n",
       "      <td>29.49</td>\n",
       "      <td>16.02</td>\n",
       "      <td>4.66</td>\n",
       "      <td>26.5</td>\n",
       "      <td>23.22</td>\n",
       "      <td>22.45</td>\n",
       "      <td>14.29</td>\n",
       "      <td>10.65</td>\n",
       "      <td>4.28</td>\n",
       "      <td>6.49</td>\n",
       "      <td>16.45</td>\n",
       "      <td>7.1</td>\n",
       "      <td>33.94</td>\n",
       "      <td>29.92</td>\n",
       "      <td>27.95</td>\n",
       "      <td>24.55</td>\n",
       "      <td>34.65</td>\n",
       "      <td>31.71</td>\n",
       "      <td>30.13</td>\n",
       "      <td>4.97</td>\n",
       "      <td>26.3</td>\n",
       "      <td>NaN</td>\n",
       "      <td>NaN</td>\n",
       "      <td>NaN</td>\n",
       "      <td>NaN</td>\n",
       "      <td>NaN</td>\n",
       "      <td>NaN</td>\n",
       "      <td>NaN</td>\n",
       "      <td>NaN</td>\n",
       "      <td>35.07</td>\n",
       "      <td>NaN</td>\n",
       "      <td>NaN</td>\n",
       "      <td>NaN</td>\n",
       "      <td>NaN</td>\n",
       "      <td>NaN</td>\n",
       "      <td>NaN</td>\n",
       "      <td>NaN</td>\n",
       "      <td>NaN</td>\n",
       "      <td>NaN</td>\n",
       "      <td>NaN</td>\n",
       "      <td>28.17</td>\n",
       "      <td>NaN</td>\n",
       "      <td>12.27</td>\n",
       "      <td>NaN</td>\n",
       "    </tr>\n",
       "    <tr>\n",
       "      <th>2014-01-13</th>\n",
       "      <td>23.93</td>\n",
       "      <td>47.67</td>\n",
       "      <td>10.43</td>\n",
       "      <td>7.98</td>\n",
       "      <td>7.67</td>\n",
       "      <td>33.93</td>\n",
       "      <td>34.84</td>\n",
       "      <td>10.03</td>\n",
       "      <td>12.11</td>\n",
       "      <td>30.06</td>\n",
       "      <td>16.62</td>\n",
       "      <td>5.27</td>\n",
       "      <td>27.01</td>\n",
       "      <td>23.84</td>\n",
       "      <td>22.9</td>\n",
       "      <td>14.44</td>\n",
       "      <td>11.2</td>\n",
       "      <td>4.84</td>\n",
       "      <td>7.01</td>\n",
       "      <td>17.07</td>\n",
       "      <td>7.67</td>\n",
       "      <td>34.56</td>\n",
       "      <td>30.49</td>\n",
       "      <td>28.44</td>\n",
       "      <td>25.12</td>\n",
       "      <td>35.32</td>\n",
       "      <td>32.38</td>\n",
       "      <td>30.71</td>\n",
       "      <td>5.11</td>\n",
       "      <td>26.92</td>\n",
       "      <td>NaN</td>\n",
       "      <td>NaN</td>\n",
       "      <td>NaN</td>\n",
       "      <td>NaN</td>\n",
       "      <td>NaN</td>\n",
       "      <td>NaN</td>\n",
       "      <td>NaN</td>\n",
       "      <td>NaN</td>\n",
       "      <td>35.89</td>\n",
       "      <td>NaN</td>\n",
       "      <td>NaN</td>\n",
       "      <td>NaN</td>\n",
       "      <td>NaN</td>\n",
       "      <td>NaN</td>\n",
       "      <td>NaN</td>\n",
       "      <td>NaN</td>\n",
       "      <td>NaN</td>\n",
       "      <td>NaN</td>\n",
       "      <td>NaN</td>\n",
       "      <td>28.73</td>\n",
       "      <td>NaN</td>\n",
       "      <td>12.56</td>\n",
       "      <td>NaN</td>\n",
       "    </tr>\n",
       "    <tr>\n",
       "      <th>2014-01-14</th>\n",
       "      <td>24.12</td>\n",
       "      <td>48</td>\n",
       "      <td>10.65</td>\n",
       "      <td>8.28</td>\n",
       "      <td>7.86</td>\n",
       "      <td>34.12</td>\n",
       "      <td>35.04</td>\n",
       "      <td>10.19</td>\n",
       "      <td>12.29</td>\n",
       "      <td>30.25</td>\n",
       "      <td>16.83</td>\n",
       "      <td>5.47</td>\n",
       "      <td>27.18</td>\n",
       "      <td>24.04</td>\n",
       "      <td>23.05</td>\n",
       "      <td>14.49</td>\n",
       "      <td>11.38</td>\n",
       "      <td>5.03</td>\n",
       "      <td>7.19</td>\n",
       "      <td>17.28</td>\n",
       "      <td>7.86</td>\n",
       "      <td>34.77</td>\n",
       "      <td>30.68</td>\n",
       "      <td>28.6</td>\n",
       "      <td>25.32</td>\n",
       "      <td>35.55</td>\n",
       "      <td>32.6</td>\n",
       "      <td>30.9</td>\n",
       "      <td>5.16</td>\n",
       "      <td>27.12</td>\n",
       "      <td>NaN</td>\n",
       "      <td>NaN</td>\n",
       "      <td>NaN</td>\n",
       "      <td>NaN</td>\n",
       "      <td>NaN</td>\n",
       "      <td>NaN</td>\n",
       "      <td>NaN</td>\n",
       "      <td>NaN</td>\n",
       "      <td>36.16</td>\n",
       "      <td>NaN</td>\n",
       "      <td>NaN</td>\n",
       "      <td>NaN</td>\n",
       "      <td>NaN</td>\n",
       "      <td>NaN</td>\n",
       "      <td>NaN</td>\n",
       "      <td>NaN</td>\n",
       "      <td>NaN</td>\n",
       "      <td>NaN</td>\n",
       "      <td>NaN</td>\n",
       "      <td>28.92</td>\n",
       "      <td>NaN</td>\n",
       "      <td>12.66</td>\n",
       "      <td>NaN</td>\n",
       "    </tr>\n",
       "    <tr>\n",
       "      <th>2014-01-15</th>\n",
       "      <td>24.32</td>\n",
       "      <td>48.33</td>\n",
       "      <td>10.87</td>\n",
       "      <td>8.59</td>\n",
       "      <td>8.05</td>\n",
       "      <td>NaN</td>\n",
       "      <td>35.24</td>\n",
       "      <td>10.36</td>\n",
       "      <td>12.47</td>\n",
       "      <td>30.44</td>\n",
       "      <td>17.03</td>\n",
       "      <td>5.68</td>\n",
       "      <td>27.35</td>\n",
       "      <td>24.25</td>\n",
       "      <td>23.21</td>\n",
       "      <td>14.53</td>\n",
       "      <td>11.56</td>\n",
       "      <td>5.22</td>\n",
       "      <td>7.36</td>\n",
       "      <td>17.49</td>\n",
       "      <td>8.05</td>\n",
       "      <td>34.98</td>\n",
       "      <td>30.88</td>\n",
       "      <td>28.77</td>\n",
       "      <td>25.51</td>\n",
       "      <td>35.77</td>\n",
       "      <td>32.82</td>\n",
       "      <td>31.1</td>\n",
       "      <td>5.21</td>\n",
       "      <td>27.33</td>\n",
       "      <td>NaN</td>\n",
       "      <td>NaN</td>\n",
       "      <td>NaN</td>\n",
       "      <td>NaN</td>\n",
       "      <td>NaN</td>\n",
       "      <td>NaN</td>\n",
       "      <td>NaN</td>\n",
       "      <td>NaN</td>\n",
       "      <td>36.44</td>\n",
       "      <td>NaN</td>\n",
       "      <td>NaN</td>\n",
       "      <td>NaN</td>\n",
       "      <td>NaN</td>\n",
       "      <td>NaN</td>\n",
       "      <td>NaN</td>\n",
       "      <td>NaN</td>\n",
       "      <td>NaN</td>\n",
       "      <td>NaN</td>\n",
       "      <td>NaN</td>\n",
       "      <td>29.11</td>\n",
       "      <td>NaN</td>\n",
       "      <td>12.75</td>\n",
       "      <td>NaN</td>\n",
       "    </tr>\n",
       "    <tr>\n",
       "      <th>2014-01-16</th>\n",
       "      <td>24.51</td>\n",
       "      <td>48.66</td>\n",
       "      <td>11.1</td>\n",
       "      <td>8.9</td>\n",
       "      <td>8.25</td>\n",
       "      <td>0.19</td>\n",
       "      <td>35.44</td>\n",
       "      <td>10.52</td>\n",
       "      <td>12.64</td>\n",
       "      <td>30.62</td>\n",
       "      <td>17.23</td>\n",
       "      <td>5.88</td>\n",
       "      <td>27.52</td>\n",
       "      <td>24.45</td>\n",
       "      <td>23.36</td>\n",
       "      <td>14.58</td>\n",
       "      <td>11.75</td>\n",
       "      <td>5.4</td>\n",
       "      <td>7.54</td>\n",
       "      <td>17.7</td>\n",
       "      <td>8.25</td>\n",
       "      <td>35.19</td>\n",
       "      <td>31.07</td>\n",
       "      <td>28.93</td>\n",
       "      <td>25.7</td>\n",
       "      <td>35.99</td>\n",
       "      <td>33.05</td>\n",
       "      <td>31.29</td>\n",
       "      <td>5.25</td>\n",
       "      <td>27.53</td>\n",
       "      <td>NaN</td>\n",
       "      <td>NaN</td>\n",
       "      <td>NaN</td>\n",
       "      <td>NaN</td>\n",
       "      <td>NaN</td>\n",
       "      <td>NaN</td>\n",
       "      <td>NaN</td>\n",
       "      <td>NaN</td>\n",
       "      <td>36.71</td>\n",
       "      <td>NaN</td>\n",
       "      <td>NaN</td>\n",
       "      <td>NaN</td>\n",
       "      <td>NaN</td>\n",
       "      <td>NaN</td>\n",
       "      <td>NaN</td>\n",
       "      <td>NaN</td>\n",
       "      <td>NaN</td>\n",
       "      <td>NaN</td>\n",
       "      <td>NaN</td>\n",
       "      <td>29.3</td>\n",
       "      <td>NaN</td>\n",
       "      <td>12.85</td>\n",
       "      <td>NaN</td>\n",
       "    </tr>\n",
       "    <tr>\n",
       "      <th>2014-01-17</th>\n",
       "      <td>24.7</td>\n",
       "      <td>48.99</td>\n",
       "      <td>11.32</td>\n",
       "      <td>9.21</td>\n",
       "      <td>8.44</td>\n",
       "      <td>0.38</td>\n",
       "      <td>35.64</td>\n",
       "      <td>10.68</td>\n",
       "      <td>12.82</td>\n",
       "      <td>30.81</td>\n",
       "      <td>17.44</td>\n",
       "      <td>6.08</td>\n",
       "      <td>27.69</td>\n",
       "      <td>24.66</td>\n",
       "      <td>23.51</td>\n",
       "      <td>14.63</td>\n",
       "      <td>11.93</td>\n",
       "      <td>5.59</td>\n",
       "      <td>7.72</td>\n",
       "      <td>17.91</td>\n",
       "      <td>8.44</td>\n",
       "      <td>35.4</td>\n",
       "      <td>31.26</td>\n",
       "      <td>29.1</td>\n",
       "      <td>25.89</td>\n",
       "      <td>36.22</td>\n",
       "      <td>33.27</td>\n",
       "      <td>31.48</td>\n",
       "      <td>5.3</td>\n",
       "      <td>27.74</td>\n",
       "      <td>NaN</td>\n",
       "      <td>NaN</td>\n",
       "      <td>NaN</td>\n",
       "      <td>NaN</td>\n",
       "      <td>NaN</td>\n",
       "      <td>NaN</td>\n",
       "      <td>NaN</td>\n",
       "      <td>NaN</td>\n",
       "      <td>36.99</td>\n",
       "      <td>NaN</td>\n",
       "      <td>NaN</td>\n",
       "      <td>NaN</td>\n",
       "      <td>NaN</td>\n",
       "      <td>NaN</td>\n",
       "      <td>NaN</td>\n",
       "      <td>NaN</td>\n",
       "      <td>NaN</td>\n",
       "      <td>NaN</td>\n",
       "      <td>NaN</td>\n",
       "      <td>29.49</td>\n",
       "      <td>NaN</td>\n",
       "      <td>12.95</td>\n",
       "      <td>NaN</td>\n",
       "    </tr>\n",
       "    <tr>\n",
       "      <th>2014-01-20</th>\n",
       "      <td>25.29</td>\n",
       "      <td>49.97</td>\n",
       "      <td>11.98</td>\n",
       "      <td>10.13</td>\n",
       "      <td>9.01</td>\n",
       "      <td>0.94</td>\n",
       "      <td>36.25</td>\n",
       "      <td>11.18</td>\n",
       "      <td>13.36</td>\n",
       "      <td>31.38</td>\n",
       "      <td>18.04</td>\n",
       "      <td>6.69</td>\n",
       "      <td>28.2</td>\n",
       "      <td>25.27</td>\n",
       "      <td>23.96</td>\n",
       "      <td>14.78</td>\n",
       "      <td>12.48</td>\n",
       "      <td>6.15</td>\n",
       "      <td>8.24</td>\n",
       "      <td>18.53</td>\n",
       "      <td>9.01</td>\n",
       "      <td>36.02</td>\n",
       "      <td>31.84</td>\n",
       "      <td>29.59</td>\n",
       "      <td>26.47</td>\n",
       "      <td>36.89</td>\n",
       "      <td>33.94</td>\n",
       "      <td>32.06</td>\n",
       "      <td>5.44</td>\n",
       "      <td>28.36</td>\n",
       "      <td>NaN</td>\n",
       "      <td>NaN</td>\n",
       "      <td>NaN</td>\n",
       "      <td>NaN</td>\n",
       "      <td>NaN</td>\n",
       "      <td>NaN</td>\n",
       "      <td>NaN</td>\n",
       "      <td>NaN</td>\n",
       "      <td>37.81</td>\n",
       "      <td>NaN</td>\n",
       "      <td>NaN</td>\n",
       "      <td>NaN</td>\n",
       "      <td>NaN</td>\n",
       "      <td>NaN</td>\n",
       "      <td>NaN</td>\n",
       "      <td>NaN</td>\n",
       "      <td>NaN</td>\n",
       "      <td>NaN</td>\n",
       "      <td>NaN</td>\n",
       "      <td>30.06</td>\n",
       "      <td>NaN</td>\n",
       "      <td>13.23</td>\n",
       "      <td>NaN</td>\n",
       "    </tr>\n",
       "  </tbody>\n",
       "</table>\n",
       "</div>"
      ],
      "text/plain": [
       "           RU000A0JR779 RU000A0JQAE3 RU000A0JQLL5 RU000A0JQCL4 RU000A0JRHZ1  \\\n",
       "TRADEDATE                                                                     \n",
       "2014-01-06        22.56        45.37         8.88         5.83         6.33   \n",
       "2014-01-08        22.95        46.03         9.32         6.44         6.71   \n",
       "2014-01-09        23.15        46.36         9.54         6.75          6.9   \n",
       "2014-01-10        23.34        46.68         9.76         7.06          7.1   \n",
       "2014-01-13        23.93        47.67        10.43         7.98         7.67   \n",
       "2014-01-14        24.12           48        10.65         8.28         7.86   \n",
       "2014-01-15        24.32        48.33        10.87         8.59         8.05   \n",
       "2014-01-16        24.51        48.66         11.1          8.9         8.25   \n",
       "2014-01-17         24.7        48.99        11.32         9.21         8.44   \n",
       "2014-01-20        25.29        49.97        11.98        10.13         9.01   \n",
       "\n",
       "           RU000A0JQYN4 RU000A0JR7G1 RU000A0JTWW3 RU000A0DY8K8 RU000A0JQZ18  \\\n",
       "TRADEDATE                                                                     \n",
       "2014-01-06        32.61        33.43         8.88        10.86        28.73   \n",
       "2014-01-08        32.99        33.83         9.21        11.22        29.11   \n",
       "2014-01-09        33.17        34.03         9.37         11.4         29.3   \n",
       "2014-01-10        33.36        34.23         9.53        11.58        29.49   \n",
       "2014-01-13        33.93        34.84        10.03        12.11        30.06   \n",
       "2014-01-14        34.12        35.04        10.19        12.29        30.25   \n",
       "2014-01-15          NaN        35.24        10.36        12.47        30.44   \n",
       "2014-01-16         0.19        35.44        10.52        12.64        30.62   \n",
       "2014-01-17         0.38        35.64        10.68        12.82        30.81   \n",
       "2014-01-20         0.94        36.25        11.18        13.36        31.38   \n",
       "\n",
       "           RU000A0JS751 RU000A0JRJU8 RU000A0JTKZ1 RU000A0JRCJ6 RU000A0JP2S9  \\\n",
       "TRADEDATE                                                                     \n",
       "2014-01-06        15.21         3.85        25.82         22.4        21.85   \n",
       "2014-01-08        15.61         4.26        26.16        22.81        22.15   \n",
       "2014-01-09        15.81         4.46        26.33        23.01         22.3   \n",
       "2014-01-10        16.02         4.66         26.5        23.22        22.45   \n",
       "2014-01-13        16.62         5.27        27.01        23.84         22.9   \n",
       "2014-01-14        16.83         5.47        27.18        24.04        23.05   \n",
       "2014-01-15        17.03         5.68        27.35        24.25        23.21   \n",
       "2014-01-16        17.23         5.88        27.52        24.45        23.36   \n",
       "2014-01-17        17.44         6.08        27.69        24.66        23.51   \n",
       "2014-01-20        18.04         6.69         28.2        25.27        23.96   \n",
       "\n",
       "           RU000A0JNHJ4 RU000A0JU9V1 RU000A0JTG59 RU000A0JTYA5 RU000A0JREQ7  \\\n",
       "TRADEDATE                                                                     \n",
       "2014-01-06        14.09         9.91         3.54         5.79        15.62   \n",
       "2014-01-08        14.19        10.28         3.91         6.14        16.03   \n",
       "2014-01-09        14.24        10.46          4.1         6.31        16.24   \n",
       "2014-01-10        14.29        10.65         4.28         6.49        16.45   \n",
       "2014-01-13        14.44         11.2         4.84         7.01        17.07   \n",
       "2014-01-14        14.49        11.38         5.03         7.19        17.28   \n",
       "2014-01-15        14.53        11.56         5.22         7.36        17.49   \n",
       "2014-01-16        14.58        11.75          5.4         7.54         17.7   \n",
       "2014-01-17        14.63        11.93         5.59         7.72        17.91   \n",
       "2014-01-20        14.78        12.48         6.15         8.24        18.53   \n",
       "\n",
       "           RU000A0D0G29 RU000A0JSMA2 RU000A0JTJL3 RU000A0JPLH5 RU000A0JU4L3  \\\n",
       "TRADEDATE                                                                     \n",
       "2014-01-06         6.33        33.11        29.15        27.29        23.78   \n",
       "2014-01-08         6.71        33.52        29.53        27.62        24.16   \n",
       "2014-01-09          6.9        33.73        29.73        27.78        24.36   \n",
       "2014-01-10          7.1        33.94        29.92        27.95        24.55   \n",
       "2014-01-13         7.67        34.56        30.49        28.44        25.12   \n",
       "2014-01-14         7.86        34.77        30.68         28.6        25.32   \n",
       "2014-01-15         8.05        34.98        30.88        28.77        25.51   \n",
       "2014-01-16         8.25        35.19        31.07        28.93         25.7   \n",
       "2014-01-17         8.44         35.4        31.26         29.1        25.89   \n",
       "2014-01-20         9.01        36.02        31.84        29.59        26.47   \n",
       "\n",
       "           RU000A0JRTL6 RU000A0JS3W6 RU000A0JTK38 RU0002868001 RU000A0JS4M5  \\\n",
       "TRADEDATE                                                                     \n",
       "2014-01-06        33.76        30.81        29.36         4.79        25.48   \n",
       "2014-01-08         34.2        31.26        29.75         4.88        25.89   \n",
       "2014-01-09        34.43        31.48        29.94         4.93         26.1   \n",
       "2014-01-10        34.65        31.71        30.13         4.97         26.3   \n",
       "2014-01-13        35.32        32.38        30.71         5.11        26.92   \n",
       "2014-01-14        35.55         32.6         30.9         5.16        27.12   \n",
       "2014-01-15        35.77        32.82         31.1         5.21        27.33   \n",
       "2014-01-16        35.99        33.05        31.29         5.25        27.53   \n",
       "2014-01-17        36.22        33.27        31.48          5.3        27.74   \n",
       "2014-01-20        36.89        33.94        32.06         5.44        28.36   \n",
       "\n",
       "           RU000A0JVW30 RU000A0ZYCK6 RU000A0JXB41 RU000A101FA1 RU000A0ZYU88  \\\n",
       "TRADEDATE                                                                     \n",
       "2014-01-06          NaN          NaN          NaN          NaN          NaN   \n",
       "2014-01-08          NaN          NaN          NaN          NaN          NaN   \n",
       "2014-01-09          NaN          NaN          NaN          NaN          NaN   \n",
       "2014-01-10          NaN          NaN          NaN          NaN          NaN   \n",
       "2014-01-13          NaN          NaN          NaN          NaN          NaN   \n",
       "2014-01-14          NaN          NaN          NaN          NaN          NaN   \n",
       "2014-01-15          NaN          NaN          NaN          NaN          NaN   \n",
       "2014-01-16          NaN          NaN          NaN          NaN          NaN   \n",
       "2014-01-17          NaN          NaN          NaN          NaN          NaN   \n",
       "2014-01-20          NaN          NaN          NaN          NaN          NaN   \n",
       "\n",
       "           RU000A1007F4 RU000A0JXQF2 RU000A101QE0 RU0002867854 RU000A100EG3  \\\n",
       "TRADEDATE                                                                     \n",
       "2014-01-06          NaN          NaN          NaN        33.97          NaN   \n",
       "2014-01-08          NaN          NaN          NaN        34.52          NaN   \n",
       "2014-01-09          NaN          NaN          NaN        34.79          NaN   \n",
       "2014-01-10          NaN          NaN          NaN        35.07          NaN   \n",
       "2014-01-13          NaN          NaN          NaN        35.89          NaN   \n",
       "2014-01-14          NaN          NaN          NaN        36.16          NaN   \n",
       "2014-01-15          NaN          NaN          NaN        36.44          NaN   \n",
       "2014-01-16          NaN          NaN          NaN        36.71          NaN   \n",
       "2014-01-17          NaN          NaN          NaN        36.99          NaN   \n",
       "2014-01-20          NaN          NaN          NaN        37.81          NaN   \n",
       "\n",
       "           RU000A0JWM07 RU000A0ZZYW2 RU000A1014N4 RU000A0ZYUA9 RU000A100A82  \\\n",
       "TRADEDATE                                                                     \n",
       "2014-01-06          NaN          NaN          NaN          NaN          NaN   \n",
       "2014-01-08          NaN          NaN          NaN          NaN          NaN   \n",
       "2014-01-09          NaN          NaN          NaN          NaN          NaN   \n",
       "2014-01-10          NaN          NaN          NaN          NaN          NaN   \n",
       "2014-01-13          NaN          NaN          NaN          NaN          NaN   \n",
       "2014-01-14          NaN          NaN          NaN          NaN          NaN   \n",
       "2014-01-15          NaN          NaN          NaN          NaN          NaN   \n",
       "2014-01-16          NaN          NaN          NaN          NaN          NaN   \n",
       "2014-01-17          NaN          NaN          NaN          NaN          NaN   \n",
       "2014-01-20          NaN          NaN          NaN          NaN          NaN   \n",
       "\n",
       "           RU000A0JVW48 RU000A0JXFM1 RU000A0ZYUB7 RU000A101F94 RU000A0GN9A7  \\\n",
       "TRADEDATE                                                                     \n",
       "2014-01-06          NaN          NaN          NaN          NaN        27.41   \n",
       "2014-01-08          NaN          NaN          NaN          NaN        27.79   \n",
       "2014-01-09          NaN          NaN          NaN          NaN        27.98   \n",
       "2014-01-10          NaN          NaN          NaN          NaN        28.17   \n",
       "2014-01-13          NaN          NaN          NaN          NaN        28.73   \n",
       "2014-01-14          NaN          NaN          NaN          NaN        28.92   \n",
       "2014-01-15          NaN          NaN          NaN          NaN        29.11   \n",
       "2014-01-16          NaN          NaN          NaN          NaN         29.3   \n",
       "2014-01-17          NaN          NaN          NaN          NaN        29.49   \n",
       "2014-01-20          NaN          NaN          NaN          NaN        30.06   \n",
       "\n",
       "           RU000A100EF5 RU0002868076 RU0002867631  \n",
       "TRADEDATE                                          \n",
       "2014-01-06          NaN        11.89          NaN  \n",
       "2014-01-08          NaN        12.08          NaN  \n",
       "2014-01-09          NaN        12.18          NaN  \n",
       "2014-01-10          NaN        12.27          NaN  \n",
       "2014-01-13          NaN        12.56          NaN  \n",
       "2014-01-14          NaN        12.66          NaN  \n",
       "2014-01-15          NaN        12.75          NaN  \n",
       "2014-01-16          NaN        12.85          NaN  \n",
       "2014-01-17          NaN        12.95          NaN  \n",
       "2014-01-20          NaN        13.23          NaN  "
      ]
     },
     "execution_count": 390,
     "metadata": {},
     "output_type": "execute_result"
    }
   ],
   "source": [
    "bonds_accint[:10]"
   ]
  },
  {
   "cell_type": "markdown",
   "metadata": {},
   "source": [
    "### Correcting bugs in data"
   ]
  },
  {
   "cell_type": "code",
   "execution_count": 403,
   "metadata": {},
   "outputs": [],
   "source": [
    "for i in range(bonds_payments_after_2014.shape[0]):\n",
    "    i_ISIN = bonds_payments_after_2014.ISIN.iloc[i]\n",
    "    i_coupon = bonds_payments_after_2014['Сумма купона, RUB'].iloc[i]\n",
    "    i_date = bonds_payments_after_2014['Дата фактической выплаты'].iloc[i]\n",
    "#    print(i_ISIN, i_coupon, i_date)\n",
    "    bonds_accint.at[i_date, i_ISIN] = i_coupon"
   ]
  },
  {
   "cell_type": "code",
   "execution_count": 407,
   "metadata": {},
   "outputs": [],
   "source": [
    "bonds_accint.at[dt.datetime(year = 2016, month = 12, day = 29), 'RU000A0JVW30'] = 26.1"
   ]
  },
  {
   "cell_type": "code",
   "execution_count": 425,
   "metadata": {},
   "outputs": [],
   "source": [
    "bonds_accint[ISIN[52]] = 0"
   ]
  },
  {
   "cell_type": "code",
   "execution_count": 468,
   "metadata": {},
   "outputs": [],
   "source": [
    "bonds_accint = bonds_accint/10"
   ]
  },
  {
   "cell_type": "code",
   "execution_count": 25,
   "metadata": {},
   "outputs": [],
   "source": [
    "bonds_accint = bonds_accint[:1638]"
   ]
  },
  {
   "cell_type": "code",
   "execution_count": 37,
   "metadata": {},
   "outputs": [],
   "source": [
    "bonds_accint.to_csv('/Users/andrey_lukyanov/Google_Drive/Studies/Year_4/Курсач/Coding/Comparing-numerical-methods-for-term-structure-fitting/Data/New_data/bonds_accint.csv')"
   ]
  },
  {
   "cell_type": "code",
   "execution_count": 604,
   "metadata": {},
   "outputs": [],
   "source": [
    "bonds_accint = pd.read_csv(path + 'Data/New_data/bonds_accint.csv',\n",
    "                           index_col='TRADEDATE', parse_dates=True)"
   ]
  },
  {
   "cell_type": "markdown",
   "metadata": {},
   "source": [
    "# Calculating prices with the inclusion of amortisation and accrued interest"
   ]
  },
  {
   "cell_type": "markdown",
   "metadata": {},
   "source": [
    "### Principal calculation"
   ]
  },
  {
   "cell_type": "code",
   "execution_count": 317,
   "metadata": {},
   "outputs": [
    {
     "name": "stderr",
     "output_type": "stream",
     "text": [
      "/Users/andrey_lukyanov/anaconda3/lib/python3.7/site-packages/ipykernel_launcher.py:11: SettingWithCopyWarning: \n",
      "A value is trying to be set on a copy of a slice from a DataFrame.\n",
      "Try using .loc[row_indexer,col_indexer] = value instead\n",
      "\n",
      "See the caveats in the documentation: https://pandas.pydata.org/pandas-docs/stable/user_guide/indexing.html#returning-a-view-versus-a-copy\n",
      "  # This is added back by InteractiveShellApp.init_path()\n"
     ]
    }
   ],
   "source": [
    "dates = bonds_clean_prices.index\n",
    "\n",
    "principal = pd.DataFrame(np.zeros(bonds_clean_prices.shape), index = dates, columns = ISIN)\n",
    "\n",
    "for i in range(len(dates)):\n",
    "    payments_on_date = bonds_payments[bonds_payments['Дата фактической выплаты'] >= dates[i]]\n",
    "    \n",
    "    for code in ISIN:\n",
    "        bond_principal = payments_on_date[payments_on_date['ISIN'] == code]['Погашение номинала, RUB'].values.sum()\n",
    "        \n",
    "        principal[i:i+1][code] = bond_principal/10"
   ]
  },
  {
   "cell_type": "code",
   "execution_count": 319,
   "metadata": {},
   "outputs": [],
   "source": [
    "principal.to_csv('/Users/andrey_lukyanov/Google_Drive/Studies/Year_4/Курсач/Coding/Comparing-numerical-methods-for-term-structure-fitting/Data/New_data/principal.csv')"
   ]
  },
  {
   "cell_type": "code",
   "execution_count": 42,
   "metadata": {},
   "outputs": [],
   "source": [
    "principal = pd.read_csv('/Users/andrey_lukyanov/Google_Drive/Studies/Year_4/Курсач/Coding/Comparing-numerical-methods-for-term-structure-fitting/Data/New_data/principal.csv',\n",
    "                        index_col='TRADEDATE', parse_dates=True)"
   ]
  },
  {
   "cell_type": "code",
   "execution_count": 318,
   "metadata": {},
   "outputs": [],
   "source": [
    "%%bash\n",
    "say finished"
   ]
  },
  {
   "cell_type": "markdown",
   "metadata": {},
   "source": [
    "### Prices calculation"
   ]
  },
  {
   "cell_type": "code",
   "execution_count": 427,
   "metadata": {},
   "outputs": [],
   "source": [
    "bonds_prices = np.empty(bonds_clean_prices.shape)\n",
    "bonds_prices.fill(np.nan)\n",
    "\n",
    "for i in range(len(dates)):    \n",
    "    for j in range(bonds_clean_prices.shape[1]):        \n",
    "        bonds_prices[i, j] = bonds_clean_prices.iloc[i, j] * principal.iloc[i, j] / 100 + bonds_accint.iloc[i, j] / 10\n",
    "        \n",
    "bonds_prices = pd.DataFrame(bonds_prices, index = dates, columns = ISIN)"
   ]
  },
  {
   "cell_type": "code",
   "execution_count": 428,
   "metadata": {},
   "outputs": [],
   "source": [
    "bonds_prices.to_csv(path + 'Data/New_data/bonds_prices_all_with_problems.csv')"
   ]
  },
  {
   "cell_type": "code",
   "execution_count": 686,
   "metadata": {},
   "outputs": [],
   "source": [
    "bonds_prices = pd.read_csv(path + 'Data/New_data/bonds_prices_all_with_problems.csv',\n",
    "                           index_col='TRADEDATE', parse_dates=True)"
   ]
  },
  {
   "cell_type": "code",
   "execution_count": 687,
   "metadata": {},
   "outputs": [],
   "source": [
    "ISIN = bonds_prices.columns"
   ]
  },
  {
   "cell_type": "markdown",
   "metadata": {},
   "source": [
    "# Sparse data removal"
   ]
  },
  {
   "cell_type": "markdown",
   "metadata": {},
   "source": [
    "## How many observations do we have for each day?"
   ]
  },
  {
   "cell_type": "code",
   "execution_count": 688,
   "metadata": {},
   "outputs": [
    {
     "data": {
      "text/plain": [
       "<AxesSubplot:xlabel='TRADEDATE'>"
      ]
     },
     "execution_count": 688,
     "metadata": {},
     "output_type": "execute_result"
    },
    {
     "data": {
      "image/png": "[encoded data removed]",
      "text/plain": [
       "<Figure size 432x288 with 1 Axes>"
      ]
     },
     "metadata": {
      "needs_background": "light"
     },
     "output_type": "display_data"
    }
   ],
   "source": [
    "bonds_prices.notna().sum(axis = 1).plot()"
   ]
  },
  {
   "cell_type": "code",
   "execution_count": 689,
   "metadata": {},
   "outputs": [
    {
     "data": {
      "text/plain": [
       "DatetimeIndex(['2014-01-06', '2014-01-08', '2014-05-02'], dtype='datetime64[ns]', name='TRADEDATE', freq=None)"
      ]
     },
     "execution_count": 689,
     "metadata": {},
     "output_type": "execute_result"
    }
   ],
   "source": [
    "sparse_days = bonds_prices[bonds_prices.notna().sum(axis = 1) < 10].index\n",
    "sparse_days"
   ]
  },
  {
   "cell_type": "markdown",
   "metadata": {},
   "source": [
    "We could drop these three."
   ]
  },
  {
   "cell_type": "code",
   "execution_count": 690,
   "metadata": {},
   "outputs": [],
   "source": [
    "bonds_prices.drop(sparse_days, inplace = True)"
   ]
  },
  {
   "cell_type": "markdown",
   "metadata": {},
   "source": [
    "## Sparse bonds removal"
   ]
  },
  {
   "cell_type": "code",
   "execution_count": 691,
   "metadata": {},
   "outputs": [
    {
     "data": {
      "text/plain": [
       "('RU000A0JNHJ4',\n",
       " 'RU000A0JRTL6',\n",
       " 'RU0002868001',\n",
       " 'RU000A0JS4M5',\n",
       " 'RU0002867854',\n",
       " 'RU0002867631')"
      ]
     },
     "execution_count": 691,
     "metadata": {},
     "output_type": "execute_result"
    }
   ],
   "source": [
    "ISIN[15], ISIN[25], ISIN[28], ISIN[29], ISIN[38], ISIN[52]"
   ]
  },
  {
   "cell_type": "code",
   "execution_count": 692,
   "metadata": {},
   "outputs": [],
   "source": [
    "bonds_prices[ISIN[15]][:523] = np.nan"
   ]
  },
  {
   "cell_type": "code",
   "execution_count": 693,
   "metadata": {},
   "outputs": [
    {
     "data": {
      "text/plain": [
       "<matplotlib.legend.Legend at 0x7ff8eb9daa10>"
      ]
     },
     "execution_count": 693,
     "metadata": {},
     "output_type": "execute_result"
    },
    {
     "data": {
      "image/png": "[encoded data removed]",
      "text/plain": [
       "<Figure size 720x360 with 1 Axes>"
      ]
     },
     "metadata": {
      "needs_background": "light"
     },
     "output_type": "display_data"
    }
   ],
   "source": [
    "i = 15\n",
    "plt.figure(figsize = (10, 5))\n",
    "plt.title(ISIN[i])\n",
    "plt.plot(bonds_clean_prices[ISIN[i]], label = 'clean')\n",
    "plt.plot(bonds_prices[ISIN[i]], label = 'dirty')\n",
    "plt.legend()"
   ]
  },
  {
   "cell_type": "code",
   "execution_count": 694,
   "metadata": {},
   "outputs": [
    {
     "data": {
      "text/plain": [
       "<matplotlib.legend.Legend at 0x7ff91417a150>"
      ]
     },
     "execution_count": 694,
     "metadata": {},
     "output_type": "execute_result"
    },
    {
     "data": {
      "image/png": "[encoded data removed]",
      "text/plain": [
       "<Figure size 720x360 with 1 Axes>"
      ]
     },
     "metadata": {
      "needs_background": "light"
     },
     "output_type": "display_data"
    }
   ],
   "source": [
    "i = 25\n",
    "plt.figure(figsize = (10, 5))\n",
    "plt.title(ISIN[i])\n",
    "plt.plot(bonds_clean_prices[ISIN[i]], label = 'clean')\n",
    "plt.plot(bonds_prices[ISIN[i]], label = 'dirty')\n",
    "plt.legend()"
   ]
  },
  {
   "cell_type": "code",
   "execution_count": 695,
   "metadata": {},
   "outputs": [],
   "source": [
    "bonds_prices[ISIN[25]][:1519] = np.nan"
   ]
  },
  {
   "cell_type": "code",
   "execution_count": 696,
   "metadata": {},
   "outputs": [
    {
     "data": {
      "text/plain": [
       "<matplotlib.legend.Legend at 0x7ff904519890>"
      ]
     },
     "execution_count": 696,
     "metadata": {},
     "output_type": "execute_result"
    },
    {
     "data": {
      "image/png": "[encoded data removed]",
      "text/plain": [
       "<Figure size 720x360 with 1 Axes>"
      ]
     },
     "metadata": {
      "needs_background": "light"
     },
     "output_type": "display_data"
    }
   ],
   "source": [
    "i = 28\n",
    "plt.figure(figsize = (10, 5))\n",
    "plt.title(ISIN[i])\n",
    "plt.plot(bonds_clean_prices[ISIN[i]], label = 'clean')\n",
    "plt.plot(bonds_prices[ISIN[i]], label = 'dirty')\n",
    "plt.legend()"
   ]
  },
  {
   "cell_type": "code",
   "execution_count": 697,
   "metadata": {},
   "outputs": [],
   "source": [
    "bonds_prices[ISIN[28]][:1334] = np.nan"
   ]
  },
  {
   "cell_type": "code",
   "execution_count": 698,
   "metadata": {},
   "outputs": [
    {
     "data": {
      "text/plain": [
       "<matplotlib.legend.Legend at 0x7ff905616c90>"
      ]
     },
     "execution_count": 698,
     "metadata": {},
     "output_type": "execute_result"
    },
    {
     "data": {
      "image/png": "[encoded data removed]",
      "text/plain": [
       "<Figure size 720x360 with 1 Axes>"
      ]
     },
     "metadata": {
      "needs_background": "light"
     },
     "output_type": "display_data"
    }
   ],
   "source": [
    "i = 29\n",
    "plt.figure(figsize = (10, 5))\n",
    "plt.title(ISIN[i])\n",
    "plt.plot(bonds_clean_prices[ISIN[i]], label = 'clean')\n",
    "plt.plot(bonds_prices[ISIN[i]], label = 'dirty')\n",
    "plt.legend()"
   ]
  },
  {
   "cell_type": "code",
   "execution_count": 699,
   "metadata": {},
   "outputs": [],
   "source": [
    "bonds_prices[ISIN[29]][:346] = np.nan"
   ]
  },
  {
   "cell_type": "code",
   "execution_count": 700,
   "metadata": {},
   "outputs": [
    {
     "data": {
      "text/plain": [
       "<matplotlib.legend.Legend at 0x7ff9042d0110>"
      ]
     },
     "execution_count": 700,
     "metadata": {},
     "output_type": "execute_result"
    },
    {
     "data": {
      "image/png": "[encoded data removed]",
      "text/plain": [
       "<Figure size 720x360 with 1 Axes>"
      ]
     },
     "metadata": {
      "needs_background": "light"
     },
     "output_type": "display_data"
    }
   ],
   "source": [
    "i = 38\n",
    "plt.figure(figsize = (10, 5))\n",
    "plt.title(ISIN[i])\n",
    "plt.plot(bonds_clean_prices[ISIN[i]], label = 'clean')\n",
    "plt.plot(bonds_prices[ISIN[i]], label = 'dirty')\n",
    "plt.legend()"
   ]
  },
  {
   "cell_type": "code",
   "execution_count": 701,
   "metadata": {},
   "outputs": [],
   "source": [
    "bonds_prices[ISIN[38]][:1250] = np.nan"
   ]
  },
  {
   "cell_type": "code",
   "execution_count": 702,
   "metadata": {},
   "outputs": [
    {
     "data": {
      "text/plain": [
       "<matplotlib.legend.Legend at 0x7ff903a5bcd0>"
      ]
     },
     "execution_count": 702,
     "metadata": {},
     "output_type": "execute_result"
    },
    {
     "data": {
      "image/png": "[encoded data removed]",
      "text/plain": [
       "<Figure size 720x360 with 1 Axes>"
      ]
     },
     "metadata": {
      "needs_background": "light"
     },
     "output_type": "display_data"
    }
   ],
   "source": [
    "i = 52\n",
    "plt.figure(figsize = (10, 5))\n",
    "plt.title(ISIN[i])\n",
    "plt.plot(bonds_clean_prices[ISIN[i]], label = 'clean')\n",
    "plt.plot(bonds_prices[ISIN[i]], label = 'dirty')\n",
    "plt.legend()"
   ]
  },
  {
   "cell_type": "code",
   "execution_count": 703,
   "metadata": {},
   "outputs": [],
   "source": [
    "bonds_prices[ISIN[52]][:757] = np.nan"
   ]
  },
  {
   "cell_type": "code",
   "execution_count": 704,
   "metadata": {},
   "outputs": [
    {
     "data": {
      "text/plain": [
       "<matplotlib.legend.Legend at 0x7ff903a427d0>"
      ]
     },
     "execution_count": 704,
     "metadata": {},
     "output_type": "execute_result"
    },
    {
     "data": {
      "image/png": "[encoded data removed]",
      "text/plain": [
       "<Figure size 720x360 with 1 Axes>"
      ]
     },
     "metadata": {
      "needs_background": "light"
     },
     "output_type": "display_data"
    }
   ],
   "source": [
    "i = 51\n",
    "plt.figure(figsize = (10, 5))\n",
    "plt.title(ISIN[i])\n",
    "plt.plot(bonds_clean_prices[ISIN[i]], label = 'clean')\n",
    "plt.plot(bonds_prices[ISIN[i]], label = 'dirty')\n",
    "plt.legend()"
   ]
  },
  {
   "cell_type": "code",
   "execution_count": 705,
   "metadata": {},
   "outputs": [],
   "source": [
    "bonds_prices[ISIN[51]][:270] = np.nan"
   ]
  },
  {
   "cell_type": "code",
   "execution_count": 706,
   "metadata": {},
   "outputs": [
    {
     "data": {
      "text/plain": [
       "<matplotlib.legend.Legend at 0x7ff905623350>"
      ]
     },
     "execution_count": 706,
     "metadata": {},
     "output_type": "execute_result"
    },
    {
     "data": {
      "image/png": "[encoded data removed]",
      "text/plain": [
       "<Figure size 720x360 with 1 Axes>"
      ]
     },
     "metadata": {
      "needs_background": "light"
     },
     "output_type": "display_data"
    }
   ],
   "source": [
    "ticker = 'RU000A0JQZ18'\n",
    "plt.figure(figsize = (10, 5))\n",
    "plt.title(ticker)\n",
    "plt.plot(bonds_clean_prices[ticker], label = 'clean')\n",
    "plt.plot(bonds_prices[ticker], label = 'dirty')\n",
    "plt.legend()"
   ]
  },
  {
   "cell_type": "code",
   "execution_count": 707,
   "metadata": {},
   "outputs": [
    {
     "data": {
      "text/plain": [
       "<matplotlib.legend.Legend at 0x7ff905928d50>"
      ]
     },
     "execution_count": 707,
     "metadata": {},
     "output_type": "execute_result"
    },
    {
     "data": {
      "image/png": "[encoded data removed]",
      "text/plain": [
       "<Figure size 720x360 with 1 Axes>"
      ]
     },
     "metadata": {
      "needs_background": "light"
     },
     "output_type": "display_data"
    }
   ],
   "source": [
    "ticker = 'RU000A0DY8K8'\n",
    "plt.figure(figsize = (10, 5))\n",
    "plt.title(ticker)\n",
    "plt.plot(bonds_clean_prices[ticker], label = 'clean')\n",
    "plt.plot(bonds_prices[ticker], label = 'dirty')\n",
    "plt.legend()"
   ]
  },
  {
   "cell_type": "markdown",
   "metadata": {},
   "source": [
    "We remove this one because it has a duplicate with the same maturity but a more liquid one."
   ]
  },
  {
   "cell_type": "code",
   "execution_count": 708,
   "metadata": {},
   "outputs": [],
   "source": [
    "bonds_prices.drop('RU000A0DY8K8', axis = 1, inplace = True)"
   ]
  },
  {
   "cell_type": "markdown",
   "metadata": {},
   "source": [
    "We also remove a bond with a strange IRR or around 50%."
   ]
  },
  {
   "cell_type": "code",
   "execution_count": 709,
   "metadata": {},
   "outputs": [],
   "source": [
    "bonds_prices.drop('RU000A0JRTL6', axis = 1, inplace = True)"
   ]
  },
  {
   "cell_type": "code",
   "execution_count": 710,
   "metadata": {},
   "outputs": [
    {
     "data": {
      "text/plain": [
       "(1635, 51)"
      ]
     },
     "execution_count": 710,
     "metadata": {},
     "output_type": "execute_result"
    }
   ],
   "source": [
    "bonds_prices.shape"
   ]
  },
  {
   "cell_type": "code",
   "execution_count": 711,
   "metadata": {},
   "outputs": [],
   "source": [
    "ISIN = bonds_prices.columns"
   ]
  },
  {
   "cell_type": "markdown",
   "metadata": {},
   "source": [
    "# IRR calcultation"
   ]
  },
  {
   "cell_type": "code",
   "execution_count": 952,
   "metadata": {},
   "outputs": [],
   "source": [
    "bonds_prices = pd.read_csv(path + 'Data/New_data/bonds_prices.csv',\n",
    "                           index_col='TRADEDATE', parse_dates=True)"
   ]
  },
  {
   "cell_type": "code",
   "execution_count": 925,
   "metadata": {},
   "outputs": [],
   "source": [
    "bonds_payments = pd.read_csv(path + 'Data/New_data/bonds_payments.csv',\n",
    "                            index_col = 0)\n",
    "bonds_payments['Дата фактической выплаты'] = pd.to_datetime(bonds_payments['Дата фактической выплаты'], format='%Y-%m-%d')"
   ]
  },
  {
   "cell_type": "code",
   "execution_count": 713,
   "metadata": {},
   "outputs": [],
   "source": [
    "def npv(irr, cfs, yrs):  \n",
    "    return np.sum(cfs / (1. + irr) ** yrs)"
   ]
  },
  {
   "cell_type": "code",
   "execution_count": 714,
   "metadata": {},
   "outputs": [],
   "source": [
    "from scipy.optimize import fsolve\n",
    "\n",
    "def irr(cfs, yrs, x0):\n",
    "    return np.asscalar(fsolve(npv, x0=x0, args=(cfs, yrs)))"
   ]
  },
  {
   "cell_type": "code",
   "execution_count": 715,
   "metadata": {},
   "outputs": [],
   "source": [
    "def maturities_irrs(date_number):\n",
    "    irrs = []\n",
    "    maturities = []\n",
    "#    pdb.set_trace()\n",
    "    payments_on_date = bonds_payments[bonds_payments['Дата фактической выплаты'] >= dates[date_number]]\n",
    "    \n",
    "    for ticker in ISIN:\n",
    "    \n",
    "        payments = payments_on_date[payments_on_date['ISIN'] == ticker]['Сумма купона, RUB'] + payments_on_date[payments_on_date['ISIN'] == ticker]['Погашение номинала, RUB'].values\n",
    "        principal = payments_on_date[payments_on_date['ISIN'] == ticker]['Погашение номинала, RUB'].values.sum()\n",
    "        payments_dates = (payments_on_date[payments_on_date['ISIN'] == ticker]['Дата фактической выплаты'] - dates[date_number]).apply(lambda x: x.days)/365\n",
    "    \n",
    "        investment = bonds_prices.iloc[date_number][ticker]\n",
    "        payments = np.insert(np.array(payments), 0, -investment)\n",
    "        payments_dates = np.insert(np.array(payments_dates), 0, 0)\n",
    "        \n",
    "        if np.isnan(payments[0]) == True:\n",
    "            irrs.append(np.nan)\n",
    "            maturities.append(np.nan)\n",
    "        else:\n",
    "            bond_irr = irr(cfs=payments, yrs=payments_dates, x0=0.10)\n",
    "            irrs.append(bond_irr)\n",
    "            maturities.append(payments_dates[-1])\n",
    "            \n",
    "        \n",
    "    return (np.array([maturities]), np.array([irrs]))   "
   ]
  },
  {
   "cell_type": "code",
   "execution_count": 926,
   "metadata": {},
   "outputs": [],
   "source": [
    "irr_matrix = pd.DataFrame(np.zeros(bonds_prices.shape), index = dates, columns = ISIN)\n",
    "maturity_matrix = pd.DataFrame(np.zeros(bonds_prices.shape), index = dates, columns = ISIN)"
   ]
  },
  {
   "cell_type": "code",
   "execution_count": 927,
   "metadata": {},
   "outputs": [
    {
     "name": "stderr",
     "output_type": "stream",
     "text": [
      "/Users/andrey_lukyanov/anaconda3/lib/python3.7/site-packages/ipykernel_launcher.py:4: DeprecationWarning: np.asscalar(a) is deprecated since NumPy v1.16, use a.item() instead\n",
      "  after removing the cwd from sys.path.\n"
     ]
    },
    {
     "name": "stdout",
     "output_type": "stream",
     "text": [
      "CPU times: user 4min 3s, sys: 2.77 s, total: 4min 5s\n",
      "Wall time: 4min 15s\n"
     ]
    }
   ],
   "source": [
    "%%time\n",
    "\n",
    "for i in range(len(dates)):\n",
    "    maturity_matrix[dates[i]:dates[i]], irr_matrix[dates[i]:dates[i]] = maturities_irrs(i)    "
   ]
  },
  {
   "cell_type": "code",
   "execution_count": 928,
   "metadata": {},
   "outputs": [],
   "source": [
    "%%bash\n",
    "say finished"
   ]
  },
  {
   "cell_type": "markdown",
   "metadata": {},
   "source": [
    "- Пересмотреть 36 (RU0002867854), 49 (RU0002868076), 50 (RU0002867631), потому что ставки уходят в отрицательную область. 49 ок после того, как убрал последний месяц. 36 и 50 надо убрать.\n",
    "- 3 (RU000A0JQCL4), 10 (RU0002867854) убрать последний месяц. Теперь с ними все ок."
   ]
  },
  {
   "cell_type": "code",
   "execution_count": 916,
   "metadata": {},
   "outputs": [
    {
     "data": {
      "image/png": "[encoded data removed]",
      "text/plain": [
       "<Figure size 720x360 with 1 Axes>"
      ]
     },
     "metadata": {
      "needs_background": "light"
     },
     "output_type": "display_data"
    }
   ],
   "source": [
    "i = 23\n",
    "plt.figure(figsize = (10, 5))\n",
    "plt.title(ISIN[i])\n",
    "plt.plot(irr_matrix[ISIN[i]])\n",
    "plt.grid();"
   ]
  },
  {
   "cell_type": "code",
   "execution_count": 243,
   "metadata": {},
   "outputs": [
    {
     "data": {
      "image/png": "[encoded data removed]",
      "text/plain": [
       "<Figure size 720x360 with 1 Axes>"
      ]
     },
     "metadata": {
      "needs_background": "light"
     },
     "output_type": "display_data"
    }
   ],
   "source": [
    "plt.figure(figsize = (10, 5))\n",
    "plt.title(ISIN[i])\n",
    "plt.plot(maturity_matrix[ISIN[i]])\n",
    "plt.grid();"
   ]
  },
  {
   "cell_type": "markdown",
   "metadata": {},
   "source": [
    "Now we remove from optimization those bonds who have maturity less than one month."
   ]
  },
  {
   "cell_type": "code",
   "execution_count": 956,
   "metadata": {},
   "outputs": [],
   "source": [
    "for ticker in ISIN:\n",
    "    bonds_prices[ticker][maturity_matrix[ticker] < 3/12] = np.nan"
   ]
  },
  {
   "cell_type": "markdown",
   "metadata": {},
   "source": [
    "Bonds 36 (RU0002867854), 50 (RU0002867631) should be removed because of negative irr."
   ]
  },
  {
   "cell_type": "code",
   "execution_count": 731,
   "metadata": {},
   "outputs": [],
   "source": [
    "bonds_prices.drop('RU0002867854', axis = 1, inplace = True)\n",
    "bonds_prices.drop('RU0002867631', axis = 1, inplace = True)"
   ]
  },
  {
   "cell_type": "code",
   "execution_count": 732,
   "metadata": {},
   "outputs": [],
   "source": [
    "ISIN = bonds_prices.columns"
   ]
  },
  {
   "cell_type": "markdown",
   "metadata": {},
   "source": [
    "We also remove some problematic dates for several bonds."
   ]
  },
  {
   "cell_type": "markdown",
   "metadata": {},
   "source": [
    "5. RU000A0JQYN4"
   ]
  },
  {
   "cell_type": "code",
   "execution_count": 754,
   "metadata": {},
   "outputs": [
    {
     "data": {
      "text/plain": [
       "Timestamp('2015-04-15 00:00:00')"
      ]
     },
     "execution_count": 754,
     "metadata": {},
     "output_type": "execute_result"
    }
   ],
   "source": [
    "ticker = 'RU000A0JQYN4'\n",
    "date_RU000A0JQYN4 = irr_matrix[ticker][irr_matrix[ticker] > 0.18].index[0]\n",
    "date_RU000A0JQYN4"
   ]
  },
  {
   "cell_type": "code",
   "execution_count": 755,
   "metadata": {},
   "outputs": [],
   "source": [
    "bonds_prices[ticker][date_RU000A0JQYN4:date_RU000A0JQYN4] = np.nan"
   ]
  },
  {
   "cell_type": "markdown",
   "metadata": {},
   "source": [
    "6. RU000A0JR7G1"
   ]
  },
  {
   "cell_type": "code",
   "execution_count": 762,
   "metadata": {},
   "outputs": [
    {
     "data": {
      "text/plain": [
       "Timestamp('2015-12-11 00:00:00')"
      ]
     },
     "execution_count": 762,
     "metadata": {},
     "output_type": "execute_result"
    }
   ],
   "source": [
    "ticker = 'RU000A0JR7G1'\n",
    "date_RU000A0JR7G1 = irr_matrix[ticker][irr_matrix[ticker] < 0.8].index[-6]\n",
    "date_RU000A0JR7G1"
   ]
  },
  {
   "cell_type": "code",
   "execution_count": 763,
   "metadata": {},
   "outputs": [],
   "source": [
    "bonds_prices[ticker][date_RU000A0JR7G1:date_RU000A0JR7G1] = np.nan"
   ]
  },
  {
   "cell_type": "markdown",
   "metadata": {},
   "source": [
    "10. RU000A0JRJU8"
   ]
  },
  {
   "cell_type": "code",
   "execution_count": 768,
   "metadata": {},
   "outputs": [
    {
     "data": {
      "text/plain": [
       "Timestamp('2016-05-19 00:00:00')"
      ]
     },
     "execution_count": 768,
     "metadata": {},
     "output_type": "execute_result"
    }
   ],
   "source": [
    "ticker = 'RU000A0JRJU8'\n",
    "date_RU000A0JRJU8 = irr_matrix[ticker][irr_matrix[ticker] > 0.12].index[-1]\n",
    "date_RU000A0JRJU8"
   ]
  },
  {
   "cell_type": "code",
   "execution_count": 769,
   "metadata": {},
   "outputs": [],
   "source": [
    "bonds_prices[ticker][date_RU000A0JRJU8:date_RU000A0JRJU8] = np.nan"
   ]
  },
  {
   "cell_type": "markdown",
   "metadata": {},
   "source": [
    "12. RU000A0JRCJ6"
   ]
  },
  {
   "cell_type": "code",
   "execution_count": 773,
   "metadata": {},
   "outputs": [
    {
     "data": {
      "text/plain": [
       "DatetimeIndex(['2016-06-02', '2016-06-14'], dtype='datetime64[ns]', name='TRADEDATE', freq=None)"
      ]
     },
     "execution_count": 773,
     "metadata": {},
     "output_type": "execute_result"
    }
   ],
   "source": [
    "ticker = 'RU000A0JRCJ6'\n",
    "dates_RU000A0JRCJ6 = irr_matrix[ticker][irr_matrix[ticker] > 0.095][-2:].index\n",
    "dates_RU000A0JRCJ6"
   ]
  },
  {
   "cell_type": "code",
   "execution_count": 774,
   "metadata": {},
   "outputs": [],
   "source": [
    "bonds_prices[ticker][dates_RU000A0JRCJ6] = np.nan"
   ]
  },
  {
   "cell_type": "code",
   "execution_count": 812,
   "metadata": {},
   "outputs": [
    {
     "data": {
      "text/plain": [
       "Timestamp('2016-05-19 00:00:00')"
      ]
     },
     "execution_count": 812,
     "metadata": {},
     "output_type": "execute_result"
    }
   ],
   "source": [
    "ticker = 'RU000A0JRCJ6'\n",
    "dates_RU000A0JRCJ6 = irr_matrix[ticker][irr_matrix[ticker] > 0.10].index[-1]\n",
    "dates_RU000A0JRCJ6"
   ]
  },
  {
   "cell_type": "code",
   "execution_count": 813,
   "metadata": {},
   "outputs": [],
   "source": [
    "bonds_prices[ticker][dates_RU000A0JRCJ6] = np.nan"
   ]
  },
  {
   "cell_type": "code",
   "execution_count": 896,
   "metadata": {},
   "outputs": [
    {
     "data": {
      "text/plain": [
       "Timestamp('2017-08-10 00:00:00')"
      ]
     },
     "execution_count": 896,
     "metadata": {},
     "output_type": "execute_result"
    }
   ],
   "source": [
    "ticker = 'RU000A0JRCJ6'\n",
    "dates_RU000A0JRCJ6 = irr_matrix[ticker][irr_matrix[ticker] > 0.081].index[-1]\n",
    "dates_RU000A0JRCJ6"
   ]
  },
  {
   "cell_type": "code",
   "execution_count": 897,
   "metadata": {},
   "outputs": [],
   "source": [
    "bonds_prices[ticker][dates_RU000A0JRCJ6] = np.nan"
   ]
  },
  {
   "cell_type": "markdown",
   "metadata": {},
   "source": [
    "23. RU000A0JS4M5"
   ]
  },
  {
   "cell_type": "code",
   "execution_count": 874,
   "metadata": {},
   "outputs": [
    {
     "data": {
      "text/plain": [
       "[Timestamp('2017-03-02 00:00:00'), Timestamp('2018-07-11 00:00:00')]"
      ]
     },
     "execution_count": 874,
     "metadata": {},
     "output_type": "execute_result"
    }
   ],
   "source": [
    "ticker = 'RU000A0JS4M5'\n",
    "dates_RU000A0JS4M5 = [irr_matrix[ticker][irr_matrix[ticker] > 0.09].index[-1]]\n",
    "dates_RU000A0JS4M5.append(irr_matrix[ticker][irr_matrix[ticker] < 0.06].index[-1])\n",
    "dates_RU000A0JS4M5"
   ]
  },
  {
   "cell_type": "code",
   "execution_count": 875,
   "metadata": {},
   "outputs": [],
   "source": [
    "bonds_prices[ticker][dates_RU000A0JS4M5] = np.nan"
   ]
  },
  {
   "cell_type": "markdown",
   "metadata": {},
   "source": [
    "Bonds 14 (RU000A0JNHJ4), 13 (RU000A0JP2S9) are illiquid and too many spikes in data."
   ]
  },
  {
   "cell_type": "code",
   "execution_count": 775,
   "metadata": {},
   "outputs": [],
   "source": [
    "bonds_prices.drop('RU000A0JNHJ4', axis = 1, inplace = True)\n",
    "bonds_prices.drop('RU000A0JP2S9', axis = 1, inplace = True)"
   ]
  },
  {
   "cell_type": "markdown",
   "metadata": {},
   "source": [
    "Bond 7 (RU000A0JTWW3) as well."
   ]
  },
  {
   "cell_type": "code",
   "execution_count": 776,
   "metadata": {},
   "outputs": [],
   "source": [
    "bonds_prices.drop('RU000A0JTWW3', axis = 1, inplace = True)"
   ]
  },
  {
   "cell_type": "markdown",
   "metadata": {},
   "source": [
    "Bond 24 (RU000A0JS4M5) also."
   ]
  },
  {
   "cell_type": "code",
   "execution_count": 876,
   "metadata": {},
   "outputs": [],
   "source": [
    "bonds_prices.drop('RU000A0JS4M5', axis = 1, inplace = True)"
   ]
  },
  {
   "cell_type": "markdown",
   "metadata": {},
   "source": [
    "Bond RU0002868001 as well."
   ]
  },
  {
   "cell_type": "code",
   "execution_count": 919,
   "metadata": {},
   "outputs": [],
   "source": [
    "bonds_prices.drop('RU0002868001', axis = 1, inplace = True)"
   ]
  },
  {
   "cell_type": "code",
   "execution_count": 920,
   "metadata": {},
   "outputs": [
    {
     "data": {
      "text/plain": [
       "(1635, 44)"
      ]
     },
     "execution_count": 920,
     "metadata": {},
     "output_type": "execute_result"
    }
   ],
   "source": [
    "bonds_prices.shape"
   ]
  },
  {
   "cell_type": "code",
   "execution_count": 921,
   "metadata": {},
   "outputs": [],
   "source": [
    "ISIN = bonds_prices.columns"
   ]
  },
  {
   "cell_type": "markdown",
   "metadata": {},
   "source": [
    "Now we recalculate the IRR again."
   ]
  },
  {
   "cell_type": "code",
   "execution_count": 923,
   "metadata": {},
   "outputs": [],
   "source": [
    "bonds_prices.to_csv(path + 'Data/New_data/bonds_prices.csv')"
   ]
  },
  {
   "cell_type": "code",
   "execution_count": 957,
   "metadata": {},
   "outputs": [
    {
     "data": {
      "text/plain": [
       "<AxesSubplot:xlabel='TRADEDATE'>"
      ]
     },
     "execution_count": 957,
     "metadata": {},
     "output_type": "execute_result"
    },
    {
     "data": {
      "image/png": "[encoded data removed]",
      "text/plain": [
       "<Figure size 432x288 with 1 Axes>"
      ]
     },
     "metadata": {
      "needs_background": "light"
     },
     "output_type": "display_data"
    }
   ],
   "source": [
    "bonds_prices.notna().sum(axis = 1).plot()"
   ]
  },
  {
   "cell_type": "code",
   "execution_count": 690,
   "metadata": {},
   "outputs": [],
   "source": [
    "bonds_prices.drop(sparse_days, inplace = True)"
   ]
  },
  {
   "cell_type": "code",
   "execution_count": 949,
   "metadata": {},
   "outputs": [],
   "source": [
    "maturity_matrix.to_csv(path + 'Data/New_data/bonds_maturities.csv')\n",
    "irr_matrix.to_csv(path + 'Data/New_data/bonds_irrs.csv')"
   ]
  },
  {
   "cell_type": "code",
   "execution_count": 953,
   "metadata": {},
   "outputs": [],
   "source": [
    "maturity_matrix = pd.read_csv(path + 'Data/New_data/bonds_maturities.csv', index_col='TRADEDATE', parse_dates=True)\n",
    "irr_matrix = pd.read_csv(path + 'Data/New_data/bonds_irrs.csv', index_col='TRADEDATE', parse_dates=True)"
   ]
  },
  {
   "cell_type": "code",
   "execution_count": 954,
   "metadata": {},
   "outputs": [
    {
     "data": {
      "text/plain": [
       "<AxesSubplot:xlabel='TRADEDATE'>"
      ]
     },
     "execution_count": 954,
     "metadata": {},
     "output_type": "execute_result"
    },
    {
     "data": {
      "image/png": "[encoded data removed]",
      "text/plain": [
       "<Figure size 432x288 with 1 Axes>"
      ]
     },
     "metadata": {
      "needs_background": "light"
     },
     "output_type": "display_data"
    }
   ],
   "source": [
    "irr_matrix.notna().sum(axis = 1).plot()"
   ]
  },
  {
   "cell_type": "code",
   "execution_count": 958,
   "metadata": {},
   "outputs": [],
   "source": [
    "bonds_prices.to_csv(path + 'Data/New_data/bonds_prices.csv')"
   ]
  },
  {
   "cell_type": "markdown",
   "metadata": {},
   "source": [
    "# Bonds payments update"
   ]
  },
  {
   "cell_type": "code",
   "execution_count": 929,
   "metadata": {},
   "outputs": [],
   "source": [
    "bonds_prices = pd.read_csv(path + 'Data/New_data/bonds_prices.csv',\n",
    "                           index_col='TRADEDATE', parse_dates=True)"
   ]
  },
  {
   "cell_type": "code",
   "execution_count": 925,
   "metadata": {},
   "outputs": [],
   "source": [
    "bonds_payments = pd.read_csv(path + 'Data/New_data/bonds_payments.csv',\n",
    "                            index_col = 0)\n",
    "bonds_payments['Дата фактической выплаты'] = pd.to_datetime(bonds_payments['Дата фактической выплаты'], format='%Y-%m-%d')"
   ]
  },
  {
   "cell_type": "code",
   "execution_count": 946,
   "metadata": {},
   "outputs": [],
   "source": [
    "bonds_payments = bonds_payments[bonds_payments.ISIN.isin(set(bonds_prices.columns))]"
   ]
  },
  {
   "cell_type": "code",
   "execution_count": 947,
   "metadata": {},
   "outputs": [],
   "source": [
    "bonds_payments.to_csv(path + 'Data/New_data/bonds_payments.csv')"
   ]
  },
  {
   "cell_type": "markdown",
   "metadata": {},
   "source": [
    "## BOOTSRAP"
   ]
  },
  {
   "cell_type": "markdown",
   "metadata": {},
   "source": [
    "1. Сортируем бонды по их длине\n",
    "2. Первую ставку взять из IRR наиболее короткого бонда\n",
    "3. Далее решать каждый бонд при условии более коротких ставок."
   ]
  },
  {
   "cell_type": "code",
   "execution_count": 485,
   "metadata": {},
   "outputs": [],
   "source": [
    "from scipy.optimize import fsolve"
   ]
  },
  {
   "cell_type": "code",
   "execution_count": 486,
   "metadata": {},
   "outputs": [],
   "source": [
    "def discount_by_rates(df, rates):\n",
    "    df['Discounted'] = (df['Сумма купона, RUB'] + df['Погашение номинала, RUB']) * np.exp(-rates * df['Дата фактической выплаты'])"
   ]
  },
  {
   "cell_type": "code",
   "execution_count": 487,
   "metadata": {},
   "outputs": [],
   "source": [
    "def generate_solve_for_rate(unknown, known, price):\n",
    "    def solve_for_rate(rate):\n",
    "        nonlocal unknown, known, price\n",
    "        unknown['rates'] = np.ones(unknown.shape[0]) * rate\n",
    "        discount_by_rates(unknown, unknown['rates'])\n",
    "        return known + unknown.Discounted.sum() - price    \n",
    "    \n",
    "    return solve_for_rate"
   ]
  },
  {
   "cell_type": "code",
   "execution_count": 588,
   "metadata": {},
   "outputs": [],
   "source": [
    "def bootsrap_rates_on_day(day_number):\n",
    "    \n",
    "    sorted_bonds = maturity_matrix.iloc[day_number].sort_values()\n",
    "    sorted_bonds.dropna(inplace=True)\n",
    "    \n",
    "#    print(sorted_bonds)\n",
    "#    print('Duplicated')\n",
    "#    print(sorted_bonds[sorted_bonds.duplicated()])\n",
    "    \n",
    "#   check for bonds with similar maturity\n",
    "    duplicated = sorted_bonds[sorted_bonds.duplicated()]\n",
    "    \n",
    "    if duplicated.empty == False:\n",
    "        for i in range(duplicated.shape[0]):\n",
    "            sorted_bonds[duplicated.index[i]] += 0.000001 * (i + 1)\n",
    "                \n",
    "#    print(sorted_bonds)\n",
    "#    sorted_bonds.at[i_date] = i_coupon\n",
    "    \n",
    "    \n",
    "    bootstraped_rates = {}\n",
    "    bootstraped_rates[sorted_bonds.iloc[0]] = irr_matrix.iloc[day_number][sorted_bonds.index[0]]\n",
    "\n",
    "    for i in range(1, sorted_bonds.shape[0]):\n",
    "        \n",
    "        payments_after_date = bonds_payments[(bonds_payments['ISIN'] == sorted_bonds.index[i]) & \n",
    "                                         (bonds_payments['Дата фактической выплаты'] > \n",
    "                                          dates[day_number])][['Сумма купона, RUB', \n",
    "                                                               'Погашение номинала, RUB', \n",
    "                                                               'Дата фактической выплаты']]\n",
    "\n",
    "        calc_df = pd.concat([(payments_after_date['Дата фактической выплаты'] - dates[0]).apply(lambda x: x.days)/365, \n",
    "                         payments_after_date['Сумма купона, RUB'], payments_after_date['Погашение номинала, RUB']], \n",
    "                        axis = 1)\n",
    "        calc_df['rates'] = np.zeros(calc_df.shape[0])\n",
    "        \n",
    "#        print(sorted_bonds.index[i])\n",
    "        \n",
    "#        print(bootstraped_rates)\n",
    "#        print(i)\n",
    "\n",
    "        \n",
    "        known_rates_df = calc_df[calc_df['Дата фактической выплаты'] <= list(bootstraped_rates.keys())[i - 1]]       \n",
    "        \n",
    "        for j in range(len(bootstraped_rates)):\n",
    "            \n",
    "            #нужно заполнить столбец известными ставками\n",
    "            mask = known_rates_df['Дата фактической выплаты'] < list(bootstraped_rates)[len(bootstraped_rates) - 1 - j]\n",
    "            known_rates_df['rates'][mask] = bootstraped_rates[list(bootstraped_rates)[len(bootstraped_rates) - 1 - j]]\n",
    "            #заполнили\n",
    "        \n",
    "        # дисконтируем известные платежи\n",
    "        discount_by_rates(known_rates_df, known_rates_df['rates'])\n",
    "        #считаем их сумму\n",
    "#        print(known_rates_df)\n",
    "        known = known_rates_df['Discounted'].sum()\n",
    "#        print('Known:', known)\n",
    "        \n",
    "        \n",
    "        #считываем цену\n",
    "        price = bonds_prices.iloc[day_number][sorted_bonds.index[i]]\n",
    "#        print('Price', price)\n",
    "            \n",
    "        unknown_rates_df = calc_df[calc_df['Дата фактической выплаты'] > list(bootstraped_rates.keys())[i - 1]]\n",
    "#        print(unknown_rates_df)\n",
    "        \n",
    "        #генеририуем функцию для поиска неизвестной ставки \n",
    "        solve_for_rate_function = generate_solve_for_rate(unknown_rates_df, known, price)\n",
    "        new_rate = fsolve(solve_for_rate_function, 0.1)[0]\n",
    "#        print(new_rate)\n",
    "        \n",
    "\n",
    "        \n",
    "        bootstraped_rates[sorted_bonds.iloc[i]] = new_rate\n",
    "\n",
    "     \n",
    "    return bootstraped_rates"
   ]
  },
  {
   "cell_type": "code",
   "execution_count": 601,
   "metadata": {},
   "outputs": [
    {
     "name": "stderr",
     "output_type": "stream",
     "text": [
      "/Users/andrey_lukyanov/anaconda3/lib/python3.7/site-packages/ipykernel_launcher.py:2: SettingWithCopyWarning: \n",
      "A value is trying to be set on a copy of a slice from a DataFrame.\n",
      "Try using .loc[row_indexer,col_indexer] = value instead\n",
      "\n",
      "See the caveats in the documentation: https://pandas.pydata.org/pandas-docs/stable/user_guide/indexing.html#returning-a-view-versus-a-copy\n",
      "  \n",
      "/Users/andrey_lukyanov/anaconda3/lib/python3.7/site-packages/ipykernel_launcher.py:4: SettingWithCopyWarning: \n",
      "A value is trying to be set on a copy of a slice from a DataFrame.\n",
      "Try using .loc[row_indexer,col_indexer] = value instead\n",
      "\n",
      "See the caveats in the documentation: https://pandas.pydata.org/pandas-docs/stable/user_guide/indexing.html#returning-a-view-versus-a-copy\n",
      "  after removing the cwd from sys.path.\n",
      "/Users/andrey_lukyanov/anaconda3/lib/python3.7/site-packages/scipy/optimize/minpack.py:162: RuntimeWarning: The iteration is not making good progress, as measured by the \n",
      "  improvement from the last ten iterations.\n",
      "  warnings.warn(msg, RuntimeWarning)\n"
     ]
    },
    {
     "name": "stdout",
     "output_type": "stream",
     "text": [
      "CPU times: user 18min 54s, sys: 5.99 s, total: 19min\n",
      "Wall time: 19min 14s\n"
     ]
    }
   ],
   "source": [
    "%%time\n",
    "\n",
    "all_bootstraped_rates = []\n",
    "\n",
    "for i in range(len(dates)):\n",
    "#    print('Day ' + str(i))\n",
    "    all_bootstraped_rates.append(bootsrap_rates_on_day(i))"
   ]
  },
  {
   "cell_type": "code",
   "execution_count": 602,
   "metadata": {},
   "outputs": [],
   "source": [
    "for i in range(len(dates)):\n",
    "    bt_rates_df = pd.DataFrame.from_dict(all_bootstraped_rates[i], orient='index', columns = ['rate'])\n",
    "    bt_rates_df.reset_index(level = 0, inplace = True)\n",
    "    bt_rates_df.columns = ['maturity', 'rates']\n",
    "    bt_rates_df.to_csv('/Users/andrey_lukyanov/Google_Drive/Studies/Year_4/Курсач/Coding/Comparing-numerical-methods-for-term-structure-fitting/Data/New_data/Raw_bootstraped_rates/bt_rates_' + str(dates[i].date()) + '.csv')"
   ]
  },
  {
   "cell_type": "code",
   "execution_count": 635,
   "metadata": {},
   "outputs": [],
   "source": [
    "bootstraped_rates_list = []\n",
    "\n",
    "for i in range(len(dates)):\n",
    "    bootstraped_rates_list.append(pd.read_csv('/Users/andrey_lukyanov/Google_Drive/Studies/Year_4/Курсач/Coding/Comparing-numerical-methods-for-term-structure-fitting/Data/New_data/bootstraped_rates/bt_rates_' + str(dates[i].date()) + '.csv', index_col=0))"
   ]
  },
  {
   "cell_type": "code",
   "execution_count": 634,
   "metadata": {},
   "outputs": [],
   "source": [
    "for i in range(len(dates)):\n",
    "    bootstraped_rates_list[i][bootstraped_rates_list[i].rates < 0.2].to_csv('/Users/andrey_lukyanov/Google_Drive/Studies/Year_4/Курсач/Coding/Comparing-numerical-methods-for-term-structure-fitting/Data/New_data/Bootstraped_rates/bt_rates_' + str(dates[i].date()) + '.csv')"
   ]
  },
  {
   "cell_type": "code",
   "execution_count": 642,
   "metadata": {},
   "outputs": [
    {
     "data": {
      "image/png": "[encoded data removed]",
      "text/plain": [
       "<Figure size 432x288 with 1 Axes>"
      ]
     },
     "metadata": {
      "needs_background": "light"
     },
     "output_type": "display_data"
    }
   ],
   "source": [
    "j = 95\n",
    "\n",
    "plt.title(dates[j].date())\n",
    "plt.scatter(bootstraped_rates_list[j].maturity, bootstraped_rates_list[j].rates);"
   ]
  },
  {
   "cell_type": "markdown",
   "metadata": {},
   "source": [
    "## Diebold-Li weights generation"
   ]
  },
  {
   "cell_type": "code",
   "execution_count": 13,
   "metadata": {},
   "outputs": [],
   "source": [
    "def ns(m, theta):\n",
    "    tau = theta[0]\n",
    "    beta0 = theta[1]\n",
    "    beta1 = theta[2]\n",
    "    beta2 = theta[3]\n",
    "    return beta0 + beta1 * (1 - np.exp(- m / tau)) / (m / tau) + beta2 * ((1 - np.exp(- m / tau)) / (m / tau) - np.exp(- m / tau))"
   ]
  },
  {
   "cell_type": "code",
   "execution_count": 14,
   "metadata": {},
   "outputs": [],
   "source": [
    "import statsmodels.api as sm"
   ]
  },
  {
   "cell_type": "code",
   "execution_count": 15,
   "metadata": {},
   "outputs": [],
   "source": [
    "def get_loadings(m, tau):\n",
    "    \n",
    "    level = np.ones(m.shape[0])\n",
    "    slope_hump = (1 - np.exp(- m / tau)) / (m / tau)\n",
    "    hump =  - np.exp(- m / tau) \n",
    "\n",
    "    return level, slope_hump, hump"
   ]
  },
  {
   "cell_type": "markdown",
   "metadata": {},
   "source": [
    "We set $\\tau$ according to Diebold, Li 2006. The screnshot in the folder shows the way we obtained it."
   ]
  },
  {
   "cell_type": "code",
   "execution_count": 16,
   "metadata": {},
   "outputs": [],
   "source": [
    "def get_diebold_li_weights(day_number):\n",
    "\n",
    "    df_shape = bootstraped_rates_list[day_number].shape[0]\n",
    "\n",
    "    X = np.zeros([df_shape, 3])\n",
    "    X[:,0], X[:,1], X[:,2] = get_loadings(m = bootstraped_rates_list[day_number].maturity.values, tau = 0.717313)\n",
    "       \n",
    "    y = bootstraped_rates_list[day_number].rates.values\n",
    "\n",
    "    model = sm.OLS(y, X)\n",
    "    beta = model.fit().params\n",
    "    \n",
    "    ns_theta = np.zeros(4)\n",
    "    ns_theta[0] = 0.717313\n",
    "    ns_theta[1] = beta[0]\n",
    "    ns_theta[2] = beta[1] - beta[2]\n",
    "    ns_theta[3] = beta[2]\n",
    "    \n",
    "    nss_theta = np.zeros(6)\n",
    "    nss_theta[0] = 0.717313\n",
    "    nss_theta[1] = ns_theta[0] + 1\n",
    "    nss_theta[2] = beta[0]\n",
    "    nss_theta[3] = beta[1] - beta[2]\n",
    "    nss_theta[4] = beta[2]\n",
    "    nss_theta[5] = (nss_theta[4] + 1)/100\n",
    "\n",
    "    return ns_theta, nss_theta"
   ]
  },
  {
   "cell_type": "code",
   "execution_count": 675,
   "metadata": {},
   "outputs": [
    {
     "name": "stdout",
     "output_type": "stream",
     "text": [
      "CPU times: user 813 ms, sys: 5.12 ms, total: 818 ms\n",
      "Wall time: 821 ms\n"
     ]
    }
   ],
   "source": [
    "%%time\n",
    "\n",
    "diebold_li_weights = pd.DataFrame(np.zeros([bonds_prices.shape[0], 6]), index = dates,\n",
    "                                  columns = ['tau1', 'tau2', 'beta0', 'beta1', 'beta2', 'beta3'])\n",
    "\n",
    "for i in range(diebold_li_weights.shape[0]):\n",
    "    diebold_li_weights.iloc[i] = get_diebold_li_weights(i)[1]\n",
    "    \n",
    "diebold_li_weights.to_csv('/Users/andrey_lukyanov/Google_Drive/Studies/Year_4/Курсач/Coding/Comparing-numerical-methods-for-term-structure-fitting/Data/New_data/diebold_li.csv')"
   ]
  },
  {
   "cell_type": "code",
   "execution_count": 676,
   "metadata": {},
   "outputs": [
    {
     "name": "stderr",
     "output_type": "stream",
     "text": [
      "/Users/andrey_lukyanov/anaconda3/lib/python3.7/site-packages/ipykernel_launcher.py:6: RuntimeWarning: invalid value encountered in true_divide\n",
      "  \n",
      "/Users/andrey_lukyanov/Google_Drive/Studies/Year_4/Курсач/Coding/Comparing-numerical-methods-for-term-structure-fitting/thesis_library.py:31: RuntimeWarning: invalid value encountered in true_divide\n",
      "  return beta0 + beta1 * (1 - np.exp(- m / tau1)) / (m / tau1) + beta2 * ((1 - np.exp(- m / tau1)) / (m / tau1) - np.exp(- m / tau1)) + beta3 * ((1 - np.exp(- m / tau2)) / (m / tau2) - np.exp(- m / tau2))\n"
     ]
    },
    {
     "data": {
      "image/png": "[encoded data removed]",
      "text/plain": [
       "<Figure size 1080x540 with 1 Axes>"
      ]
     },
     "metadata": {
      "needs_background": "light"
     },
     "output_type": "display_data"
    }
   ],
   "source": [
    "j = 1000\n",
    "\n",
    "m = np.linspace(0, 30, 600)\n",
    "plt.figure(figsize = (15,7.5))\n",
    "plt.grid()\n",
    "plt.plot(m, ns(m, get_diebold_li_weights(j)[0]), label = 'NS curve')\n",
    "plt.plot(m, thesis_library.nss(m, get_diebold_li_weights(j)[1]), label = 'NSS curve')\n",
    "plt.title(dates[j])\n",
    "plt.scatter(bootstraped_rates_list[j].maturity, bootstraped_rates_list[j].rates, label = 'Bootsrap')\n",
    "plt.legend();"
   ]
  },
  {
   "cell_type": "markdown",
   "metadata": {},
   "source": [
    "### Calculating yields"
   ]
  },
  {
   "cell_type": "code",
   "execution_count": 719,
   "metadata": {},
   "outputs": [],
   "source": [
    "yields = pd.DataFrame(np.zeros([bonds_prices.shape[0], 4]), index = dates,\n",
    "                      columns = ['3-month', '2-year', '10-year', 'longest'])\n",
    "\n",
    "for i in range(len(dates)):\n",
    "    sorted_bonds = maturity_matrix.iloc[i].sort_values()\n",
    "    sorted_bonds.dropna(inplace=True)\n",
    "    \n",
    "    month_3_bond = sorted_bonds.iloc[(sorted_bonds-1/4).abs().argsort()].index[0]\n",
    "    year_2_bond = sorted_bonds.iloc[(sorted_bonds-2).abs().argsort()].index[0]\n",
    "    year_10_bond = sorted_bonds.iloc[(sorted_bonds-10).abs().argsort()].index[0]\n",
    "    longest_bond = sorted_bonds.index[-1]\n",
    "    \n",
    "    yields.at[dates[i], '3-month'] = irr_matrix[dates[i]:dates[i]][month_3_bond]\n",
    "    yields.at[dates[i], '2-year'] = irr_matrix[dates[i]:dates[i]][year_2_bond]\n",
    "    yields.at[dates[i], '10-year'] = irr_matrix[dates[i]:dates[i]][year_10_bond]\n",
    "    yields.at[dates[i], 'longest'] = irr_matrix[dates[i]:dates[i]][longest_bond]              "
   ]
  },
  {
   "cell_type": "code",
   "execution_count": 721,
   "metadata": {},
   "outputs": [],
   "source": [
    "yields.to_csv('/Users/andrey_lukyanov/Google_Drive/Studies/Year_4/Курсач/Coding/Comparing-numerical-methods-for-term-structure-fitting/Data/New_data/yields.csv')"
   ]
  },
  {
   "cell_type": "code",
   "execution_count": 742,
   "metadata": {},
   "outputs": [
    {
     "data": {
      "text/html": [
       "<div>\n",
       "<style scoped>\n",
       "    .dataframe tbody tr th:only-of-type {\n",
       "        vertical-align: middle;\n",
       "    }\n",
       "\n",
       "    .dataframe tbody tr th {\n",
       "        vertical-align: top;\n",
       "    }\n",
       "\n",
       "    .dataframe thead th {\n",
       "        text-align: right;\n",
       "    }\n",
       "</style>\n",
       "<table border=\"1\" class=\"dataframe\">\n",
       "  <thead>\n",
       "    <tr style=\"text-align: right;\">\n",
       "      <th></th>\n",
       "      <th>3-month</th>\n",
       "      <th>2-year</th>\n",
       "      <th>10-year</th>\n",
       "      <th>longest</th>\n",
       "    </tr>\n",
       "    <tr>\n",
       "      <th>TRADEDATE</th>\n",
       "      <th></th>\n",
       "      <th></th>\n",
       "      <th></th>\n",
       "      <th></th>\n",
       "    </tr>\n",
       "  </thead>\n",
       "  <tbody>\n",
       "    <tr>\n",
       "      <th>2014-01-08</th>\n",
       "      <td>0.059046</td>\n",
       "      <td>0.059046</td>\n",
       "      <td>0.074594</td>\n",
       "      <td>0.096524</td>\n",
       "    </tr>\n",
       "  </tbody>\n",
       "</table>\n",
       "</div>"
      ],
      "text/plain": [
       "             3-month    2-year   10-year   longest\n",
       "TRADEDATE                                         \n",
       "2014-01-08  0.059046  0.059046  0.074594  0.096524"
      ]
     },
     "execution_count": 742,
     "metadata": {},
     "output_type": "execute_result"
    }
   ],
   "source": [
    "yields[dates[1]:dates[1]]"
   ]
  },
  {
   "cell_type": "code",
   "execution_count": 761,
   "metadata": {},
   "outputs": [
    {
     "data": {
      "text/plain": [
       "array([ 1.76745493e+01,  1.97433873e+01, -6.39291786e-02,  5.90868490e-03,\n",
       "        1.50344858e-02,  1.16315710e-02])"
      ]
     },
     "execution_count": 761,
     "metadata": {},
     "output_type": "execute_result"
    }
   ],
   "source": [
    "i = 1\n",
    "\n",
    "tau_1 = 30\n",
    "tau_2 = 30\n",
    "beta_0 = yields[dates[i]:dates[i]]['longest'][0]\n",
    "beta_1 = yields[dates[i]:dates[i]]['10-year'][0] - yields[dates[i]:dates[i]]['3-month'][0]\n",
    "beta_2 = 2 * yields[dates[i]:dates[i]]['2-year'][0] - yields[dates[i]:dates[i]]['3-month'][0] - yields[dates[i]:dates[i]]['10-year'][0]\n",
    "beta_3 = beta_2\n",
    "\n",
    "np.array([np.random.rand() * tau_1, np.random.rand() * tau_2, 3 * beta_0 * np.random.rand() - beta_0,\n",
    "          3 * beta_1 * np.random.rand() - beta_1, 3 * beta_2 * np.random.rand() - beta_2, \n",
    "          3 * beta_3 * np.random.rand() - beta_3])"
   ]
  },
  {
   "cell_type": "code",
   "execution_count": 868,
   "metadata": {},
   "outputs": [
    {
     "data": {
      "text/html": [
       "<div>\n",
       "<style scoped>\n",
       "    .dataframe tbody tr th:only-of-type {\n",
       "        vertical-align: middle;\n",
       "    }\n",
       "\n",
       "    .dataframe tbody tr th {\n",
       "        vertical-align: top;\n",
       "    }\n",
       "\n",
       "    .dataframe thead th {\n",
       "        text-align: right;\n",
       "    }\n",
       "</style>\n",
       "<table border=\"1\" class=\"dataframe\">\n",
       "  <thead>\n",
       "    <tr style=\"text-align: right;\">\n",
       "      <th></th>\n",
       "      <th>3-month</th>\n",
       "      <th>2-year</th>\n",
       "      <th>10-year</th>\n",
       "      <th>longest</th>\n",
       "    </tr>\n",
       "    <tr>\n",
       "      <th>TRADEDATE</th>\n",
       "      <th></th>\n",
       "      <th></th>\n",
       "      <th></th>\n",
       "      <th></th>\n",
       "    </tr>\n",
       "  </thead>\n",
       "  <tbody>\n",
       "    <tr>\n",
       "      <th>2014-05-30</th>\n",
       "      <td>0.072912</td>\n",
       "      <td>0.079504</td>\n",
       "      <td>0.085895</td>\n",
       "      <td>0.093829</td>\n",
       "    </tr>\n",
       "  </tbody>\n",
       "</table>\n",
       "</div>"
      ],
      "text/plain": [
       "             3-month    2-year   10-year   longest\n",
       "TRADEDATE                                         \n",
       "2014-05-30  0.072912  0.079504  0.085895  0.093829"
      ]
     },
     "execution_count": 868,
     "metadata": {},
     "output_type": "execute_result"
    }
   ],
   "source": [
    "yields[dates[100]:dates[100]]"
   ]
  },
  {
   "cell_type": "code",
   "execution_count": 906,
   "metadata": {},
   "outputs": [
    {
     "name": "stdout",
     "output_type": "stream",
     "text": [
      "[ 2.85904732e+01  1.22720489e+01  9.32943961e-02 -9.68683742e-03\n",
      "  8.04035835e-05 -3.19727717e-05]\n"
     ]
    },
    {
     "name": "stderr",
     "output_type": "stream",
     "text": [
      "/Users/andrey_lukyanov/Google_Drive/Studies/Year_4/Курсач/Coding/Comparing-numerical-methods-for-term-structure-fitting/thesis_library.py:31: RuntimeWarning: invalid value encountered in true_divide\n",
      "  return beta0 + beta1 * (1 - np.exp(- m / tau1)) / (m / tau1) + beta2 * ((1 - np.exp(- m / tau1)) / (m / tau1) - np.exp(- m / tau1)) + beta3 * ((1 - np.exp(- m / tau2)) / (m / tau2) - np.exp(- m / tau2))\n"
     ]
    },
    {
     "data": {
      "image/png": "[encoded data removed]",
      "text/plain": [
       "<Figure size 1080x540 with 1 Axes>"
      ]
     },
     "metadata": {
      "needs_background": "light"
     },
     "output_type": "display_data"
    }
   ],
   "source": [
    "i = 100\n",
    "\n",
    "tau_1 = 30\n",
    "tau_2 = 30\n",
    "beta_0 = yields[dates[i]:dates[i]]['longest'][0]\n",
    "beta_1 = yields[dates[i]:dates[i]]['10-year'][0] - yields[dates[i]:dates[i]]['3-month'][0]\n",
    "beta_2 = 2 * yields[dates[i]:dates[i]]['2-year'][0] - yields[dates[i]:dates[i]]['3-month'][0] - yields[dates[i]:dates[i]]['10-year'][0]\n",
    "beta_3 = beta_2\n",
    "\n",
    "theta = np.array([np.random.rand() * tau_1, np.random.rand() * tau_2, 3 * beta_0 * np.random.rand() - beta_0,\n",
    "          3 * beta_1 * np.random.rand() - beta_1, 3 * beta_2 * np.random.rand() - beta_2, \n",
    "          3 * beta_3 * np.random.rand() - beta_3])\n",
    "\n",
    "m = np.linspace(0, 30, 600)\n",
    "plt.figure(figsize = (15,7.5))\n",
    "plt.title(dates[i])\n",
    "plt.grid()\n",
    "plt.plot(m, thesis_library.nss(m, theta), label = 'NSS curve')\n",
    "plt.scatter(bootstraped_rates_list[i].maturity, bootstraped_rates_list[i].rates, label = 'Bootsrap')\n",
    "plt.legend()\n",
    "print(theta);"
   ]
  }
 ],
 "metadata": {
  "kernelspec": {
   "display_name": "Python 3",
   "language": "python",
   "name": "python3"
  },
  "language_info": {
   "codemirror_mode": {
    "name": "ipython",
    "version": 3
   },
   "file_extension": ".py",
   "mimetype": "text/x-python",
   "name": "python",
   "nbconvert_exporter": "python",
   "pygments_lexer": "ipython3",
   "version": "3.7.7"
  }
 },
 "nbformat": 4,
 "nbformat_minor": 4
}
