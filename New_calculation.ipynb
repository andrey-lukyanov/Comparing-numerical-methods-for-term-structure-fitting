{
 "cells": [
  {
   "cell_type": "code",
   "execution_count": null,
   "metadata": {},
   "outputs": [],
   "source": [
    "from new_thesis_library import *\n",
    "\n",
    "import matplotlib.pyplot as plt\n",
    "import warnings\n",
    "warnings.filterwarnings('ignore')\n",
    "\n",
    "from multiprocessing import Pool\n",
    "\n",
    "%matplotlib inline"
   ]
  },
  {
   "cell_type": "markdown",
   "metadata": {},
   "source": [
    "# Previous day values"
   ]
  },
  {
   "cell_type": "code",
   "execution_count": null,
   "metadata": {},
   "outputs": [],
   "source": [
    "moex_theta = np.array([4.836731, 0.08779514, -0.03113246, 0.00511053])"
   ]
  },
  {
   "cell_type": "markdown",
   "metadata": {},
   "source": [
    "## L-BFGS-B"
   ]
  },
  {
   "cell_type": "code",
   "execution_count": null,
   "metadata": {},
   "outputs": [],
   "source": [
    "%%time\n",
    "\n",
    "thetas = np.zeros([len(dates), 4])\n",
    "time = np.zeros(len(dates))\n",
    "\n",
    "for i in range(len(dates)):\n",
    "    if i != 0:        \n",
    "        thetas[i], time[i] = optimize_on_day_with_starting_values(i, 'L-BFGS-B', theta0 = thetas[i - 1])        \n",
    "    else:\n",
    "        thetas[i], time[i] = optimize_on_day_with_starting_values(i, 'L-BFGS-B', theta0 = moex_theta)\n",
    "\n",
    "thetas = pd.DataFrame(thetas, index = dates, columns = ['tau', 'beta0', 'beta1', 'beta2'])\n",
    "thetas.to_csv(path + 'Thetas/l_bfgs_b_recurrent.csv')\n",
    "\n",
    "time = pd.DataFrame(time, index = dates, columns = ['Seconds'])\n",
    "time.to_csv(path + 'Time/l_bfgs_b_recurrent.csv')"
   ]
  },
  {
   "cell_type": "markdown",
   "metadata": {},
   "source": [
    "## Powell"
   ]
  },
  {
   "cell_type": "code",
   "execution_count": null,
   "metadata": {},
   "outputs": [],
   "source": [
    "%%time\n",
    "\n",
    "thetas = np.zeros([len(dates), 4])\n",
    "time = np.zeros(len(dates))\n",
    "\n",
    "for i in range(len(dates)):\n",
    "    if i != 0:        \n",
    "        thetas[i], time[i] = optimize_on_day_with_starting_values(i, 'Powell', theta0 = thetas[i - 1])        \n",
    "    else:\n",
    "        thetas[i], time[i] = optimize_on_day_with_starting_values(i, 'Powell', theta0 = moex_theta)\n",
    "\n",
    "thetas = pd.DataFrame(thetas, index = dates, columns = ['tau', 'beta0', 'beta1', 'beta2'])\n",
    "thetas.to_csv(path + 'Thetas/powell_recurrent.csv')\n",
    "\n",
    "time = pd.DataFrame(time, index = dates, columns = ['Seconds'])\n",
    "time.to_csv(path + 'Time/powell_recurrent.csv')"
   ]
  },
  {
   "cell_type": "markdown",
   "metadata": {},
   "source": [
    "## Nelder-Mead"
   ]
  },
  {
   "cell_type": "code",
   "execution_count": null,
   "metadata": {},
   "outputs": [],
   "source": [
    "%%time\n",
    "\n",
    "thetas = np.zeros([len(dates), 4])\n",
    "time = np.zeros(len(dates))\n",
    "\n",
    "for i in range(len(dates)):\n",
    "    if i != 0:        \n",
    "        thetas[i], time[i] = optimize_on_day_with_starting_values(i, 'nelder-mead', theta0 = thetas[i - 1])        \n",
    "    else:\n",
    "        thetas[i], time[i] = optimize_on_day_with_starting_values(i, 'nelder-mead', theta0 = moex_theta)\n",
    "\n",
    "thetas = pd.DataFrame(thetas, index = dates, columns = ['tau', 'beta0', 'beta1', 'beta2'])\n",
    "thetas.to_csv(path + 'Thetas/nelder_mead_recurrent.csv')\n",
    "\n",
    "time = pd.DataFrame(time, index = dates, columns = ['Seconds'])\n",
    "time.to_csv(path + 'Time/nelder_mead_recurrent.csv')"
   ]
  },
  {
   "cell_type": "markdown",
   "metadata": {},
   "source": [
    "## Trust-constr"
   ]
  },
  {
   "cell_type": "code",
   "execution_count": null,
   "metadata": {},
   "outputs": [],
   "source": [
    "%%time\n",
    "\n",
    "thetas = np.zeros([len(dates), 4])\n",
    "time = np.zeros(len(dates))\n",
    "\n",
    "for i in range(len(dates)):\n",
    "    if i != 0:        \n",
    "        thetas[i], time[i] = optimize_on_day_with_starting_values(i, 'trust-constr', theta0 = thetas[i - 1])        \n",
    "    else:\n",
    "        thetas[i], time[i] = optimize_on_day_with_starting_values(i, 'trust-constr', theta0 = moex_theta)\n",
    "\n",
    "thetas = pd.DataFrame(thetas, index = dates, columns = ['tau', 'beta0', 'beta1', 'beta2'])\n",
    "thetas.to_csv(path + 'Thetas/trust_constr_recurrent.csv')\n",
    "\n",
    "time = pd.DataFrame(time, index = dates, columns = ['Seconds'])\n",
    "time.to_csv(path + 'Time/trust_constr_recurrent.csv')"
   ]
  },
  {
   "cell_type": "markdown",
   "metadata": {},
   "source": [
    "# Random values"
   ]
  },
  {
   "cell_type": "code",
   "execution_count": null,
   "metadata": {},
   "outputs": [],
   "source": [
    "rand_thetas = []\n",
    "\n",
    "for i in range(16):\n",
    "    rand_thetas.append(pd.read_csv(path + 'Data/New_data/Random_thetas/rand_' + str(i + 1) + '.csv', \n",
    "                                   index_col='TRADEDATE', parse_dates=True))"
   ]
  },
  {
   "cell_type": "markdown",
   "metadata": {},
   "source": [
    "## L-BFGS-B"
   ]
  },
  {
   "cell_type": "markdown",
   "metadata": {},
   "source": [
    "### 1 - 4"
   ]
  },
  {
   "cell_type": "code",
   "execution_count": null,
   "metadata": {},
   "outputs": [],
   "source": [
    "%%time\n",
    "\n",
    "with Pool(processes=4) as pool: \n",
    "\n",
    "    pool.map(parallel_l_bfgs_b, rand_thetas[:4])"
   ]
  },
  {
   "cell_type": "markdown",
   "metadata": {},
   "source": [
    "### 5 - 8"
   ]
  },
  {
   "cell_type": "code",
   "execution_count": null,
   "metadata": {},
   "outputs": [],
   "source": [
    "%%time\n",
    "\n",
    "with Pool(processes=4) as pool: \n",
    "\n",
    "    pool.map(parallel_l_bfgs_b, rand_thetas[4:8])"
   ]
  },
  {
   "cell_type": "markdown",
   "metadata": {},
   "source": [
    "### 9 - 12"
   ]
  },
  {
   "cell_type": "code",
   "execution_count": null,
   "metadata": {},
   "outputs": [],
   "source": [
    "%%time\n",
    "\n",
    "with Pool(processes=4) as pool: \n",
    "\n",
    "    pool.map(parallel_l_bfgs_b, rand_thetas[8:12])"
   ]
  },
  {
   "cell_type": "markdown",
   "metadata": {},
   "source": [
    "### 13 - 16"
   ]
  },
  {
   "cell_type": "code",
   "execution_count": null,
   "metadata": {},
   "outputs": [],
   "source": [
    "%%time\n",
    "\n",
    "with Pool(processes=4) as pool: \n",
    "\n",
    "    pool.map(parallel_l_bfgs_b, rand_thetas[12:16])"
   ]
  },
  {
   "cell_type": "markdown",
   "metadata": {},
   "source": [
    "## Powell"
   ]
  },
  {
   "cell_type": "markdown",
   "metadata": {},
   "source": [
    "### 1 - 4"
   ]
  },
  {
   "cell_type": "code",
   "execution_count": null,
   "metadata": {},
   "outputs": [],
   "source": [
    "%%time\n",
    "\n",
    "with Pool(processes=4) as pool: \n",
    "\n",
    "    pool.map(parallel_powell, rand_thetas[:4])"
   ]
  },
  {
   "cell_type": "markdown",
   "metadata": {},
   "source": [
    "### 5 - 8"
   ]
  },
  {
   "cell_type": "code",
   "execution_count": null,
   "metadata": {},
   "outputs": [],
   "source": [
    "%%time\n",
    "\n",
    "with Pool(processes=4) as pool: \n",
    "\n",
    "    pool.map(parallel_powell, rand_thetas[4:8])"
   ]
  },
  {
   "cell_type": "markdown",
   "metadata": {},
   "source": [
    "### 9 - 12"
   ]
  },
  {
   "cell_type": "code",
   "execution_count": null,
   "metadata": {},
   "outputs": [],
   "source": [
    "%%time\n",
    "\n",
    "with Pool(processes=4) as pool: \n",
    "\n",
    "    pool.map(parallel_powell, rand_thetas[8:12])"
   ]
  },
  {
   "cell_type": "markdown",
   "metadata": {},
   "source": [
    "### 13 - 16"
   ]
  },
  {
   "cell_type": "code",
   "execution_count": null,
   "metadata": {},
   "outputs": [],
   "source": [
    "%%time\n",
    "\n",
    "with Pool(processes=4) as pool: \n",
    "\n",
    "    pool.map(parallel_powell, rand_thetas[12:16])"
   ]
  },
  {
   "cell_type": "markdown",
   "metadata": {},
   "source": [
    "## Nelder-Mead"
   ]
  },
  {
   "cell_type": "markdown",
   "metadata": {},
   "source": [
    "### 1 - 4"
   ]
  },
  {
   "cell_type": "code",
   "execution_count": null,
   "metadata": {},
   "outputs": [],
   "source": [
    "%%time\n",
    "\n",
    "with Pool(processes=4) as pool: \n",
    "\n",
    "    pool.map(parallel_nelder_mead, rand_thetas[:4])"
   ]
  },
  {
   "cell_type": "markdown",
   "metadata": {},
   "source": [
    "### 5 - 8"
   ]
  },
  {
   "cell_type": "code",
   "execution_count": null,
   "metadata": {},
   "outputs": [],
   "source": [
    "%%time\n",
    "\n",
    "with Pool(processes=4) as pool: \n",
    "\n",
    "    pool.map(parallel_nelder_mead, rand_thetas[4:8])"
   ]
  },
  {
   "cell_type": "markdown",
   "metadata": {},
   "source": [
    "### 9 - 12"
   ]
  },
  {
   "cell_type": "code",
   "execution_count": null,
   "metadata": {},
   "outputs": [],
   "source": [
    "%%time\n",
    "\n",
    "with Pool(processes=4) as pool: \n",
    "\n",
    "    pool.map(parallel_nelder_mead, rand_thetas[8:12])"
   ]
  },
  {
   "cell_type": "markdown",
   "metadata": {},
   "source": [
    "### 13 - 16"
   ]
  },
  {
   "cell_type": "code",
   "execution_count": null,
   "metadata": {},
   "outputs": [],
   "source": [
    "%%time\n",
    "\n",
    "with Pool(processes=4) as pool: \n",
    "\n",
    "    pool.map(parallel_nelder_mead, rand_thetas[12:16])"
   ]
  },
  {
   "cell_type": "markdown",
   "metadata": {},
   "source": [
    "## Trust-constr"
   ]
  },
  {
   "cell_type": "markdown",
   "metadata": {},
   "source": [
    "### 1 - 4"
   ]
  },
  {
   "cell_type": "code",
   "execution_count": null,
   "metadata": {},
   "outputs": [],
   "source": [
    "%%time\n",
    "\n",
    "with Pool(processes=4) as pool: \n",
    "\n",
    "    pool.map(parallel_trust_constr, rand_thetas[:4])"
   ]
  },
  {
   "cell_type": "markdown",
   "metadata": {},
   "source": [
    "### 5 - 8"
   ]
  },
  {
   "cell_type": "code",
   "execution_count": null,
   "metadata": {},
   "outputs": [],
   "source": [
    "%%time\n",
    "\n",
    "with Pool(processes=4) as pool: \n",
    "\n",
    "    pool.map(parallel_trust_constr, rand_thetas[4:8])"
   ]
  },
  {
   "cell_type": "markdown",
   "metadata": {},
   "source": [
    "### 9 - 12"
   ]
  },
  {
   "cell_type": "code",
   "execution_count": null,
   "metadata": {},
   "outputs": [],
   "source": [
    "%%time\n",
    "\n",
    "with Pool(processes=4) as pool: \n",
    "\n",
    "    pool.map(parallel_trust_constr, rand_thetas[8:12])"
   ]
  },
  {
   "cell_type": "markdown",
   "metadata": {},
   "source": [
    "### 13 - 16"
   ]
  },
  {
   "cell_type": "code",
   "execution_count": null,
   "metadata": {},
   "outputs": [],
   "source": [
    "%%time\n",
    "\n",
    "with Pool(processes=4) as pool: \n",
    "\n",
    "    pool.map(parallel_trust_constr, rand_thetas[12:16])"
   ]
  },
  {
   "cell_type": "markdown",
   "metadata": {},
   "source": [
    "## Leftovers after ValueError"
   ]
  },
  {
   "cell_type": "code",
   "execution_count": null,
   "metadata": {},
   "outputs": [],
   "source": [
    "%%time\n",
    "\n",
    "with Pool(processes=4) as pool: \n",
    "\n",
    "    pool.map(parallel_trust_constr, [rand_thetas[5], rand_thetas[7], rand_thetas[8], rand_thetas[10]])"
   ]
  },
  {
   "cell_type": "code",
   "execution_count": null,
   "metadata": {},
   "outputs": [],
   "source": [
    "%%time\n",
    "\n",
    "with Pool(processes=2) as pool: \n",
    "\n",
    "    pool.map(parallel_trust_constr, [rand_thetas[13], rand_thetas[15]])"
   ]
  },
  {
   "cell_type": "markdown",
   "metadata": {},
   "source": [
    "# Diebold, Li weights"
   ]
  },
  {
   "cell_type": "code",
   "execution_count": null,
   "metadata": {},
   "outputs": [],
   "source": [
    "diebold_li_values = pd.read_csv(path + 'Data/New_data/diebold_li.csv', \n",
    "                                index_col='TRADEDATE', parse_dates=True)"
   ]
  },
  {
   "cell_type": "markdown",
   "metadata": {},
   "source": [
    "## L-BFGS-B"
   ]
  },
  {
   "cell_type": "code",
   "execution_count": null,
   "metadata": {},
   "outputs": [],
   "source": [
    "%%time\n",
    "\n",
    "thetas = np.zeros([len(dates), 4])\n",
    "time = np.zeros(len(dates))\n",
    "\n",
    "for i in range(len(dates)):\n",
    "    thetas[i], time[i] = optimize_on_day_with_starting_values(i, 'L-BFGS-B', theta0 = np.copy(diebold_li_values.iloc[i]))        \n",
    "\n",
    "thetas = pd.DataFrame(thetas, index = dates, columns = ['tau', 'beta0', 'beta1', 'beta2'])\n",
    "thetas.to_csv(path + 'Thetas/l_bfgs_b_diebold_li.csv')\n",
    "\n",
    "time = pd.DataFrame(time, index = dates, columns = ['Seconds'])\n",
    "time.to_csv(path + 'Time/l_bfgs_b_diebold_li.csv')"
   ]
  },
  {
   "cell_type": "markdown",
   "metadata": {},
   "source": [
    "## Powell"
   ]
  },
  {
   "cell_type": "code",
   "execution_count": null,
   "metadata": {},
   "outputs": [],
   "source": [
    "%%time\n",
    "\n",
    "thetas = np.zeros([len(dates), 4])\n",
    "time = np.zeros(len(dates))\n",
    "\n",
    "for i in range(len(dates)):\n",
    "    thetas[i], time[i] = optimize_on_day_with_starting_values(i, 'Powell', theta0 = np.copy(diebold_li_values.iloc[i]))        \n",
    "\n",
    "thetas = pd.DataFrame(thetas, index = dates, columns = ['tau', 'beta0', 'beta1', 'beta2'])\n",
    "thetas.to_csv(path + 'Thetas/powell_diebold_li.csv')\n",
    "\n",
    "time = pd.DataFrame(time, index = dates, columns = ['Seconds'])\n",
    "time.to_csv(path + 'Time/powell_diebold_li.csv')"
   ]
  },
  {
   "cell_type": "markdown",
   "metadata": {},
   "source": [
    "## Nelder-Mead"
   ]
  },
  {
   "cell_type": "code",
   "execution_count": null,
   "metadata": {},
   "outputs": [],
   "source": [
    "%%time\n",
    "\n",
    "thetas = np.zeros([len(dates), 4])\n",
    "time = np.zeros(len(dates))\n",
    "\n",
    "for i in range(len(dates)):\n",
    "    thetas[i], time[i] = optimize_on_day_with_starting_values(i, 'Nelder-Mead', theta0 = np.copy(diebold_li_values.iloc[i]))        \n",
    "\n",
    "thetas = pd.DataFrame(thetas, index = dates, columns = ['tau', 'beta0', 'beta1', 'beta2'])\n",
    "thetas.to_csv(path + 'Thetas/nelder_mead_diebold_li.csv')\n",
    "\n",
    "time = pd.DataFrame(time, index = dates, columns = ['Seconds'])\n",
    "time.to_csv(path + 'Time/nelder_mead_diebold_li.csv')"
   ]
  },
  {
   "cell_type": "markdown",
   "metadata": {},
   "source": [
    "## Trust-constr"
   ]
  },
  {
   "cell_type": "code",
   "execution_count": null,
   "metadata": {},
   "outputs": [],
   "source": [
    "%%time\n",
    "\n",
    "thetas = np.zeros([len(dates), 4])\n",
    "time = np.zeros(len(dates))\n",
    "\n",
    "for i in range(len(dates)):\n",
    "    try:\n",
    "        thetas[i], time[i] = optimize_on_day_with_starting_values(i, 'trust-constr', theta0 = np.copy(diebold_li_values.iloc[i]))            \n",
    "    except ValueError:\n",
    "        print('ValueError on day', i)\n",
    "        thetas[i] = np.nan\n",
    "        time[i] = np.nan\n",
    "\n",
    "thetas = pd.DataFrame(thetas, index = dates, columns = ['tau', 'beta0', 'beta1', 'beta2'])\n",
    "thetas.to_csv(path + 'Thetas/trust_constr_diebold_li.csv')\n",
    "\n",
    "time = pd.DataFrame(time, index = dates, columns = ['Seconds'])\n",
    "time.to_csv(path + 'Time/trust_constr_diebold_li.csv')"
   ]
  }
 ],
 "metadata": {
  "kernelspec": {
   "display_name": "Python 3",
   "language": "python",
   "name": "python3"
  },
  "language_info": {
   "codemirror_mode": {
    "name": "ipython",
    "version": 3
   },
   "file_extension": ".py",
   "mimetype": "text/x-python",
   "name": "python",
   "nbconvert_exporter": "python",
   "pygments_lexer": "ipython3",
   "version": "3.6.10"
  }
 },
 "nbformat": 4,
 "nbformat_minor": 4
}
