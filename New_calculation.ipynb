{
 "cells": [
  {
   "cell_type": "code",
   "execution_count": 7,
   "metadata": {},
   "outputs": [],
   "source": [
    "import thesis_library\n",
    "from multiprocessing import Pool\n",
    "import numpy as np\n",
    "import pandas as pd\n",
    "from scipy.optimize import minimize\n",
    "import numpy as np\n",
    "import matplotlib.pyplot as plt"
   ]
  },
  {
   "cell_type": "markdown",
   "metadata": {},
   "source": [
    "# Previous day values"
   ]
  },
  {
   "cell_type": "markdown",
   "metadata": {},
   "source": [
    "### Best theta on day 1"
   ]
  },
  {
   "cell_type": "markdown",
   "metadata": {},
   "source": [
    "Зафитим кривую на ставки ЦБ на первый день. Дальше будем использовать веса предыдущего дня."
   ]
  },
  {
   "cell_type": "code",
   "execution_count": 2,
   "metadata": {},
   "outputs": [],
   "source": [
    "cbr_maturities = np.array([0.25, 0.50, 0.75, 1.00, 2.00, 3.00, 5.00, 7.00, 10.00, 15.00, 20.00, 30.00])\n",
    "cbr_rates_040116 = np.array([8.77, 9.34, 9.70, 9.91, 10.07, 9.97, 9.80, 9.67, 9.51, 9.39, 9.35, 9.34])"
   ]
  },
  {
   "cell_type": "code",
   "execution_count": 7,
   "metadata": {},
   "outputs": [],
   "source": [
    "def fit_curve(theta):\n",
    "    return ((cbr_rates_040116 - thesis_library.nss(cbr_maturities, theta))**2).sum()"
   ]
  },
  {
   "cell_type": "code",
   "execution_count": 11,
   "metadata": {},
   "outputs": [
    {
     "name": "stdout",
     "output_type": "stream",
     "text": [
      "Optimization terminated successfully.\n",
      "         Current function value: 0.003174\n",
      "         Iterations: 2134\n",
      "         Function evaluations: 3327\n"
     ]
    }
   ],
   "source": [
    "theta0 = np.array([10, 10, 10, 10, 10, 10])\n",
    "\n",
    "best_theta = minimize(fit_curve, theta0, method='nelder-mead',\n",
    "               options={'xtol': 1e-8, 'disp': True, 'maxiter': 10000})"
   ]
  },
  {
   "cell_type": "code",
   "execution_count": 12,
   "metadata": {},
   "outputs": [
    {
     "data": {
      "text/plain": [
       "array([ 0.53856818,  1.47032643,  9.19966626, -1.41323064,  3.39936123,\n",
       "        1.49109947])"
      ]
     },
     "execution_count": 12,
     "metadata": {},
     "output_type": "execute_result"
    }
   ],
   "source": [
    "best_theta.x"
   ]
  },
  {
   "cell_type": "markdown",
   "metadata": {},
   "source": [
    "## BFGS"
   ]
  },
  {
   "cell_type": "code",
   "execution_count": 20,
   "metadata": {},
   "outputs": [],
   "source": [
    "thetas = np.zeros([len(thesis_library.dates), 6])\n",
    "\n",
    "for i in range(4):\n",
    "    if i != 0:        \n",
    "        thetas[i] = thesis_library.optimize_on_day_with_starting_values(i, 'BFGS', theta0 = thetas[i - 1])        \n",
    "    else:\n",
    "        thetas[i] = thesis_library.optimize_on_day_with_starting_values(i, 'BFGS', theta0 = best_theta.x)\n",
    "\n",
    "thetas = pd.DataFrame(thetas, index = thesis_library.dates, columns = ['tau1', 'tau2', 'beta0', 'beta1', 'beta2', 'beta3'])\n",
    "thetas.to_csv('C:/Users/1/Desktop/Comparing-numerical-methods-for-term-structure-fitting/Thetas/bfgs_recurrent.csv')"
   ]
  },
  {
   "cell_type": "markdown",
   "metadata": {},
   "source": [
    "## Nelder-Mead"
   ]
  },
  {
   "cell_type": "code",
   "execution_count": 20,
   "metadata": {},
   "outputs": [],
   "source": [
    "thetas = np.zeros([len(thesis_library.dates), 6])\n",
    "\n",
    "for i in range(4):\n",
    "    if i != 0:        \n",
    "        thetas[i] = thesis_library.optimize_on_day_with_starting_values(i, 'nelder-mead', theta0 = thetas[i - 1])        \n",
    "    else:\n",
    "        thetas[i] = thesis_library.optimize_on_day_with_starting_values(i, 'nelder-mead', theta0 = best_theta.x)\n",
    "\n",
    "thetas = pd.DataFrame(thetas, index = thesis_library.dates, columns = ['tau1', 'tau2', 'beta0', 'beta1', 'beta2', 'beta3'])\n",
    "thetas.to_csv('C:/Users/1/Desktop/Comparing-numerical-methods-for-term-structure-fitting/Thetas/nelder_mead_recurrent.csv')"
   ]
  },
  {
   "cell_type": "markdown",
   "metadata": {},
   "source": [
    "## Powell"
   ]
  },
  {
   "cell_type": "code",
   "execution_count": 20,
   "metadata": {},
   "outputs": [],
   "source": [
    "thetas = np.zeros([len(thesis_library.dates), 6])\n",
    "\n",
    "for i in range(4):\n",
    "    if i != 0:        \n",
    "        thetas[i] = thesis_library.optimize_on_day_with_starting_values(i, 'powell', theta0 = thetas[i - 1])        \n",
    "    else:\n",
    "        thetas[i] = thesis_library.optimize_on_day_with_starting_values(i, 'powell', theta0 = best_theta.x)\n",
    "\n",
    "thetas = pd.DataFrame(thetas, index = thesis_library.dates, columns = ['tau1', 'tau2', 'beta0', 'beta1', 'beta2', 'beta3'])\n",
    "thetas.to_csv('C:/Users/1/Desktop/Comparing-numerical-methods-for-term-structure-fitting/Thetas/powell_recurrent.csv')"
   ]
  },
  {
   "cell_type": "markdown",
   "metadata": {},
   "source": [
    "# Random starting values"
   ]
  },
  {
   "cell_type": "markdown",
   "metadata": {},
   "source": [
    "### Values generated"
   ]
  },
  {
   "cell_type": "code",
   "execution_count": 4,
   "metadata": {},
   "outputs": [],
   "source": [
    "np.random.seed(1)\n",
    "\n",
    "rand_thetas = [np.concatenate([np.array([i]), np.random.uniform(low=0, high=30, size = 2), \n",
    "                              np.random.uniform(low=0, high=100, size = 2), np.random.uniform(low=-100, high=100, size = 2)\n",
    "                              ]) for i in range(1, 9)]"
   ]
  },
  {
   "cell_type": "code",
   "execution_count": 10,
   "metadata": {},
   "outputs": [
    {
     "data": {
      "text/plain": [
       "array([ 1.25106601e+01,  2.16097348e+01,  1.14374817e-02,  3.02332573e+01,\n",
       "       -7.06488218e+01, -8.15322810e+01])"
      ]
     },
     "execution_count": 10,
     "metadata": {},
     "output_type": "execute_result"
    }
   ],
   "source": [
    "rand_thetas[0][1:]"
   ]
  },
  {
   "cell_type": "code",
   "execution_count": 13,
   "metadata": {},
   "outputs": [
    {
     "data": {
      "text/plain": [
       "[<matplotlib.lines.Line2D at 0x10fdcf668>]"
      ]
     },
     "execution_count": 13,
     "metadata": {},
     "output_type": "execute_result"
    },
    {
     "data": {
      "image/png": "[encoded data removed]",
      "text/plain": [
       "<Figure size 1440x720 with 1 Axes>"
      ]
     },
     "metadata": {
      "needs_background": "light"
     },
     "output_type": "display_data"
    }
   ],
   "source": [
    "maturities = np.linspace(0, 30, 121)\n",
    "\n",
    "plt.figure(figsize=(20, 10))\n",
    "plt.plot(maturities, thesis_library.nss(maturities, theta = rand_thetas[0][1:]))\n",
    "plt.plot(maturities, thesis_library.nss(maturities, theta = rand_thetas[1][1:]))\n",
    "plt.plot(maturities, thesis_library.nss(maturities, theta = rand_thetas[2][1:]))\n",
    "plt.plot(maturities, thesis_library.nss(maturities, theta = rand_thetas[3][1:]))\n",
    "plt.plot(maturities, thesis_library.nss(maturities, theta = rand_thetas[4][1:]))\n",
    "plt.plot(maturities, thesis_library.nss(maturities, theta = rand_thetas[5][1:]))\n",
    "plt.plot(maturities, thesis_library.nss(maturities, theta = rand_thetas[6][1:]))\n",
    "plt.plot(maturities, thesis_library.nss(maturities, theta = rand_thetas[7][1:]));"
   ]
  },
  {
   "cell_type": "markdown",
   "metadata": {},
   "source": [
    "## BFGS"
   ]
  },
  {
   "cell_type": "markdown",
   "metadata": {},
   "source": [
    "### 1 - 4"
   ]
  },
  {
   "cell_type": "code",
   "execution_count": 4,
   "metadata": {},
   "outputs": [
    {
     "name": "stdout",
     "output_type": "stream",
     "text": [
      "Wall time: 55min 18s\n"
     ]
    }
   ],
   "source": [
    "%%time\n",
    "\n",
    "with Pool(processes=4) as pool: \n",
    "\n",
    "    pool.map(thesis_library.optimize_ss_bfgs, rand_thetas[:4])"
   ]
  },
  {
   "cell_type": "markdown",
   "metadata": {},
   "source": [
    "### 5 - 8"
   ]
  },
  {
   "cell_type": "code",
   "execution_count": null,
   "metadata": {},
   "outputs": [
    {
     "name": "stdout",
     "output_type": "stream",
     "text": [
      "Wall time: 1h 17min 37s\n"
     ]
    }
   ],
   "source": [
    "%%time\n",
    "\n",
    "with Pool(processes=4) as pool: \n",
    "\n",
    "    pool.map(thesis_library.optimize_ss_bfgs, rand_thetas[4:])"
   ]
  },
  {
   "cell_type": "markdown",
   "metadata": {},
   "source": [
    "## Nelder-Mead"
   ]
  },
  {
   "cell_type": "markdown",
   "metadata": {},
   "source": [
    "### 1 - 4"
   ]
  },
  {
   "cell_type": "code",
   "execution_count": 3,
   "metadata": {},
   "outputs": [
    {
     "name": "stdout",
     "output_type": "stream",
     "text": [
      "Wall time: 54min 22s\n"
     ]
    }
   ],
   "source": [
    "%%time\n",
    "\n",
    "with Pool(processes=4) as pool: \n",
    "\n",
    "    pool.map(thesis_library.optimize_ss_nelder_mead, rand_thetas[:4])"
   ]
  },
  {
   "cell_type": "markdown",
   "metadata": {},
   "source": [
    "### 5 - 8"
   ]
  },
  {
   "cell_type": "code",
   "execution_count": 4,
   "metadata": {},
   "outputs": [
    {
     "name": "stdout",
     "output_type": "stream",
     "text": [
      "Wall time: 1h 13min 16s\n"
     ]
    }
   ],
   "source": [
    "%%time\n",
    "\n",
    "with Pool(processes=4) as pool: \n",
    "\n",
    "    pool.map(thesis_library.optimize_ss_nelder_mead, rand_thetas[4:])"
   ]
  },
  {
   "cell_type": "markdown",
   "metadata": {},
   "source": [
    "## Powell"
   ]
  },
  {
   "cell_type": "markdown",
   "metadata": {},
   "source": [
    "### 1 - 4"
   ]
  },
  {
   "cell_type": "code",
   "execution_count": 5,
   "metadata": {},
   "outputs": [
    {
     "name": "stdout",
     "output_type": "stream",
     "text": [
      "Wall time: 51min 33s\n"
     ]
    }
   ],
   "source": [
    "%%time\n",
    "\n",
    "with Pool(processes=4) as pool: \n",
    "\n",
    "    pool.map(thesis_library.optimize_ss_powell, rand_thetas[:4])"
   ]
  },
  {
   "cell_type": "markdown",
   "metadata": {},
   "source": [
    "### 5 - 8"
   ]
  },
  {
   "cell_type": "code",
   "execution_count": 6,
   "metadata": {},
   "outputs": [
    {
     "name": "stdout",
     "output_type": "stream",
     "text": [
      "Wall time: 1h 12min 36s\n"
     ]
    }
   ],
   "source": [
    "%%time\n",
    "\n",
    "with Pool(processes=4) as pool: \n",
    "\n",
    "    pool.map(thesis_library.optimize_ss_powell, rand_thetas[4:])"
   ]
  },
  {
   "cell_type": "markdown",
   "metadata": {},
   "source": [
    "# Diebold, Li starting values"
   ]
  },
  {
   "cell_type": "markdown",
   "metadata": {},
   "source": [
    "# PSO"
   ]
  },
  {
   "cell_type": "code",
   "execution_count": null,
   "metadata": {},
   "outputs": [],
   "source": [
    "intervals = [np.array([0, 62]), np.array([62, 126]), np.array([126, 189]), np.array([189, 251])]"
   ]
  },
  {
   "cell_type": "code",
   "execution_count": null,
   "metadata": {},
   "outputs": [],
   "source": [
    "%%time\n",
    "\n",
    "with Pool(processes=4) as pool: \n",
    "\n",
    "    pool.map(pso_multithread, intervals)"
   ]
  },
  {
   "cell_type": "markdown",
   "metadata": {},
   "source": [
    "# Flat 7%, tau 3 and 7"
   ]
  }
 ],
 "metadata": {
  "kernelspec": {
   "display_name": "Python 3",
   "language": "python",
   "name": "python3"
  },
  "language_info": {
   "codemirror_mode": {
    "name": "ipython",
    "version": 3
   },
   "file_extension": ".py",
   "mimetype": "text/x-python",
   "name": "python",
   "nbconvert_exporter": "python",
   "pygments_lexer": "ipython3",
   "version": "3.6.7"
  }
 },
 "nbformat": 4,
 "nbformat_minor": 2
}
