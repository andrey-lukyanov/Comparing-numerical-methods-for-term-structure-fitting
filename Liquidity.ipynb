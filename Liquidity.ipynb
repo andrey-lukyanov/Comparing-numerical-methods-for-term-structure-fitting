{
 "cells": [
  {
   "cell_type": "code",
   "execution_count": 1,
   "metadata": {},
   "outputs": [],
   "source": [
    "import matplotlib.pyplot as plt\n",
    "%matplotlib inline\n",
    "from new_thesis_library import *\n",
    "pd.options.display.max_rows = 999\n",
    "import warnings\n",
    "warnings.filterwarnings('ignore')"
   ]
  },
  {
   "cell_type": "code",
   "execution_count": 70,
   "metadata": {},
   "outputs": [
    {
     "data": {
      "text/plain": [
       "44"
      ]
     },
     "execution_count": 70,
     "metadata": {},
     "output_type": "execute_result"
    }
   ],
   "source": [
    "len(bonds_payments.ISIN.unique())"
   ]
  },
  {
   "cell_type": "markdown",
   "metadata": {},
   "source": [
    "# Thetas import"
   ]
  },
  {
   "cell_type": "code",
   "execution_count": 3,
   "metadata": {},
   "outputs": [],
   "source": [
    "thetas = {'L-BFGS-B': {'Random ' + str(i): pd.read_csv(path + '/Thetas/l_bfgs_b_rand_' + str(i) + '.csv', \n",
    "                                       index_col='TRADEDATE', parse_dates = True) for i in range(1, 17)},\n",
    "          'Powell': {'Random ' + str(i): pd.read_csv(path + '/Thetas/powell_rand_' + str(i) + '.csv', \n",
    "                                       index_col='TRADEDATE', parse_dates = True) for i in range(1, 17)},\n",
    "          'Nelder-Mead': {'Random ' + str(i): pd.read_csv(path + '/Thetas/nelder_mead_rand_' + str(i) + '.csv', \n",
    "                                       index_col='TRADEDATE', parse_dates = True) for i in range(1, 17)},\n",
    "          'Trust Constrained': {'Random ' + str(i): pd.read_csv(path + '/Thetas/trust_constr_rand_' + str(i) + '.csv', \n",
    "                                       index_col='TRADEDATE', parse_dates = True) for i in range(1, 17)}}"
   ]
  },
  {
   "cell_type": "code",
   "execution_count": 4,
   "metadata": {},
   "outputs": [],
   "source": [
    "thetas['L-BFGS-B']['Best of Random'] = pd.read_csv(path + '/Thetas/l_bfgs_b_best_of_rand.csv', \n",
    "                                                     index_col='TRADEDATE', parse_dates = True)\n",
    "thetas['L-BFGS-B']['Recurrent'] = pd.read_csv(path + '/Thetas/l_bfgs_b_recurrent.csv', \n",
    "                                            index_col='TRADEDATE', parse_dates = True) \n",
    "thetas['L-BFGS-B']['Manousopoulos'] = pd.read_csv(path + '/Thetas/l_bfgs_b_manousopoulos.csv', \n",
    "                                                    index_col='TRADEDATE', parse_dates = True) \n",
    "thetas['L-BFGS-B']['Diebold, Li'] = pd.read_csv(path + '/Thetas/l_bfgs_b_diebold_li.csv', \n",
    "                                     index_col='TRADEDATE', parse_dates = True) "
   ]
  },
  {
   "cell_type": "code",
   "execution_count": 5,
   "metadata": {},
   "outputs": [],
   "source": [
    "thetas['Powell']['Best of Random'] = pd.read_csv(path + '/Thetas/powell_best_of_rand.csv', \n",
    "                                                     index_col='TRADEDATE', parse_dates = True)\n",
    "thetas['Powell']['Recurrent'] = pd.read_csv(path + '/Thetas/powell_recurrent.csv', \n",
    "                                            index_col='TRADEDATE', parse_dates = True) \n",
    "thetas['Powell']['Manousopoulos'] = pd.read_csv(path + '/Thetas/powell_manousopoulos.csv', \n",
    "                                                    index_col='TRADEDATE', parse_dates = True) \n",
    "thetas['Powell']['Diebold, Li'] = pd.read_csv(path + '/Thetas/powell_diebold_li.csv', \n",
    "                                     index_col='TRADEDATE', parse_dates = True) "
   ]
  },
  {
   "cell_type": "code",
   "execution_count": 6,
   "metadata": {},
   "outputs": [],
   "source": [
    "thetas['Nelder-Mead']['Best of Random'] = pd.read_csv(path + '/Thetas/nelder_mead_best_of_rand.csv', \n",
    "                                                     index_col='TRADEDATE', parse_dates = True)\n",
    "thetas['Nelder-Mead']['Recurrent'] = pd.read_csv(path + '/Thetas/nelder_mead_recurrent.csv', \n",
    "                                            index_col='TRADEDATE', parse_dates = True) \n",
    "thetas['Nelder-Mead']['Manousopoulos'] = pd.read_csv(path + '/Thetas/nelder_mead_manousopoulos.csv', \n",
    "                                                    index_col='TRADEDATE', parse_dates = True) \n",
    "thetas['Nelder-Mead']['Diebold, Li'] = pd.read_csv(path + '/Thetas/nelder_mead_diebold_li.csv', \n",
    "                                     index_col='TRADEDATE', parse_dates = True) "
   ]
  },
  {
   "cell_type": "code",
   "execution_count": 7,
   "metadata": {},
   "outputs": [],
   "source": [
    "thetas['Trust Constrained']['Best of Random'] = pd.read_csv(path + '/Thetas/trust_constr_best_of_rand.csv', \n",
    "                                                     index_col='TRADEDATE', parse_dates = True)\n",
    "thetas['Trust Constrained']['Recurrent'] = pd.read_csv(path + '/Thetas/trust_constr_recurrent.csv', \n",
    "                                            index_col='TRADEDATE', parse_dates = True) \n",
    "thetas['Trust Constrained']['Manousopoulos'] = pd.read_csv(path + '/Thetas/trust_constr_manousopoulos.csv', \n",
    "                                                    index_col='TRADEDATE', parse_dates = True) \n",
    "thetas['Trust Constrained']['Diebold, Li'] = pd.read_csv(path + '/Thetas/trust_constr_diebold_li.csv', \n",
    "                                     index_col='TRADEDATE', parse_dates = True) "
   ]
  },
  {
   "cell_type": "code",
   "execution_count": 178,
   "metadata": {},
   "outputs": [],
   "source": [
    "moex_thetas = pd.read_csv(path + 'Data/New_data/moex_dynamic.csv',\n",
    "                          sep = ';')\n",
    "\n",
    "moex_thetas['tradedate'] = pd.to_datetime(moex_thetas['tradedate'], format='%d.%m.%Y')\n",
    "moex_thetas[['B1', 'B2', 'B3', 'T1']] = moex_thetas[['B1', 'B2', 'B3', 'T1']].apply(lambda x: x.str.replace(',','.'))\n",
    "moex_thetas[['B1', 'B2', 'B3', 'T1']] = moex_thetas[['B1', 'B2', 'B3', 'T1']].astype('float64')\n",
    "moex_thetas[['B1', 'B2', 'B3']] = moex_thetas[['B1', 'B2', 'B3']]/10000\n",
    "moex_thetas = moex_thetas[['tradedate', 'T1', 'B1', 'B2', 'B3']]\n",
    "moex_thetas.set_index('tradedate', inplace = True)"
   ]
  },
  {
   "cell_type": "markdown",
   "metadata": {},
   "source": [
    "# Ruble import"
   ]
  },
  {
   "cell_type": "code",
   "execution_count": 188,
   "metadata": {},
   "outputs": [],
   "source": [
    "pd.core.common.is_list_like = pd.api.types.is_list_like\n",
    "import pandas_datareader as web"
   ]
  },
  {
   "cell_type": "code",
   "execution_count": 190,
   "metadata": {},
   "outputs": [],
   "source": [
    "RUB = web.DataReader(\"RUB=X\", start='2014-01-01', data_source='yahoo')['Adj Close']"
   ]
  },
  {
   "cell_type": "code",
   "execution_count": 198,
   "metadata": {},
   "outputs": [
    {
     "data": {
      "text/plain": [
       "datetime.date(2016, 1, 6)"
      ]
     },
     "execution_count": 198,
     "metadata": {},
     "output_type": "execute_result"
    }
   ],
   "source": [
    "dt.date(year=2016, day = 6, month = 1)"
   ]
  },
  {
   "cell_type": "code",
   "execution_count": 213,
   "metadata": {},
   "outputs": [
    {
     "data": {
      "text/plain": [
       "array([147.71749878])"
      ]
     },
     "execution_count": 213,
     "metadata": {},
     "output_type": "execute_result"
    }
   ],
   "source": [
    "RUB[dt.date(year=2016, day = 5, month = 1):dt.date(year=2016, day = 5, month = 1)].values + RUB[dt.date(year=2016, day = 7, month = 1):dt.date(year=2016, day = 7, month = 1)].values"
   ]
  },
  {
   "cell_type": "code",
   "execution_count": 214,
   "metadata": {},
   "outputs": [],
   "source": [
    "RUB[dt.date(year=2016, day = 6, month = 1):dt.date(year=2016, day = 6, month = 1)] = \\\n",
    "(RUB[dt.date(year=2016, day = 5, month = 1):dt.date(year=2016, day = 5, month = 1)].values + \\\n",
    "RUB[dt.date(year=2016, day = 7, month = 1):dt.date(year=2016, day = 7, month = 1)].values)/2"
   ]
  },
  {
   "cell_type": "code",
   "execution_count": 220,
   "metadata": {},
   "outputs": [],
   "source": [
    "rub_returns = RUB.pct_change().dropna()"
   ]
  },
  {
   "cell_type": "markdown",
   "metadata": {},
   "source": [
    "# Reading Yields"
   ]
  },
  {
   "cell_type": "code",
   "execution_count": 182,
   "metadata": {},
   "outputs": [
    {
     "data": {
      "text/html": [
       "<div>\n",
       "<style scoped>\n",
       "    .dataframe tbody tr th:only-of-type {\n",
       "        vertical-align: middle;\n",
       "    }\n",
       "\n",
       "    .dataframe tbody tr th {\n",
       "        vertical-align: top;\n",
       "    }\n",
       "\n",
       "    .dataframe thead th {\n",
       "        text-align: right;\n",
       "    }\n",
       "</style>\n",
       "<table border=\"1\" class=\"dataframe\">\n",
       "  <thead>\n",
       "    <tr style=\"text-align: right;\">\n",
       "      <th></th>\n",
       "      <th>T1</th>\n",
       "      <th>B1</th>\n",
       "      <th>B2</th>\n",
       "      <th>B3</th>\n",
       "    </tr>\n",
       "    <tr>\n",
       "      <th>tradedate</th>\n",
       "      <th></th>\n",
       "      <th></th>\n",
       "      <th></th>\n",
       "      <th></th>\n",
       "    </tr>\n",
       "  </thead>\n",
       "  <tbody>\n",
       "    <tr>\n",
       "      <th>2014-01-06</th>\n",
       "      <td>4.836731</td>\n",
       "      <td>0.087795</td>\n",
       "      <td>-0.031132</td>\n",
       "      <td>0.005111</td>\n",
       "    </tr>\n",
       "    <tr>\n",
       "      <th>2014-01-08</th>\n",
       "      <td>4.824178</td>\n",
       "      <td>0.087962</td>\n",
       "      <td>-0.031261</td>\n",
       "      <td>0.005156</td>\n",
       "    </tr>\n",
       "    <tr>\n",
       "      <th>2014-01-09</th>\n",
       "      <td>4.448947</td>\n",
       "      <td>0.087697</td>\n",
       "      <td>-0.032083</td>\n",
       "      <td>0.005694</td>\n",
       "    </tr>\n",
       "    <tr>\n",
       "      <th>2014-01-10</th>\n",
       "      <td>4.148542</td>\n",
       "      <td>0.087512</td>\n",
       "      <td>-0.032972</td>\n",
       "      <td>0.006109</td>\n",
       "    </tr>\n",
       "    <tr>\n",
       "      <th>2014-01-13</th>\n",
       "      <td>4.195013</td>\n",
       "      <td>0.087821</td>\n",
       "      <td>-0.032557</td>\n",
       "      <td>0.006078</td>\n",
       "    </tr>\n",
       "  </tbody>\n",
       "</table>\n",
       "</div>"
      ],
      "text/plain": [
       "                  T1        B1        B2        B3\n",
       "tradedate                                         \n",
       "2014-01-06  4.836731  0.087795 -0.031132  0.005111\n",
       "2014-01-08  4.824178  0.087962 -0.031261  0.005156\n",
       "2014-01-09  4.448947  0.087697 -0.032083  0.005694\n",
       "2014-01-10  4.148542  0.087512 -0.032972  0.006109\n",
       "2014-01-13  4.195013  0.087821 -0.032557  0.006078"
      ]
     },
     "execution_count": 182,
     "metadata": {},
     "output_type": "execute_result"
    }
   ],
   "source": [
    "moex_thetas.head()"
   ]
  },
  {
   "cell_type": "code",
   "execution_count": 100,
   "metadata": {},
   "outputs": [],
   "source": [
    "yields = pd.read_csv(path + '/Data/New_data/bonds_irrs.csv', index_col='TRADEDATE', parse_dates = True)\n",
    "maturities = pd.read_csv(path + '/Data/New_data/bonds_maturities.csv', index_col='TRADEDATE', parse_dates = True)"
   ]
  },
  {
   "cell_type": "code",
   "execution_count": 139,
   "metadata": {},
   "outputs": [],
   "source": [
    "numerical_methods = ['L-BFGS-B', 'Powell', 'Nelder-Mead', 'Trust Constrained']\n",
    "st_values_methods = ['Best of Random', 'Recurrent', 'Manousopoulos', 'Diebold, Li']"
   ]
  },
  {
   "cell_type": "code",
   "execution_count": 147,
   "metadata": {},
   "outputs": [
    {
     "data": {
      "text/plain": [
       "TRADEDATE\n",
       "2014-01-09    0.0\n",
       "Name: Best of Random, dtype: float64"
      ]
     },
     "execution_count": 147,
     "metadata": {},
     "output_type": "execute_result"
    }
   ],
   "source": [
    "lqd_measure[dates[i]:dates[i]][st_values_method]"
   ]
  },
  {
   "cell_type": "code",
   "execution_count": 149,
   "metadata": {},
   "outputs": [
    {
     "data": {
      "text/plain": [
       "['Best of Random', 'Recurrent', 'Manousopoulos', 'Diebold, Li']"
      ]
     },
     "execution_count": 149,
     "metadata": {},
     "output_type": "execute_result"
    }
   ],
   "source": [
    "st_values_methods"
   ]
  },
  {
   "cell_type": "code",
   "execution_count": 152,
   "metadata": {},
   "outputs": [
    {
     "name": "stdout",
     "output_type": "stream",
     "text": [
      "CPU times: user 1min 18s, sys: 772 ms, total: 1min 19s\n",
      "Wall time: 1min 25s\n"
     ]
    }
   ],
   "source": [
    "%%time\n",
    "\n",
    "lqd_measure_dict = {}\n",
    "\n",
    "for numerical_method in numerical_methods:\n",
    "    lqd_measure = pd.DataFrame(np.zeros([len(dates), len(st_values_methods)]), index = dates, \n",
    "                               columns = st_values_methods)\n",
    "    \n",
    "    for st_values_method in st_values_methods:\n",
    "        for i in range(len(dates)):\n",
    "            model_yields = ns(maturities[dates[i]:dates[i]].dropna(axis = 1).values, \n",
    "                              theta = thetas[numerical_method][st_values_method].iloc[i].values)\n",
    "            market_yields = yields[dates[i]:dates[i]].dropna(axis = 1).values\n",
    "            lqd_measure[dates[i]:dates[i]][st_values_method] = (((market_yields - model_yields)**2).mean())**0.5\n",
    "    lqd_measure_dict[numerical_method] = lqd_measure"
   ]
  },
  {
   "cell_type": "code",
   "execution_count": 183,
   "metadata": {},
   "outputs": [],
   "source": [
    "lqd_measure_dict['MOEX'] = pd.Series(data = np.zeros(len(dates)), index = dates)\n",
    "\n",
    "for i in range(len(dates)):\n",
    "    model_yields = ns(maturities[dates[i]:dates[i]].dropna(axis = 1).values, \n",
    "                      theta = moex_thetas.iloc[i].values)\n",
    "    market_yields = yields[dates[i]:dates[i]].dropna(axis = 1).values\n",
    "    lqd_measure_dict['MOEX'][dates[i]] = (((market_yields - model_yields)**2).mean())**0.5"
   ]
  },
  {
   "cell_type": "markdown",
   "metadata": {},
   "source": [
    "# A filter"
   ]
  },
  {
   "cell_type": "code",
   "execution_count": 159,
   "metadata": {},
   "outputs": [],
   "source": [
    "from scipy.ndimage.filters import uniform_filter1d"
   ]
  },
  {
   "cell_type": "code",
   "execution_count": 176,
   "metadata": {},
   "outputs": [
    {
     "data": {
      "text/plain": [
       "1635"
      ]
     },
     "execution_count": 176,
     "metadata": {},
     "output_type": "execute_result"
    }
   ],
   "source": [
    "len(dates)"
   ]
  },
  {
   "cell_type": "code",
   "execution_count": 269,
   "metadata": {},
   "outputs": [
    {
     "data": {
      "image/png": "[encoded data removed]",
      "text/plain": [
       "<Figure size 1080x540 with 1 Axes>"
      ]
     },
     "metadata": {
      "needs_background": "light"
     },
     "output_type": "display_data"
    }
   ],
   "source": [
    "plt.figure(figsize = (15, 7.5))\n",
    "plt.plot(lqd_measure_dict['MOEX'] * 100)\n",
    "plt.grid()\n",
    "plt.ylim(0, 4.9)\n",
    "plt.xlim(dates[0], dates[-1])\n",
    "plt.title('Liquidity measure', fontsize = 34)\n",
    "plt.xlabel('Date', fontsize = 24)\n",
    "plt.ylabel('bps', fontsize = 24)\n",
    "plt.tick_params(axis='x', which='major', labelsize=22)\n",
    "plt.tick_params(axis='y', which='major', labelsize=22)\n",
    "plt.savefig(path + 'Pictures/lqd_measure.png')"
   ]
  },
  {
   "cell_type": "code",
   "execution_count": 177,
   "metadata": {},
   "outputs": [
    {
     "data": {
      "text/plain": [
       "[<matplotlib.lines.Line2D at 0x7fa134b13cd0>]"
      ]
     },
     "execution_count": 177,
     "metadata": {},
     "output_type": "execute_result"
    },
    {
     "data": {
      "image/png": "[encoded data removed]",
      "text/plain": [
       "<Figure size 432x288 with 1 Axes>"
      ]
     },
     "metadata": {
      "needs_background": "light"
     },
     "output_type": "display_data"
    }
   ],
   "source": [
    "w = 8\n",
    "plt.plot(dates, uniform_filter1d(lqd_measure_dict['Trust Constrained']['Best of Random'], w))"
   ]
  },
  {
   "cell_type": "code",
   "execution_count": 225,
   "metadata": {},
   "outputs": [
    {
     "data": {
      "text/plain": [
       "array([0.00206604, 0.00223552, 0.00224693, ..., 0.00121311, 0.00122765,\n",
       "       0.00119483])"
      ]
     },
     "execution_count": 225,
     "metadata": {},
     "output_type": "execute_result"
    }
   ],
   "source": [
    "noise_measure"
   ]
  },
  {
   "cell_type": "code",
   "execution_count": 252,
   "metadata": {},
   "outputs": [],
   "source": [
    "noise_measure = pd.Series(lqd_measure_dict['MOEX'], index = dates)\n",
    "noise_measure_change = noise_measure.pct_change().dropna()\n"
   ]
  },
  {
   "cell_type": "code",
   "execution_count": 253,
   "metadata": {},
   "outputs": [],
   "source": [
    "ds = pd.concat([rub_returns, noise_measure_change], axis = 1).dropna()\n",
    "ds.columns = ['RUB', 'Noise Measure']"
   ]
  },
  {
   "cell_type": "markdown",
   "metadata": {},
   "source": [
    "# Regression Ruble Noise Measure"
   ]
  },
  {
   "cell_type": "code",
   "execution_count": 234,
   "metadata": {},
   "outputs": [],
   "source": [
    "import statsmodels.api as sm"
   ]
  },
  {
   "cell_type": "code",
   "execution_count": 254,
   "metadata": {},
   "outputs": [],
   "source": [
    "X = sm.add_constant(ds['Noise Measure'])\n",
    "y = ds['RUB']"
   ]
  },
  {
   "cell_type": "code",
   "execution_count": 255,
   "metadata": {},
   "outputs": [
    {
     "name": "stdout",
     "output_type": "stream",
     "text": [
      "                            OLS Regression Results                            \n",
      "==============================================================================\n",
      "Dep. Variable:                    RUB   R-squared:                       0.050\n",
      "Model:                            OLS   Adj. R-squared:                  0.050\n",
      "Method:                 Least Squares   F-statistic:                     75.16\n",
      "Date:                Mon, 19 Apr 2021   Prob (F-statistic):           1.16e-17\n",
      "Time:                        03:00:37   Log-Likelihood:                 4264.1\n",
      "No. Observations:                1420   AIC:                            -8524.\n",
      "Df Residuals:                    1418   BIC:                            -8514.\n",
      "Df Model:                           1                                         \n",
      "Covariance Type:            nonrobust                                         \n",
      "=================================================================================\n",
      "                    coef    std err          t      P>|t|      [0.025      0.975]\n",
      "---------------------------------------------------------------------------------\n",
      "const         -3.005e-05      0.000     -0.094      0.925      -0.001       0.001\n",
      "Noise Measure     0.0087      0.001      8.670      0.000       0.007       0.011\n",
      "==============================================================================\n",
      "Omnibus:                      417.219   Durbin-Watson:                   1.921\n",
      "Prob(Omnibus):                  0.000   Jarque-Bera (JB):             6057.430\n",
      "Skew:                           0.956   Prob(JB):                         0.00\n",
      "Kurtosis:                      12.936   Cond. No.                         3.15\n",
      "==============================================================================\n",
      "\n",
      "Notes:\n",
      "[1] Standard Errors assume that the covariance matrix of the errors is correctly specified.\n"
     ]
    }
   ],
   "source": [
    "model = sm.OLS(y, X)\n",
    "results = model.fit()\n",
    "print(results.summary())"
   ]
  },
  {
   "cell_type": "code",
   "execution_count": null,
   "metadata": {},
   "outputs": [],
   "source": []
  }
 ],
 "metadata": {
  "kernelspec": {
   "display_name": "Python 3",
   "language": "python",
   "name": "python3"
  },
  "language_info": {
   "codemirror_mode": {
    "name": "ipython",
    "version": 3
   },
   "file_extension": ".py",
   "mimetype": "text/x-python",
   "name": "python",
   "nbconvert_exporter": "python",
   "pygments_lexer": "ipython3",
   "version": "3.7.7"
  }
 },
 "nbformat": 4,
 "nbformat_minor": 4
}
