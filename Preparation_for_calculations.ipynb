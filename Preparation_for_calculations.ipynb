{
 "cells": [
  {
   "cell_type": "code",
   "execution_count": 1,
   "metadata": {},
   "outputs": [],
   "source": [
    "from new_thesis_library import *\n",
    "import matplotlib.pyplot as plt\n",
    "import warnings\n",
    "warnings.filterwarnings('ignore')\n",
    "\n",
    "pd.options.display.max_rows = 999\n",
    "pd.options.display.max_columns = 100\n",
    "\n",
    "%matplotlib inline"
   ]
  },
  {
   "cell_type": "markdown",
   "metadata": {},
   "source": [
    "# Moex thetas"
   ]
  },
  {
   "cell_type": "code",
   "execution_count": 4,
   "metadata": {},
   "outputs": [],
   "source": [
    "moex_thetas = pd.read_csv(path + 'Data/New_data/moex_dynamic.csv',\n",
    "                          sep = ';')\n",
    "\n",
    "moex_thetas['tradedate'] = pd.to_datetime(moex_thetas['tradedate'], format='%d.%m.%Y')\n",
    "moex_thetas[['B1', 'B2', 'B3', 'T1']] = moex_thetas[['B1', 'B2', 'B3', 'T1']].apply(lambda x: x.str.replace(',','.'))\n",
    "moex_thetas[['B1', 'B2', 'B3', 'T1']] = moex_thetas[['B1', 'B2', 'B3', 'T1']].astype('float64')\n",
    "moex_thetas[['B1', 'B2', 'B3']] = moex_thetas[['B1', 'B2', 'B3']]/10000\n",
    "moex_thetas = moex_thetas[['tradedate', 'T1', 'B1', 'B2', 'B3']]\n",
    "moex_thetas.set_index('tradedate', inplace = True)"
   ]
  },
  {
   "cell_type": "code",
   "execution_count": 5,
   "metadata": {},
   "outputs": [
    {
     "data": {
      "image/png": "[encoded data removed]",
      "text/plain": [
       "<Figure size 1080x540 with 1 Axes>"
      ]
     },
     "metadata": {
      "needs_background": "light"
     },
     "output_type": "display_data"
    }
   ],
   "source": [
    "m = np.linspace(0, 30, 600)\n",
    "plt.figure(figsize = (15,7.5))\n",
    "plt.grid()\n",
    "plt.plot(m, ns(m, moex_thetas[0:1].values[0]), label = 'NS curve');"
   ]
  },
  {
   "cell_type": "code",
   "execution_count": 6,
   "metadata": {},
   "outputs": [
    {
     "data": {
      "text/html": [
       "<div>\n",
       "<style scoped>\n",
       "    .dataframe tbody tr th:only-of-type {\n",
       "        vertical-align: middle;\n",
       "    }\n",
       "\n",
       "    .dataframe tbody tr th {\n",
       "        vertical-align: top;\n",
       "    }\n",
       "\n",
       "    .dataframe thead th {\n",
       "        text-align: right;\n",
       "    }\n",
       "</style>\n",
       "<table border=\"1\" class=\"dataframe\">\n",
       "  <thead>\n",
       "    <tr style=\"text-align: right;\">\n",
       "      <th></th>\n",
       "      <th>T1</th>\n",
       "      <th>B1</th>\n",
       "      <th>B2</th>\n",
       "      <th>B3</th>\n",
       "    </tr>\n",
       "  </thead>\n",
       "  <tbody>\n",
       "    <tr>\n",
       "      <th>count</th>\n",
       "      <td>1643.000000</td>\n",
       "      <td>1643.000000</td>\n",
       "      <td>1643.000000</td>\n",
       "      <td>1643.000000</td>\n",
       "    </tr>\n",
       "    <tr>\n",
       "      <th>mean</th>\n",
       "      <td>4.871800</td>\n",
       "      <td>0.087704</td>\n",
       "      <td>-0.011902</td>\n",
       "      <td>0.003621</td>\n",
       "    </tr>\n",
       "    <tr>\n",
       "      <th>std</th>\n",
       "      <td>4.515339</td>\n",
       "      <td>0.015014</td>\n",
       "      <td>0.023744</td>\n",
       "      <td>0.038101</td>\n",
       "    </tr>\n",
       "    <tr>\n",
       "      <th>min</th>\n",
       "      <td>0.300073</td>\n",
       "      <td>0.055520</td>\n",
       "      <td>-0.063911</td>\n",
       "      <td>-0.073377</td>\n",
       "    </tr>\n",
       "    <tr>\n",
       "      <th>25%</th>\n",
       "      <td>1.538723</td>\n",
       "      <td>0.079948</td>\n",
       "      <td>-0.025936</td>\n",
       "      <td>-0.020286</td>\n",
       "    </tr>\n",
       "    <tr>\n",
       "      <th>50%</th>\n",
       "      <td>3.381781</td>\n",
       "      <td>0.085636</td>\n",
       "      <td>-0.014949</td>\n",
       "      <td>0.001554</td>\n",
       "    </tr>\n",
       "    <tr>\n",
       "      <th>75%</th>\n",
       "      <td>6.234200</td>\n",
       "      <td>0.092933</td>\n",
       "      <td>0.000730</td>\n",
       "      <td>0.022876</td>\n",
       "    </tr>\n",
       "    <tr>\n",
       "      <th>max</th>\n",
       "      <td>17.525151</td>\n",
       "      <td>0.130801</td>\n",
       "      <td>0.056864</td>\n",
       "      <td>0.119194</td>\n",
       "    </tr>\n",
       "  </tbody>\n",
       "</table>\n",
       "</div>"
      ],
      "text/plain": [
       "                T1           B1           B2           B3\n",
       "count  1643.000000  1643.000000  1643.000000  1643.000000\n",
       "mean      4.871800     0.087704    -0.011902     0.003621\n",
       "std       4.515339     0.015014     0.023744     0.038101\n",
       "min       0.300073     0.055520    -0.063911    -0.073377\n",
       "25%       1.538723     0.079948    -0.025936    -0.020286\n",
       "50%       3.381781     0.085636    -0.014949     0.001554\n",
       "75%       6.234200     0.092933     0.000730     0.022876\n",
       "max      17.525151     0.130801     0.056864     0.119194"
      ]
     },
     "execution_count": 6,
     "metadata": {},
     "output_type": "execute_result"
    }
   ],
   "source": [
    "moex_thetas_stats = moex_thetas.describe()\n",
    "moex_thetas_stats"
   ]
  },
  {
   "cell_type": "code",
   "execution_count": 7,
   "metadata": {},
   "outputs": [
    {
     "data": {
      "text/plain": [
       "[(0, 30),\n",
       " (0.010477198590003643, 0.17584359090999638),\n",
       " (-0.13514205198012594, 0.12809433098012593),\n",
       " (-0.1876796706900865, 0.2334965658900865)]"
      ]
     },
     "execution_count": 7,
     "metadata": {},
     "output_type": "execute_result"
    }
   ],
   "source": [
    "[(0, 30), \n",
    "(moex_thetas_stats['B1']['min'] - 3 * moex_thetas_stats['B1']['std'], moex_thetas_stats['B1']['max'] + 3 * moex_thetas_stats['B1']['std']), \n",
    "(moex_thetas_stats['B2']['min'] - 3 * moex_thetas_stats['B2']['std'], moex_thetas_stats['B2']['max'] + 3 * moex_thetas_stats['B2']['std']), \n",
    "(moex_thetas_stats['B3']['min'] - 3 * moex_thetas_stats['B3']['std'], moex_thetas_stats['B3']['max'] + 3 * moex_thetas_stats['B3']['std'])]"
   ]
  },
  {
   "cell_type": "code",
   "execution_count": 30,
   "metadata": {},
   "outputs": [],
   "source": [
    "data_dict = {}\n",
    "data_dict['category'] = [r'$\\beta_2$', r'$\\beta_1$', r'$\\beta_0$']\n",
    "data_dict['lower'] = [moex_thetas_stats['B3']['min'] - 3 * moex_thetas_stats['B3']['std'],\n",
    "                      moex_thetas_stats['B2']['min'] - 3 * moex_thetas_stats['B2']['std'],\n",
    "                      moex_thetas_stats['B1']['min'] - 3 * moex_thetas_stats['B1']['std']]\n",
    "data_dict['upper'] = [moex_thetas_stats['B3']['max'] + 3 * moex_thetas_stats['B3']['std'], \n",
    "                      moex_thetas_stats['B2']['max'] + 3 * moex_thetas_stats['B2']['std'], \n",
    "                      moex_thetas_stats['B1']['max'] + 3 * moex_thetas_stats['B1']['std']]\n",
    "dataset = pd.DataFrame(data_dict)"
   ]
  },
  {
   "cell_type": "code",
   "execution_count": 35,
   "metadata": {},
   "outputs": [
    {
     "data": {
      "image/png": "[encoded data removed]",
      "text/plain": [
       "<Figure size 720x216 with 1 Axes>"
      ]
     },
     "metadata": {
      "needs_background": "light"
     },
     "output_type": "display_data"
    }
   ],
   "source": [
    "figure, axes = plt.subplots(nrows=1, ncols=1,figsize=(10, 3))\n",
    "\n",
    "for lower,upper,y in zip(dataset['lower'],dataset['upper'],range(len(dataset))):\n",
    "    axes.plot((lower,upper),(y,y),'ro-',color='b')\n",
    "plt.yticks(range(len(dataset)),list(dataset['category']), fontsize = 16)\n",
    "axes.set_title(r'Ranges of $\\beta_i$', fontsize = 20)\n",
    "axes.tick_params(axis='x', which='major', labelsize=16)\n",
    "axes.tick_params(axis='y', which='major', labelsize=16)\n",
    "figure.savefig('Pictures/Ranges_of_betas.png');"
   ]
  },
  {
   "cell_type": "markdown",
   "metadata": {},
   "source": [
    "# Generating random values"
   ]
  },
  {
   "cell_type": "markdown",
   "metadata": {},
   "source": [
    "We will be generating random values in the borders of max/min +- 3 std for betas, [0, 30] for tau."
   ]
  },
  {
   "cell_type": "code",
   "execution_count": 8,
   "metadata": {},
   "outputs": [],
   "source": [
    "np.random.seed(1)\n",
    "\n",
    "for i in range(16):\n",
    "    random_thetas = np.zeros([len(dates), 5])\n",
    "    for j in range(len(dates)):\n",
    "        random_thetas[j] = np.array([int(i + 1), \n",
    "                                     np.random.uniform(0, 30), \n",
    "                                     np.random.uniform(moex_thetas_stats['B1']['min'] - 3 * moex_thetas_stats['B1']['std'], moex_thetas_stats['B1']['max'] + 3 * moex_thetas_stats['B1']['std']), \n",
    "                                     np.random.uniform(moex_thetas_stats['B2']['min'] - 3 * moex_thetas_stats['B2']['std'], moex_thetas_stats['B2']['max'] + 3 * moex_thetas_stats['B2']['std']), \n",
    "                                     np.random.uniform(moex_thetas_stats['B3']['min'] - 3 * moex_thetas_stats['B3']['std'], moex_thetas_stats['B3']['max'] + 3 * moex_thetas_stats['B3']['std'])])\n",
    "    random_thetas = pd.DataFrame(random_thetas, columns = ['Value', 'tau', 'beta0', 'beta1', 'beta2'], index = dates)\n",
    "    random_thetas.to_csv(path + 'Data/New_data/Random_thetas/rand_' + str(i + 1) + '.csv')"
   ]
  },
  {
   "cell_type": "markdown",
   "metadata": {},
   "source": [
    "# Diebold, Li starting values"
   ]
  },
  {
   "cell_type": "markdown",
   "metadata": {},
   "source": [
    "### IRR calculation"
   ]
  },
  {
   "cell_type": "code",
   "execution_count": 2,
   "metadata": {},
   "outputs": [],
   "source": [
    "def npv(irr, cfs, yrs):  \n",
    "    return np.sum(cfs / (1. + irr) ** yrs)"
   ]
  },
  {
   "cell_type": "code",
   "execution_count": 3,
   "metadata": {},
   "outputs": [],
   "source": [
    "from scipy.optimize import fsolve\n",
    "\n",
    "def irr(cfs, yrs, x0):\n",
    "    return np.asscalar(fsolve(npv, x0=x0, args=(cfs, yrs)))"
   ]
  },
  {
   "cell_type": "code",
   "execution_count": 4,
   "metadata": {},
   "outputs": [],
   "source": [
    "def maturities_irrs(date_number):\n",
    "    irrs = []\n",
    "    maturities = []\n",
    "    payments_on_date = bonds_payments[bonds_payments['Дата фактической выплаты'] >= dates[date_number]]\n",
    "    \n",
    "    for ticker in bond_isins:\n",
    "    \n",
    "        payments = payments_on_date[payments_on_date['ISIN'] == ticker]['Сумма купона, RUB'] + payments_on_date[payments_on_date['ISIN'] == ticker]['Погашение номинала, RUB'].values\n",
    "        payments_dates = (payments_on_date[payments_on_date['ISIN'] == ticker]['Дата фактической выплаты'] - dates[date_number]).apply(lambda x: x.days)/365\n",
    "        \n",
    "        investment = bonds_prices.iloc[date_number][ticker]\n",
    "        payments = np.insert(np.array(payments), 0, -investment)\n",
    "        payments_dates = np.insert(np.array(payments_dates), 0, 0)\n",
    "        \n",
    "        if np.isnan(payments[0]) == True:\n",
    "            irrs.append(np.nan)\n",
    "            maturities.append(np.nan)\n",
    "        else:\n",
    "            bond_irr = irr(cfs=payments, yrs=payments_dates, x0=0.10)\n",
    "            irrs.append(bond_irr)\n",
    "            maturities.append(payments_dates[-1])\n",
    "            \n",
    "        \n",
    "    return (np.array([maturities]), np.array([irrs]))   "
   ]
  },
  {
   "cell_type": "code",
   "execution_count": 5,
   "metadata": {},
   "outputs": [],
   "source": [
    "irr_matrix = pd.DataFrame(np.zeros(bonds_prices.shape), index = dates, columns = bond_isins)\n",
    "maturity_matrix = pd.DataFrame(np.zeros(bonds_prices.shape), index = dates, columns = bond_isins)"
   ]
  },
  {
   "cell_type": "code",
   "execution_count": 6,
   "metadata": {},
   "outputs": [
    {
     "name": "stdout",
     "output_type": "stream",
     "text": [
      "CPU times: user 3min 8s, sys: 1.03 s, total: 3min 9s\n",
      "Wall time: 3min 13s\n"
     ]
    }
   ],
   "source": [
    "%%time\n",
    "\n",
    "for i in range(len(dates)):\n",
    "    maturity_matrix[dates[i]:dates[i]], irr_matrix[dates[i]:dates[i]] = maturities_irrs(i)    "
   ]
  },
  {
   "cell_type": "code",
   "execution_count": 7,
   "metadata": {},
   "outputs": [],
   "source": [
    "%%bash\n",
    "say finished"
   ]
  },
  {
   "cell_type": "code",
   "execution_count": 8,
   "metadata": {},
   "outputs": [],
   "source": [
    "maturity_matrix.to_csv(path + 'Data/New_data/bonds_maturities.csv')\n",
    "irr_matrix.to_csv(path + 'Data/New_data/bonds_irrs.csv')"
   ]
  },
  {
   "cell_type": "code",
   "execution_count": 9,
   "metadata": {},
   "outputs": [],
   "source": [
    "maturity_matrix = pd.read_csv(path + 'Data/New_data/bonds_maturities.csv', index_col='TRADEDATE', parse_dates=True)\n",
    "irr_matrix = pd.read_csv(path + 'Data/New_data/bonds_irrs.csv', index_col='TRADEDATE', parse_dates=True)"
   ]
  },
  {
   "cell_type": "markdown",
   "metadata": {},
   "source": [
    "## BOOTSRAP"
   ]
  },
  {
   "cell_type": "markdown",
   "metadata": {},
   "source": [
    "1. Сортируем бонды по их длине\n",
    "2. Первую ставку взять из IRR наиболее короткого бонда\n",
    "3. Далее решать каждый бонд при условии более коротких ставок."
   ]
  },
  {
   "cell_type": "code",
   "execution_count": 10,
   "metadata": {},
   "outputs": [],
   "source": [
    "from scipy.optimize import fsolve"
   ]
  },
  {
   "cell_type": "code",
   "execution_count": 11,
   "metadata": {},
   "outputs": [],
   "source": [
    "def discount_by_rates(df, rates):\n",
    "    df['Discounted'] = (df['Сумма купона, RUB'] + df['Погашение номинала, RUB']) * np.exp(-rates * df['Дата фактической выплаты'])"
   ]
  },
  {
   "cell_type": "code",
   "execution_count": 12,
   "metadata": {},
   "outputs": [],
   "source": [
    "def generate_solve_for_rate(unknown, known, price):\n",
    "    def solve_for_rate(rate):\n",
    "        nonlocal unknown, known, price\n",
    "        unknown['rates'] = np.ones(unknown.shape[0]) * rate\n",
    "        discount_by_rates(unknown, unknown['rates'])\n",
    "        return known + unknown.Discounted.sum() - price    \n",
    "    \n",
    "    return solve_for_rate"
   ]
  },
  {
   "cell_type": "code",
   "execution_count": 13,
   "metadata": {},
   "outputs": [],
   "source": [
    "def bootsrap_rates_on_day(day_number):\n",
    "    \n",
    "    sorted_bonds = maturity_matrix.iloc[day_number].sort_values()\n",
    "    sorted_bonds.dropna(inplace=True)\n",
    "#    print(sorted_bonds)\n",
    "            \n",
    "    bootstraped_rates = {}\n",
    "    bootstraped_rates[sorted_bonds.iloc[0]] = irr_matrix.iloc[day_number][sorted_bonds.index[0]]\n",
    "#    print(bootstraped_rates, type(list(bootstraped_rates.keys())[0]))\n",
    "\n",
    "    for i in range(1, sorted_bonds.shape[0]):\n",
    "        \n",
    "        payments_after_date = bonds_payments[(bonds_payments['ISIN'] == sorted_bonds.index[i]) & \n",
    "                                         (bonds_payments['Дата фактической выплаты'] > \n",
    "                                          dates[day_number])][['Сумма купона, RUB', \n",
    "                                                               'Погашение номинала, RUB', \n",
    "                                                               'Дата фактической выплаты']]\n",
    "\n",
    "        calc_df = pd.concat([(payments_after_date['Дата фактической выплаты'] - dates[0]).apply(lambda x: x.days)/365, \n",
    "                         payments_after_date['Сумма купона, RUB'], payments_after_date['Погашение номинала, RUB']], \n",
    "                        axis = 1)\n",
    "        calc_df['rates'] = np.zeros(calc_df.shape[0])\n",
    "\n",
    "        #print(i)\n",
    "        #print(calc_df)\n",
    "        #\n",
    "        #print(bootstraped_rates)\n",
    "\n",
    "\n",
    "        \n",
    "        known_rates_df = calc_df[calc_df['Дата фактической выплаты'] <= list(bootstraped_rates.keys())[i - 1]]       \n",
    "        \n",
    "        for j in range(len(bootstraped_rates)):\n",
    "            \n",
    "            #нужно заполнить столбец известными ставками\n",
    "            mask = known_rates_df['Дата фактической выплаты'] < list(bootstraped_rates)[len(bootstraped_rates) - 1 - j]\n",
    "            known_rates_df['rates'][mask] = bootstraped_rates[list(bootstraped_rates)[len(bootstraped_rates) - 1 - j]]\n",
    "            #заполнили\n",
    "        \n",
    "        # дисконтируем известные платежи\n",
    "        discount_by_rates(known_rates_df, known_rates_df['rates'])\n",
    "        #считаем их сумму\n",
    "#        print(known_rates_df)\n",
    "        known = known_rates_df['Discounted'].sum()\n",
    "#        print('Known:', known)\n",
    "        \n",
    "        \n",
    "        #считываем цену\n",
    "        price = bonds_prices.iloc[day_number][sorted_bonds.index[i]]\n",
    "#        print('Price', price)\n",
    "            \n",
    "        unknown_rates_df = calc_df[calc_df['Дата фактической выплаты'] > list(bootstraped_rates.keys())[i - 1]]\n",
    "#        print(unknown_rates_df)\n",
    "        \n",
    "        #генеририуем функцию для поиска неизвестной ставки \n",
    "        solve_for_rate_function = generate_solve_for_rate(unknown_rates_df, known, price)\n",
    "        new_rate = fsolve(solve_for_rate_function, 0.1)[0]\n",
    "#        print(new_rate)\n",
    "                \n",
    "        bootstraped_rates[sorted_bonds.iloc[i]] = new_rate\n",
    "\n",
    "     \n",
    "    return bootstraped_rates"
   ]
  },
  {
   "cell_type": "code",
   "execution_count": 80,
   "metadata": {},
   "outputs": [
    {
     "name": "stdout",
     "output_type": "stream",
     "text": [
      "RU000A0JQAE3     0.610959\n",
      "RU000A0JQLL5     0.879452\n",
      "RU000A0JQCL4     0.936986\n",
      "RU000A0JRHZ1     1.397260\n",
      "RU000A0JQYN4     1.512329\n",
      "RU000A0JR7G1     2.030137\n",
      "RU000A0JQZ18     2.567123\n",
      "RU000A0JS751     3.276712\n",
      "RU000A0JRJU8     3.430137\n",
      "RU000A0JTKZ1     4.063014\n",
      "RU000A0JTG59     5.923288\n",
      "RU000A0JTYA5     6.383562\n",
      "RU000A0JREQ7     7.265753\n",
      "RU000A0D0G29     7.879452\n",
      "RU000A0JSMA2     8.531507\n",
      "RU000A0JTJL3     9.049315\n",
      "RU000A0JPLH5     9.528767\n",
      "RU000A0JU4L3     9.605479\n",
      "RU000A0JS3W6    13.076712\n",
      "RU000A0JTK38    14.035616\n",
      "RU000A0GN9A7    22.090411\n",
      "Name: 2014-01-09 00:00:00, dtype: float64\n"
     ]
    }
   ],
   "source": [
    "day_number = 0\n",
    "\n",
    "sorted_bonds = maturity_matrix.iloc[day_number].sort_values()\n",
    "sorted_bonds.dropna(inplace=True)\n",
    "print(sorted_bonds)\n",
    "        \n",
    "bootstraped_rates = {}\n",
    "bootstraped_rates[sorted_bonds.iloc[0]] = irr_matrix.iloc[day_number][sorted_bonds.index[0]]"
   ]
  },
  {
   "cell_type": "code",
   "execution_count": 81,
   "metadata": {},
   "outputs": [
    {
     "name": "stdout",
     "output_type": "stream",
     "text": [
      "{0.6109589041095891: 0.05642312614699314} <class 'numpy.float64'>\n"
     ]
    }
   ],
   "source": [
    "print(bootstraped_rates, type(list(bootstraped_rates.keys())[0]))"
   ]
  },
  {
   "cell_type": "code",
   "execution_count": 82,
   "metadata": {},
   "outputs": [],
   "source": [
    "i = 1\n",
    "\n",
    "payments_after_date = bonds_payments[(bonds_payments['ISIN'] == sorted_bonds.index[i]) & \n",
    "                                 (bonds_payments['Дата фактической выплаты'] > \n",
    "                                  dates[day_number])][['Сумма купона, RUB', \n",
    "                                                       'Погашение номинала, RUB', \n",
    "                                                       'Дата фактической выплаты']]\n",
    "\n",
    "calc_df = pd.concat([(payments_after_date['Дата фактической выплаты'] - dates[0]).apply(lambda x: x.days)/365, \n",
    "                 payments_after_date['Сумма купона, RUB'], payments_after_date['Погашение номинала, RUB']], \n",
    "                axis = 1)\n",
    "calc_df['rates'] = np.zeros(calc_df.shape[0])"
   ]
  },
  {
   "cell_type": "code",
   "execution_count": 83,
   "metadata": {},
   "outputs": [
    {
     "data": {
      "text/html": [
       "<div>\n",
       "<style scoped>\n",
       "    .dataframe tbody tr th:only-of-type {\n",
       "        vertical-align: middle;\n",
       "    }\n",
       "\n",
       "    .dataframe tbody tr th {\n",
       "        vertical-align: top;\n",
       "    }\n",
       "\n",
       "    .dataframe thead th {\n",
       "        text-align: right;\n",
       "    }\n",
       "</style>\n",
       "<table border=\"1\" class=\"dataframe\">\n",
       "  <thead>\n",
       "    <tr style=\"text-align: right;\">\n",
       "      <th></th>\n",
       "      <th>Дата фактической выплаты</th>\n",
       "      <th>Сумма купона, RUB</th>\n",
       "      <th>Погашение номинала, RUB</th>\n",
       "      <th>rates</th>\n",
       "    </tr>\n",
       "  </thead>\n",
       "  <tbody>\n",
       "    <tr>\n",
       "      <th>24</th>\n",
       "      <td>0.380822</td>\n",
       "      <td>4.039</td>\n",
       "      <td>0.0</td>\n",
       "      <td>0.0</td>\n",
       "    </tr>\n",
       "    <tr>\n",
       "      <th>25</th>\n",
       "      <td>0.879452</td>\n",
       "      <td>4.039</td>\n",
       "      <td>100.0</td>\n",
       "      <td>0.0</td>\n",
       "    </tr>\n",
       "  </tbody>\n",
       "</table>\n",
       "</div>"
      ],
      "text/plain": [
       "    Дата фактической выплаты  Сумма купона, RUB  Погашение номинала, RUB  \\\n",
       "24                  0.380822              4.039                      0.0   \n",
       "25                  0.879452              4.039                    100.0   \n",
       "\n",
       "    rates  \n",
       "24    0.0  \n",
       "25    0.0  "
      ]
     },
     "execution_count": 83,
     "metadata": {},
     "output_type": "execute_result"
    }
   ],
   "source": [
    "calc_df"
   ]
  },
  {
   "cell_type": "code",
   "execution_count": null,
   "metadata": {},
   "outputs": [],
   "source": [
    "known_rates_df = calc_df[calc_df['Дата фактической выплаты'] <= list(bootstraped_rates.keys())[i - 1]]"
   ]
  },
  {
   "cell_type": "code",
   "execution_count": 87,
   "metadata": {},
   "outputs": [
    {
     "data": {
      "text/html": [
       "<div>\n",
       "<style scoped>\n",
       "    .dataframe tbody tr th:only-of-type {\n",
       "        vertical-align: middle;\n",
       "    }\n",
       "\n",
       "    .dataframe tbody tr th {\n",
       "        vertical-align: top;\n",
       "    }\n",
       "\n",
       "    .dataframe thead th {\n",
       "        text-align: right;\n",
       "    }\n",
       "</style>\n",
       "<table border=\"1\" class=\"dataframe\">\n",
       "  <thead>\n",
       "    <tr style=\"text-align: right;\">\n",
       "      <th></th>\n",
       "      <th>Дата фактической выплаты</th>\n",
       "      <th>Сумма купона, RUB</th>\n",
       "      <th>Погашение номинала, RUB</th>\n",
       "      <th>rates</th>\n",
       "    </tr>\n",
       "  </thead>\n",
       "  <tbody>\n",
       "    <tr>\n",
       "      <th>24</th>\n",
       "      <td>0.380822</td>\n",
       "      <td>4.039</td>\n",
       "      <td>0.0</td>\n",
       "      <td>0.0</td>\n",
       "    </tr>\n",
       "  </tbody>\n",
       "</table>\n",
       "</div>"
      ],
      "text/plain": [
       "    Дата фактической выплаты  Сумма купона, RUB  Погашение номинала, RUB  \\\n",
       "24                  0.380822              4.039                      0.0   \n",
       "\n",
       "    rates  \n",
       "24    0.0  "
      ]
     },
     "execution_count": 87,
     "metadata": {},
     "output_type": "execute_result"
    }
   ],
   "source": [
    "calc_df[calc_df['Дата фактической выплаты'] <= list(bootstraped_rates.keys())[i-1]]"
   ]
  },
  {
   "cell_type": "code",
   "execution_count": 88,
   "metadata": {},
   "outputs": [],
   "source": [
    "for j in range(len(bootstraped_rates)):\n",
    "\n",
    "    #нужно заполнить столбец известными ставками\n",
    "    mask = known_rates_df['Дата фактической выплаты'] < list(bootstraped_rates)[len(bootstraped_rates) - 1 - j]\n",
    "    known_rates_df['rates'][mask] = bootstraped_rates[list(bootstraped_rates)[len(bootstraped_rates) - 1 - j]]"
   ]
  },
  {
   "cell_type": "code",
   "execution_count": 79,
   "metadata": {},
   "outputs": [
    {
     "name": "stdout",
     "output_type": "stream",
     "text": [
      "RU000A0JQAE3     0.610959\n",
      "RU000A0JQLL5     0.879452\n",
      "RU000A0JQCL4     0.936986\n",
      "RU000A0JRHZ1     1.397260\n",
      "RU000A0JQYN4     1.512329\n",
      "RU000A0JR7G1     2.030137\n",
      "RU000A0JQZ18     2.567123\n",
      "RU000A0JS751     3.276712\n",
      "RU000A0JRJU8     3.430137\n",
      "RU000A0JTKZ1     4.063014\n",
      "RU000A0JTG59     5.923288\n",
      "RU000A0JTYA5     6.383562\n",
      "RU000A0JREQ7     7.265753\n",
      "RU000A0D0G29     7.879452\n",
      "RU000A0JSMA2     8.531507\n",
      "RU000A0JTJL3     9.049315\n",
      "RU000A0JPLH5     9.528767\n",
      "RU000A0JU4L3     9.605479\n",
      "RU000A0JS3W6    13.076712\n",
      "RU000A0JTK38    14.035616\n",
      "RU000A0GN9A7    22.090411\n",
      "Name: 2014-01-09 00:00:00, dtype: float64\n"
     ]
    }
   ],
   "source": [
    "i = 1\n",
    "\n",
    "payments_after_date = bonds_payments[(bonds_payments['ISIN'] == sorted_bonds.index[i]) & \n",
    "                                 (bonds_payments['Дата фактической выплаты'] > \n",
    "                                  dates[day_number])][['Сумма купона, RUB', \n",
    "                                                       'Погашение номинала, RUB', \n",
    "                                                       'Дата фактической выплаты']]\n",
    "\n",
    "calc_df = pd.concat([(payments_after_date['Дата фактической выплаты'] - dates[0]).apply(lambda x: x.days)/365, \n",
    "                 payments_after_date['Сумма купона, RUB'], payments_after_date['Погашение номинала, RUB']], \n",
    "                axis = 1)\n",
    "calc_df['rates'] = np.zeros(calc_df.shape[0])\n",
    "\n",
    "#print(calc_df)\n",
    "#\n",
    "#print(bootstraped_rates)\n",
    "   \n",
    "known_rates_df = calc_df[calc_df['Дата фактической выплаты'] <= list(bootstraped_rates.keys())[i - 1]]       \n",
    "\n",
    "for j in range(len(bootstraped_rates)):\n",
    "\n",
    "    #нужно заполнить столбец известными ставками\n",
    "    mask = known_rates_df['Дата фактической выплаты'] < list(bootstraped_rates)[len(bootstraped_rates) - 1 - j]\n",
    "    known_rates_df['rates'][mask] = bootstraped_rates[list(bootstraped_rates)[len(bootstraped_rates) - 1 - j]]\n",
    "    #заполнили\n",
    "\n",
    "#дисконтируем известные платежи\n",
    "discount_by_rates(known_rates_df, known_rates_df['rates'])\n",
    "#считаем их сумму\n",
    "#print(known_rates_df)\n",
    "known = known_rates_df['Discounted'].sum()\n",
    "#print('Known:', known)\n",
    "\n",
    "\n",
    "#считываем цену\n",
    "price = bonds_prices.iloc[day_number][sorted_bonds.index[i]]\n",
    "#print('Price', price)\n",
    "    \n",
    "unknown_rates_df = calc_df[calc_df['Дата фактической выплаты'] > list(bootstraped_rates.keys())[i - 1]]\n",
    "#print(unknown_rates_df)\n",
    "\n",
    "#генеририуем функцию для поиска неизвестной ставки \n",
    "solve_for_rate_function = generate_solve_for_rate(unknown_rates_df, known, price)\n",
    "new_rate = fsolve(solve_for_rate_function, 0.1)[0]\n",
    "#print(new_rate)\n",
    "            \n",
    "bootstraped_rates[sorted_bonds.iloc[i]] = new_rate"
   ]
  },
  {
   "cell_type": "code",
   "execution_count": 14,
   "metadata": {},
   "outputs": [
    {
     "name": "stdout",
     "output_type": "stream",
     "text": [
      "CPU times: user 14min 7s, sys: 5.8 s, total: 14min 13s\n",
      "Wall time: 14min 25s\n"
     ]
    }
   ],
   "source": [
    "%%time\n",
    "\n",
    "all_bootstraped_rates = []\n",
    "\n",
    "for i in range(len(dates)):\n",
    "#    print('Day ' + str(i))\n",
    "    all_bootstraped_rates.append(bootsrap_rates_on_day(i))"
   ]
  },
  {
   "cell_type": "code",
   "execution_count": 15,
   "metadata": {},
   "outputs": [],
   "source": [
    "%%bash\n",
    "say finished"
   ]
  },
  {
   "cell_type": "code",
   "execution_count": 20,
   "metadata": {},
   "outputs": [],
   "source": [
    "for i in range(len(dates)):\n",
    "    bt_rates_df = pd.DataFrame.from_dict(all_bootstraped_rates[i], orient='index', columns = ['rate'])\n",
    "    bt_rates_df.reset_index(level = 0, inplace = True)\n",
    "    bt_rates_df.columns = ['maturity', 'rates']\n",
    "    bt_rates_df.to_csv(path + 'Data/New_data/Bootstraped_rates/bt_rates_' + str(dates[i].date()) + '.csv')"
   ]
  },
  {
   "cell_type": "code",
   "execution_count": 22,
   "metadata": {},
   "outputs": [],
   "source": [
    "bootstraped_rates_list = []\n",
    "\n",
    "for i in range(len(dates)):\n",
    "    bootstraped_rates_list.append(pd.read_csv(path + 'Data/New_data/Bootstraped_rates/bt_rates_' + str(dates[i].date()) + '.csv', index_col=0))"
   ]
  },
  {
   "cell_type": "markdown",
   "metadata": {},
   "source": [
    "We will delete the first rate because it worsens the shape of the curve and we will get rid of very high rates."
   ]
  },
  {
   "cell_type": "code",
   "execution_count": 34,
   "metadata": {},
   "outputs": [],
   "source": [
    "for i in range(len(dates)):\n",
    "    bootstraped_rates_list[i][1:].to_csv(path + 'Data/New_data/Bootstraped_rates/bt_rates_' + str(dates[i].date()) + '.csv')"
   ]
  },
  {
   "cell_type": "code",
   "execution_count": 35,
   "metadata": {},
   "outputs": [],
   "source": [
    "bootstraped_rates_list = []\n",
    "\n",
    "for i in range(len(dates)):\n",
    "    bootstraped_rates_list.append(pd.read_csv(path + 'Data/New_data/Bootstraped_rates/bt_rates_' + str(dates[i].date()) + '.csv', index_col=0))"
   ]
  },
  {
   "cell_type": "code",
   "execution_count": 77,
   "metadata": {},
   "outputs": [
    {
     "data": {
      "image/png": "[encoded data removed]",
      "text/plain": [
       "<Figure size 1080x540 with 1 Axes>"
      ]
     },
     "metadata": {
      "needs_background": "light"
     },
     "output_type": "display_data"
    }
   ],
   "source": [
    "j = 1600\n",
    "\n",
    "\n",
    "plt.figure(figsize = (15, 7.5))\n",
    "plt.title(dates[j].date())\n",
    "plt.scatter(bootstraped_rates_list[j].maturity, bootstraped_rates_list[j].rates, label = 'Bootstrap')\n",
    "plt.scatter(maturity_matrix[dates[j]:dates[j]].values, irr_matrix[dates[j]:dates[j]].values, label = 'Yield')\n",
    "plt.legend(loc = 4)\n",
    "plt.grid();"
   ]
  },
  {
   "cell_type": "markdown",
   "metadata": {},
   "source": [
    "## Diebold-Li weights generation"
   ]
  },
  {
   "cell_type": "code",
   "execution_count": 25,
   "metadata": {},
   "outputs": [],
   "source": [
    "import statsmodels.api as sm"
   ]
  },
  {
   "cell_type": "code",
   "execution_count": 26,
   "metadata": {},
   "outputs": [],
   "source": [
    "def get_loadings(m, tau):\n",
    "    \n",
    "    level = np.ones(m.shape[0])\n",
    "    slope_hump = (1 - np.exp(- m / tau)) / (m / tau)\n",
    "    hump =  - np.exp(- m / tau) \n",
    "\n",
    "    return level, slope_hump, hump"
   ]
  },
  {
   "cell_type": "markdown",
   "metadata": {},
   "source": [
    "We set $\\tau$ according to Diebold, Li 2006. The screnshot in the folder shows the way we obtained it."
   ]
  },
  {
   "cell_type": "code",
   "execution_count": 52,
   "metadata": {},
   "outputs": [],
   "source": [
    "def get_diebold_li_weights(day_number):\n",
    "\n",
    "    df_shape = bootstraped_rates_list[day_number].shape[0]\n",
    "\n",
    "    X = np.zeros([df_shape, 3])\n",
    "    X[:,0], X[:,1], X[:,2] = get_loadings(m = bootstraped_rates_list[day_number].maturity.values, tau = 0.717313)\n",
    "       \n",
    "    y = bootstraped_rates_list[day_number].rates.values\n",
    "\n",
    "    model = sm.OLS(y, X)\n",
    "    beta = model.fit().params\n",
    "    \n",
    "    ns_theta = np.zeros(4)\n",
    "    ns_theta[0] = 0.717313\n",
    "    ns_theta[1] = beta[0]\n",
    "    ns_theta[2] = beta[1] - beta[2]\n",
    "    ns_theta[3] = beta[2]\n",
    "\n",
    "    return ns_theta"
   ]
  },
  {
   "cell_type": "code",
   "execution_count": 53,
   "metadata": {},
   "outputs": [
    {
     "name": "stdout",
     "output_type": "stream",
     "text": [
      "CPU times: user 727 ms, sys: 6.67 ms, total: 734 ms\n",
      "Wall time: 751 ms\n"
     ]
    }
   ],
   "source": [
    "%%time\n",
    "\n",
    "diebold_li_weights = pd.DataFrame(np.zeros([bonds_prices.shape[0], 4]), index = dates,\n",
    "                                  columns = ['tau', 'beta0', 'beta1', 'beta2'])\n",
    "\n",
    "for i in range(diebold_li_weights.shape[0]):\n",
    "    diebold_li_weights.iloc[i] = get_diebold_li_weights(i)\n",
    "    \n",
    "diebold_li_weights.to_csv(path + 'Data/New_data/diebold_li.csv')"
   ]
  },
  {
   "cell_type": "code",
   "execution_count": 54,
   "metadata": {},
   "outputs": [],
   "source": [
    "diebold_li_weights = pd.read_csv(path + 'Data/New_data/diebold_li.csv', index_col = 0)"
   ]
  },
  {
   "cell_type": "code",
   "execution_count": 55,
   "metadata": {},
   "outputs": [
    {
     "data": {
      "image/png": "[encoded data removed]",
      "text/plain": [
       "<Figure size 1080x540 with 1 Axes>"
      ]
     },
     "metadata": {
      "needs_background": "light"
     },
     "output_type": "display_data"
    }
   ],
   "source": [
    "j = 1000\n",
    "\n",
    "m = np.linspace(0, 30, 600)\n",
    "plt.figure(figsize = (15,7.5))\n",
    "plt.grid()\n",
    "plt.plot(m, ns(m, get_diebold_li_weights(j)), label = 'NS curve')\n",
    "plt.title(dates[j])\n",
    "plt.scatter(bootstraped_rates_list[j].maturity, bootstraped_rates_list[j].rates, label = 'Bootsrap')\n",
    "plt.legend();"
   ]
  },
  {
   "cell_type": "markdown",
   "metadata": {},
   "source": [
    "# Diebold, Li values based on interpretation "
   ]
  },
  {
   "cell_type": "markdown",
   "metadata": {},
   "source": [
    "### Calculating yields"
   ]
  },
  {
   "cell_type": "code",
   "execution_count": 185,
   "metadata": {},
   "outputs": [],
   "source": [
    "yields = pd.DataFrame(np.zeros([bonds_prices.shape[0], 4]), index = dates,\n",
    "                      columns = ['3-month', '2-year', '10-year', 'longest'])\n",
    "\n",
    "for i in range(len(dates)):\n",
    "    sorted_bonds = maturity_matrix.iloc[i].sort_values()\n",
    "    sorted_bonds.dropna(inplace=True)\n",
    "    \n",
    "    month_3_bond = sorted_bonds.iloc[(sorted_bonds-1/4).abs().argsort()].index[0]\n",
    "    year_2_bond = sorted_bonds.iloc[(sorted_bonds-2).abs().argsort()].index[0]\n",
    "    year_10_bond = sorted_bonds.iloc[(sorted_bonds-10).abs().argsort()].index[0]\n",
    "    longest_bond = sorted_bonds.index[-1]\n",
    "    \n",
    "    yields.at[dates[i], '3-month'] = irr_matrix[dates[i]:dates[i]][month_3_bond]\n",
    "    yields.at[dates[i], '2-year'] = irr_matrix[dates[i]:dates[i]][year_2_bond]\n",
    "    yields.at[dates[i], '10-year'] = irr_matrix[dates[i]:dates[i]][year_10_bond]\n",
    "    yields.at[dates[i], 'longest'] = irr_matrix[dates[i]:dates[i]][longest_bond]              "
   ]
  },
  {
   "cell_type": "code",
   "execution_count": 186,
   "metadata": {},
   "outputs": [],
   "source": [
    "yields.to_csv(path + 'Data/New_data/yields.csv')"
   ]
  },
  {
   "cell_type": "code",
   "execution_count": 187,
   "metadata": {},
   "outputs": [],
   "source": [
    "i = 1\n",
    "\n",
    "tau = 0.717313\n",
    "beta_0 = yields[dates[i]:dates[i]]['longest'][0]\n",
    "beta_1 = yields[dates[i]:dates[i]]['10-year'][0] - yields[dates[i]:dates[i]]['3-month'][0]\n",
    "beta_2 = 2 * yields[dates[i]:dates[i]]['2-year'][0] - yields[dates[i]:dates[i]]['3-month'][0] - yields[dates[i]:dates[i]]['10-year'][0]"
   ]
  },
  {
   "cell_type": "code",
   "execution_count": 188,
   "metadata": {},
   "outputs": [
    {
     "name": "stdout",
     "output_type": "stream",
     "text": [
      "[ 0.717313    0.08086156  0.01810876 -0.00996742]\n"
     ]
    },
    {
     "data": {
      "image/png": "[encoded data removed]",
      "text/plain": [
       "<Figure size 1080x540 with 1 Axes>"
      ]
     },
     "metadata": {
      "needs_background": "light"
     },
     "output_type": "display_data"
    }
   ],
   "source": [
    "i = 1\n",
    "\n",
    "tau = 0.717313\n",
    "beta_0 = yields[dates[i]:dates[i]]['longest'][0]\n",
    "beta_1 = yields[dates[i]:dates[i]]['10-year'][0] - yields[dates[i]:dates[i]]['3-month'][0]\n",
    "beta_2 = 2 * yields[dates[i]:dates[i]]['2-year'][0] - yields[dates[i]:dates[i]]['3-month'][0] - yields[dates[i]:dates[i]]['10-year'][0]\n",
    "\n",
    "theta = np.array([tau, beta_0, beta_1, beta_2])\n",
    "\n",
    "m = np.linspace(0, 30, 600)\n",
    "plt.figure(figsize = (15,7.5))\n",
    "plt.title(dates[i])\n",
    "plt.grid()\n",
    "plt.plot(m, ns(m, theta), label = 'NS curve')\n",
    "plt.scatter(bootstraped_rates_list[i].maturity, bootstraped_rates_list[i].rates, label = 'Bootsrap')\n",
    "plt.legend()\n",
    "print(theta);"
   ]
  },
  {
   "cell_type": "markdown",
   "metadata": {},
   "source": [
    "It looks bad, even though I've done excatly as Diebold, Li interprets the parameters. So, yet I wouldn't use them."
   ]
  },
  {
   "cell_type": "markdown",
   "metadata": {},
   "source": [
    "# Manousopoulos values"
   ]
  },
  {
   "cell_type": "code",
   "execution_count": 56,
   "metadata": {},
   "outputs": [
    {
     "name": "stdout",
     "output_type": "stream",
     "text": [
      "CPU times: user 2.7 s, sys: 10.9 ms, total: 2.71 s\n",
      "Wall time: 2.72 s\n"
     ]
    }
   ],
   "source": [
    "%%time\n",
    "\n",
    "manousopoulos_values = pd.DataFrame(np.zeros([bonds_prices.shape[0], 4]), index = dates, \n",
    "                                  columns = ['tau', 'beta_0', 'beta_1', 'beta_2'])\n",
    "\n",
    "manousopoulos_values['tau'] = np.ones(bonds_prices.shape[0])\n",
    "\n",
    "for i in range(len(dates)):\n",
    "    sorted_bonds = maturity_matrix.iloc[i].sort_values()\n",
    "    sorted_bonds.dropna(inplace=True)\n",
    "    \n",
    "    shortest_bond = sorted_bonds.index[0]\n",
    "    longest_bonds = sorted_bonds.index[-4:]\n",
    "    \n",
    "    manousopoulos_values.at[dates[i], 'beta_0'] = irr_matrix[dates[i]:dates[i]][longest_bonds].mean(axis = 1)[0]\n",
    "    manousopoulos_values.at[dates[i], 'beta_1'] = irr_matrix[dates[i]:dates[i]][shortest_bond][0] - manousopoulos_values[dates[i]:dates[i]]['beta_0'][0]"
   ]
  },
  {
   "cell_type": "code",
   "execution_count": 57,
   "metadata": {},
   "outputs": [],
   "source": [
    "manousopoulos_values.to_csv(path + 'Data/New_data/manousopoulos.csv')"
   ]
  },
  {
   "cell_type": "code",
   "execution_count": 58,
   "metadata": {},
   "outputs": [],
   "source": [
    "manousopoulos_values = pd.read_csv(path + 'Data/New_data/manousopoulos.csv', index_col = 0)"
   ]
  },
  {
   "cell_type": "code",
   "execution_count": 64,
   "metadata": {},
   "outputs": [
    {
     "name": "stdout",
     "output_type": "stream",
     "text": [
      "tau       1.000000\n",
      "beta_0    0.081978\n",
      "beta_1    0.009121\n",
      "beta_2    0.000000\n",
      "Name: 2017-03-17, dtype: float64\n"
     ]
    },
    {
     "data": {
      "image/png": "[encoded data removed]",
      "text/plain": [
       "<Figure size 1080x540 with 1 Axes>"
      ]
     },
     "metadata": {
      "needs_background": "light"
     },
     "output_type": "display_data"
    }
   ],
   "source": [
    "i = 800\n",
    "\n",
    "m = np.linspace(0, 30, 600)\n",
    "plt.figure(figsize = (15,7.5))\n",
    "plt.title(dates[i])\n",
    "plt.grid()\n",
    "plt.plot(m, ns(m, manousopoulos_values.iloc[i]), label = 'NS curve')\n",
    "plt.scatter(bootstraped_rates_list[i].maturity, bootstraped_rates_list[i].rates, label = 'Bootsrap')\n",
    "plt.legend()\n",
    "print(manousopoulos_values.iloc[i]);"
   ]
  },
  {
   "cell_type": "markdown",
   "metadata": {},
   "source": [
    "Looks much better"
   ]
  }
 ],
 "metadata": {
  "kernelspec": {
   "display_name": "Python 3",
   "language": "python",
   "name": "python3"
  },
  "language_info": {
   "codemirror_mode": {
    "name": "ipython",
    "version": 3
   },
   "file_extension": ".py",
   "mimetype": "text/x-python",
   "name": "python",
   "nbconvert_exporter": "python",
   "pygments_lexer": "ipython3",
   "version": "3.7.7"
  }
 },
 "nbformat": 4,
 "nbformat_minor": 4
}
