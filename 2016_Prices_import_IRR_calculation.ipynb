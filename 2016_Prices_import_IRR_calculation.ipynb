{
 "cells": [
  {
   "cell_type": "markdown",
   "metadata": {},
   "source": [
    "# Bonds prices calculation"
   ]
  },
  {
   "cell_type": "code",
   "execution_count": 83,
   "metadata": {},
   "outputs": [],
   "source": [
    "import pandas as pd\n",
    "pd.core.common.is_list_like = pd.api.types.is_list_like\n",
    "import pandas_datareader as web\n",
    "from pandas_datareader.moex import MoexReader\n",
    "import numpy as np\n",
    "%matplotlib inline\n",
    "import matplotlib.pyplot as plt\n",
    "import pdb\n",
    "from scipy.optimize import minimize\n",
    "import thesis_library"
   ]
  },
  {
   "cell_type": "code",
   "execution_count": 84,
   "metadata": {},
   "outputs": [],
   "source": [
    "pd.options.display.max_rows = 999"
   ]
  },
  {
   "cell_type": "code",
   "execution_count": 85,
   "metadata": {},
   "outputs": [],
   "source": [
    "bonds_payments = pd.read_csv('/Users/andrey_lukyanov/Google_Drive/Studies/Year_4/Курсач/Coding/Comparing-numerical-methods-for-term-structure-fitting/Data/bonds_payments.csv', index_col=0)\n",
    "bonds_payments['Дата фактической выплаты'] = pd.to_datetime(bonds_payments['Дата фактической выплаты'])\n",
    "\n",
    "bond_trade_codes = bonds_payments['Торговый код'].unique()"
   ]
  },
  {
   "cell_type": "code",
   "execution_count": 3,
   "metadata": {},
   "outputs": [
    {
     "data": {
      "text/plain": [
       "array(['SU26205RMFS3', 'SU26207RMFS9', 'SU26208RMFS7', 'SU26209RMFS5',\n",
       "       'SU26210RMFS3', 'SU26211RMFS1', 'SU26212RMFS9', 'SU26214RMFS5',\n",
       "       'SU26215RMFS2', 'SU26216RMFS0', 'SU26217RMFS8', 'SU26218RMFS6',\n",
       "       'SU26219RMFS4', 'SU46011RMFS1', 'SU46012RMFS9', 'SU46018RMFS6',\n",
       "       'SU46019RMFS4', 'SU46020RMFS2', 'SU46022RMFS8', 'SU46023RMFS6'],\n",
       "      dtype=object)"
      ]
     },
     "execution_count": 3,
     "metadata": {},
     "output_type": "execute_result"
    }
   ],
   "source": [
    "bond_trade_codes"
   ]
  },
  {
   "cell_type": "code",
   "execution_count": 9,
   "metadata": {},
   "outputs": [
    {
     "data": {
      "text/plain": [
       "array(['RU000A0JREQ7', 'RU000A0JS3W6', 'RU000A0JS4M5', 'RU000A0JSMA2',\n",
       "       'RU000A0JTG59', 'RU000A0JTJL3', 'RU000A0JTK38', 'RU000A0JTYA5',\n",
       "       'RU000A0JU4L3', 'RU000A0JU9V1', 'RU000A0JVW30', 'RU000A0JVW48',\n",
       "       'RU000A0JWM07', 'RU0002867854', 'RU0002868001', 'RU000A0D0G29',\n",
       "       'RU000A0JNHJ4', 'RU000A0GN9A7', 'RU000A0JPLH5', 'RU000A0JRTL6'],\n",
       "      dtype=object)"
      ]
     },
     "execution_count": 9,
     "metadata": {},
     "output_type": "execute_result"
    }
   ],
   "source": [
    "bonds_payments.ISIN.unique()"
   ]
  },
  {
   "cell_type": "markdown",
   "metadata": {},
   "source": [
    "### Close prices and accrued interest import"
   ]
  },
  {
   "cell_type": "code",
   "execution_count": 3,
   "metadata": {},
   "outputs": [],
   "source": [
    "moex_data = [MoexReader(code, start = '01.01.2016', end = '31.12.2016').read() for code in bond_trade_codes]\n",
    "bonds_list_close = [moex_data[i][moex_data[i].BOARDID == 'TQOB'].drop_duplicates()['CLOSE'] for i in range(len(moex_data))]\n",
    "bonds_list_accint = [moex_data[i][moex_data[i].BOARDID == 'TQOB'].drop_duplicates()['ACCINT'] for i in range(len(moex_data))]\n",
    "\n",
    "bonds_list_close = pd.concat(bonds_list_close, axis = 1)\n",
    "bonds_list_accint = pd.concat(bonds_list_accint, axis = 1)\n",
    "\n",
    "bonds_list_close.columns = bond_trade_codes\n",
    "bonds_list_accint.columns = bond_trade_codes"
   ]
  },
  {
   "cell_type": "code",
   "execution_count": 33,
   "metadata": {},
   "outputs": [],
   "source": [
    "bonds_list_close.to_csv('/Users/andrey_lukyanov/Google_Drive/Studies/Year_4/Курсач/Coding/Comparing-numerical-methods-for-term-structure-fitting/Data/bonds_close_prices.csv')\n",
    "bonds_list_accint.to_csv('/Users/andrey_lukyanov/Google_Drive/Studies/Year_4/Курсач/Coding/Comparing-numerical-methods-for-term-structure-fitting/Data/bonds_accint.csv')"
   ]
  },
  {
   "cell_type": "code",
   "execution_count": 4,
   "metadata": {},
   "outputs": [],
   "source": [
    "bonds_list_close = pd.read_csv('/Users/andrey_lukyanov/Google_Drive/Studies/Year_4/Курсач/Coding/Comparing-numerical-methods-for-term-structure-fitting/Data/bonds_close_prices.csv', index_col='TRADEDATE', parse_dates=True)\n",
    "bonds_list_accint = pd.read_csv('/Users/andrey_lukyanov/Google_Drive/Studies/Year_4/Курсач/Coding/Comparing-numerical-methods-for-term-structure-fitting/Data/bonds_accint.csv', index_col='TRADEDATE', parse_dates=True)\n",
    "principal = pd.read_csv('/Users/andrey_lukyanov/Google_Drive/Studies/Year_4/Курсач/Coding/Comparing-numerical-methods-for-term-structure-fitting/Data/principal.csv', index_col='TRADEDATE', parse_dates=True)\n",
    "\n",
    "dates = bonds_list_close.index"
   ]
  },
  {
   "cell_type": "markdown",
   "metadata": {},
   "source": [
    "### Principal calculation"
   ]
  },
  {
   "cell_type": "code",
   "execution_count": 5,
   "metadata": {},
   "outputs": [
    {
     "name": "stderr",
     "output_type": "stream",
     "text": [
      "/Users/andrey_lukyanov/anaconda3/lib/python3.7/site-packages/ipykernel_launcher.py:11: SettingWithCopyWarning: \n",
      "A value is trying to be set on a copy of a slice from a DataFrame.\n",
      "Try using .loc[row_indexer,col_indexer] = value instead\n",
      "\n",
      "See the caveats in the documentation: https://pandas.pydata.org/pandas-docs/stable/user_guide/indexing.html#returning-a-view-versus-a-copy\n",
      "  # This is added back by InteractiveShellApp.init_path()\n"
     ]
    }
   ],
   "source": [
    "dates = bonds_list_close.index\n",
    "\n",
    "principal = pd.DataFrame(np.zeros([252, 20]), index = dates, columns = bonds_payments['Торговый код'].unique())\n",
    "\n",
    "for i in range(len(dates)):\n",
    "    payments_on_date = bonds_payments[bonds_payments['Дата фактической выплаты'] >= dates[i]]\n",
    "    \n",
    "    for ticker in bond_trade_codes:\n",
    "        bond_principal = payments_on_date[payments_on_date['Торговый код'] == ticker]['Погашение номинала, RUB'].values.sum()\n",
    "        \n",
    "        principal[i:i+1][ticker] = bond_principal"
   ]
  },
  {
   "cell_type": "code",
   "execution_count": 8,
   "metadata": {},
   "outputs": [],
   "source": [
    "principal.to_csv('/Users/andrey_lukyanov/Google_Drive/Studies/Year_4/Курсач/Coding/Comparing-numerical-methods-for-term-structure-fitting/Data/principal.csv')"
   ]
  },
  {
   "cell_type": "markdown",
   "metadata": {},
   "source": [
    "## Prices calculation"
   ]
  },
  {
   "cell_type": "code",
   "execution_count": 13,
   "metadata": {},
   "outputs": [],
   "source": [
    "bonds_prices = np.zeros([252, 20])\n",
    "\n",
    "for i in range(len(dates)):    \n",
    "    for j in range(bonds_list_close.shape[1]):        \n",
    "        bonds_prices[i, j] = bonds_list_close.iloc[i, j] * principal.iloc[i, j] / 100 + bonds_list_accint.iloc[i, j] / 10\n",
    "        \n",
    "bonds_prices = pd.DataFrame(bonds_prices, index = dates, columns = bond_trade_codes)"
   ]
  },
  {
   "cell_type": "code",
   "execution_count": 14,
   "metadata": {},
   "outputs": [],
   "source": [
    "bonds_prices.to_csv('/Users/andrey_lukyanov/Google_Drive/Studies/Year_4/Курсач/Coding/Comparing-numerical-methods-for-term-structure-fitting/Data/bonds_prices.csv')"
   ]
  },
  {
   "cell_type": "markdown",
   "metadata": {},
   "source": [
    "## Loading existing data"
   ]
  },
  {
   "cell_type": "code",
   "execution_count": 6,
   "metadata": {},
   "outputs": [],
   "source": [
    "bonds_prices = pd.read_csv('/Users/andrey_lukyanov/Google_Drive/Studies/Year_4/Курсач/Coding/Comparing-numerical-methods-for-term-structure-fitting/Data/bonds_prices.csv', index_col='TRADEDATE', parse_dates=True)"
   ]
  },
  {
   "cell_type": "code",
   "execution_count": 7,
   "metadata": {},
   "outputs": [],
   "source": [
    "irr_matrix = pd.read_csv('/Users/andrey_lukyanov/Google_Drive/Studies/Year_4/Курсач/Coding/Comparing-numerical-methods-for-term-structure-fitting/Data/bonds_irrs.csv', index_col=0)"
   ]
  },
  {
   "cell_type": "markdown",
   "metadata": {},
   "source": [
    "# CBR curves"
   ]
  },
  {
   "cell_type": "code",
   "execution_count": 26,
   "metadata": {},
   "outputs": [],
   "source": [
    "cbr_rates = pd.read_csv('/Users/andrey_lukyanov/Google_Drive/Studies/Year_4/Курсач/Coding/Comparing-numerical-methods-for-term-structure-fitting/Data/rates.csv', index_col=0, parse_dates=True)\n",
    "cbr_maturities = np.array([0.25, 0.50, 0.75, 1.00, 2.00, 3.00, 5.00, 7.00, 10.00, 15.00, 20.00, 30.00])"
   ]
  },
  {
   "cell_type": "code",
   "execution_count": 35,
   "metadata": {},
   "outputs": [
    {
     "name": "stderr",
     "output_type": "stream",
     "text": [
      "/Users/andrey_lukyanov/anaconda3/lib/python3.7/site-packages/ipykernel_launcher.py:7: RuntimeWarning: overflow encountered in square\n",
      "  import sys\n",
      "/Users/andrey_lukyanov/Google_Drive/Studies/Year_4/Курсач/Coding/Comparing-numerical-methods-for-term-structure-fitting/thesis_library.py:31: RuntimeWarning: overflow encountered in exp\n",
      "  return beta0 + beta1 * (1 - np.exp(- m / tau1)) / (m / tau1) + beta2 * ((1 - np.exp(- m / tau1)) / (m / tau1) - np.exp(- m / tau1)) + beta3 * ((1 - np.exp(- m / tau2)) / (m / tau2) - np.exp(- m / tau2))\n",
      "/Users/andrey_lukyanov/Google_Drive/Studies/Year_4/Курсач/Coding/Comparing-numerical-methods-for-term-structure-fitting/thesis_library.py:31: RuntimeWarning: invalid value encountered in subtract\n",
      "  return beta0 + beta1 * (1 - np.exp(- m / tau1)) / (m / tau1) + beta2 * ((1 - np.exp(- m / tau1)) / (m / tau1) - np.exp(- m / tau1)) + beta3 * ((1 - np.exp(- m / tau2)) / (m / tau2) - np.exp(- m / tau2))\n"
     ]
    },
    {
     "name": "stdout",
     "output_type": "stream",
     "text": [
      "CPU times: user 2min 35s, sys: 1.05 s, total: 2min 36s\n",
      "Wall time: 2min 38s\n"
     ]
    }
   ],
   "source": [
    "%%time\n",
    "\n",
    "cbr_thetas = pd.DataFrame(data = np.zeros([252, 6]), index = cbr_rates.index, \n",
    "                          columns = ['tau1', 'tau2', 'beta0', 'beta1', 'beta2', 'beta3'])\n",
    "\n",
    "for i in range(cbr_rates.shape[0]):\n",
    "    \n",
    "    def fit_curve(theta):\n",
    "        return ((cbr_rates.iloc[i].values - thesis_library.nss(cbr_maturities, theta))**2).sum()\n",
    "    \n",
    "    theta0 = np.array([10, 10, 10, 10, 10, 10])\n",
    "    best_theta = minimize(fit_curve, theta0, method='nelder-mead', \n",
    "                          options={'xtol': 1e-8, 'disp': False, 'maxiter': 10000})\n",
    "    cbr_thetas.iloc[i] = best_theta.x\n",
    "    \n",
    "cbr_thetas.to_csv('/Users/andrey_lukyanov/Google_Drive/Studies/Year_4/Курсач/Coding/Comparing-numerical-methods-for-term-structure-fitting/Thetas/cbr_thetas.csv')"
   ]
  },
  {
   "cell_type": "markdown",
   "metadata": {},
   "source": [
    "# IRR calcultation"
   ]
  },
  {
   "cell_type": "code",
   "execution_count": 8,
   "metadata": {},
   "outputs": [],
   "source": [
    "def npv(irr, cfs, yrs):  \n",
    "    return np.sum(cfs / (1. + irr) ** yrs)"
   ]
  },
  {
   "cell_type": "code",
   "execution_count": 9,
   "metadata": {},
   "outputs": [],
   "source": [
    "from scipy.optimize import fsolve\n",
    "\n",
    "def irr(cfs, yrs, x0):\n",
    "    return np.asscalar(fsolve(npv, x0=x0, args=(cfs, yrs)))"
   ]
  },
  {
   "cell_type": "code",
   "execution_count": 10,
   "metadata": {},
   "outputs": [],
   "source": [
    "def maturities_irrs(date_number):\n",
    "    irrs = []\n",
    "    maturities = []\n",
    "#    pdb.set_trace()\n",
    "    payments_on_date = bonds_payments[bonds_payments['Дата фактической выплаты'] >= dates[date_number]]\n",
    "    \n",
    "    for ticker in bonds_payments['Торговый код'].unique():\n",
    "    \n",
    "        payments = payments_on_date[payments_on_date['Торговый код'] == ticker]['Сумма купона, RUB'] + payments_on_date[payments_on_date['Торговый код'] == ticker]['Погашение номинала, RUB'].values\n",
    "        principal = payments_on_date[payments_on_date['Торговый код'] == ticker]['Погашение номинала, RUB'].values.sum()\n",
    "        payments_dates = (payments_on_date[payments_on_date['Торговый код'] == ticker]['Дата фактической выплаты'] - dates[date_number]).apply(lambda x: x.days)/365\n",
    "    \n",
    "        investment = bonds_prices.iloc[date_number][ticker]\n",
    "        payments = np.insert(np.array(payments), 0, -investment)\n",
    "        payments_dates = np.insert(np.array(payments_dates), 0, 0)\n",
    "        \n",
    "        if np.isnan(payments[0]) == True:\n",
    "            irrs.append(np.nan)\n",
    "            maturities.append(np.nan)\n",
    "        else:\n",
    "            bond_irr = irr(cfs=payments, yrs=payments_dates, x0=0.10)\n",
    "            irrs.append(bond_irr)\n",
    "            maturities.append(payments_dates[-1])\n",
    "            \n",
    "        \n",
    "    return (np.array([maturities]), np.array([irrs]))   "
   ]
  },
  {
   "cell_type": "code",
   "execution_count": 9,
   "metadata": {},
   "outputs": [],
   "source": [
    "irr_matrix = pd.DataFrame(np.zeros([252, 20]), index = dates, columns = bonds_payments['Торговый код'].unique())\n",
    "maturity_matrix = pd.DataFrame(np.zeros([252, 20]), index = dates, columns = bonds_payments['Торговый код'].unique())"
   ]
  },
  {
   "cell_type": "code",
   "execution_count": 19,
   "metadata": {},
   "outputs": [
    {
     "name": "stdout",
     "output_type": "stream",
     "text": [
      "CPU times: user 17 s, sys: 48.5 ms, total: 17 s\n",
      "Wall time: 17 s\n"
     ]
    }
   ],
   "source": [
    "%%time\n",
    "\n",
    "for i in range(len(dates)):\n",
    "    maturity_matrix[dates[i]:dates[i]], irr_matrix[dates[i]:dates[i]] = maturities_irrs(i)    "
   ]
  },
  {
   "cell_type": "code",
   "execution_count": 12,
   "metadata": {},
   "outputs": [],
   "source": [
    "maturity_matrix.to_csv('/Users/andrey_lukyanov/Google_Drive/Studies/Year_4/Курсач/Coding/Comparing-numerical-methods-for-term-structure-fitting/Data/bonds_maturities.csv')\n",
    "irr_matrix.to_csv('/Users/andrey_lukyanov/Google_Drive/Studies/Year_4/Курсач/Coding/Comparing-numerical-methods-for-term-structure-fitting/Data/bonds_irrs.csv')"
   ]
  },
  {
   "cell_type": "code",
   "execution_count": 11,
   "metadata": {},
   "outputs": [],
   "source": [
    "maturity_matrix = pd.read_csv('/Users/andrey_lukyanov/Google_Drive/Studies/Year_4/Курсач/Coding/Comparing-numerical-methods-for-term-structure-fitting/Data/bonds_maturities.csv', index_col='TRADEDATE', parse_dates=True)\n",
    "irr_matrix = pd.read_csv('/Users/andrey_lukyanov/Google_Drive/Studies/Year_4/Курсач/Coding/Comparing-numerical-methods-for-term-structure-fitting/Data/bonds_irrs.csv', index_col='TRADEDATE', parse_dates=True)"
   ]
  },
  {
   "cell_type": "markdown",
   "metadata": {},
   "source": [
    "## BOOTSRAP"
   ]
  },
  {
   "cell_type": "markdown",
   "metadata": {},
   "source": [
    "1. Сортируем бонды по их длине\n",
    "2. Первую ставку взять из IRR наиболее короткого бонда\n",
    "3. Далее решать каждый бонд при условии более коротких ставок."
   ]
  },
  {
   "cell_type": "code",
   "execution_count": 12,
   "metadata": {},
   "outputs": [],
   "source": [
    "from scipy.optimize import fsolve"
   ]
  },
  {
   "cell_type": "code",
   "execution_count": 13,
   "metadata": {},
   "outputs": [],
   "source": [
    "def discount_by_rates(df, rates):\n",
    "    df['Discounted'] = (df['Сумма купона, RUB'] + df['Погашение номинала, RUB']) * np.exp(-rates * df['Дата фактической выплаты'])"
   ]
  },
  {
   "cell_type": "code",
   "execution_count": 14,
   "metadata": {},
   "outputs": [],
   "source": [
    "def generate_solve_for_rate(unknown, known, price):\n",
    "    def solve_for_rate(rate):\n",
    "        nonlocal unknown, known, price\n",
    "        unknown['rates'] = np.ones(unknown.shape[0]) * rate\n",
    "        discount_by_rates(unknown, unknown['rates'])\n",
    "        return known + unknown.Discounted.sum() - price    \n",
    "    \n",
    "    return solve_for_rate"
   ]
  },
  {
   "cell_type": "code",
   "execution_count": 15,
   "metadata": {},
   "outputs": [],
   "source": [
    "def bootsrap_rates_on_day(day_number):\n",
    "    \n",
    "    sorted_bonds = maturity_matrix.iloc[day_number].sort_values()\n",
    "    sorted_bonds.dropna(inplace=True)\n",
    "#    print(sorted_bonds)\n",
    "    \n",
    "    bootstraped_rates = {}\n",
    "    bootstraped_rates[sorted_bonds.iloc[0]] = irr_matrix.iloc[day_number][sorted_bonds.index[0]]\n",
    "\n",
    "    for i in range(1, sorted_bonds.shape[0]):\n",
    "        \n",
    "        payments_after_date = bonds_payments[(bonds_payments['Торговый код'] == sorted_bonds.index[i]) & \n",
    "                                         (bonds_payments['Дата фактической выплаты'] > \n",
    "                                          dates[day_number])][['Сумма купона, RUB', \n",
    "                                                               'Погашение номинала, RUB', \n",
    "                                                               'Дата фактической выплаты']]\n",
    "\n",
    "        calc_df = pd.concat([(payments_after_date['Дата фактической выплаты'] - dates[0]).apply(lambda x: x.days)/365, \n",
    "                         payments_after_date['Сумма купона, RUB'], payments_after_date['Погашение номинала, RUB']], \n",
    "                        axis = 1)\n",
    "        calc_df['rates'] = np.zeros(calc_df.shape[0])\n",
    "        \n",
    "#        print(sorted_bonds.index[i])\n",
    "        \n",
    "        known_rates_df = calc_df[calc_df['Дата фактической выплаты'] <= list(bootstraped_rates.keys())[i - 1]]\n",
    "        \n",
    "        for j in range(len(bootstraped_rates)):\n",
    "            \n",
    "            #нужно заполнить столбец известными ставками\n",
    "            mask = known_rates_df['Дата фактической выплаты'] < list(bootstraped_rates)[len(bootstraped_rates) - 1 - j]\n",
    "            known_rates_df['rates'][mask] = bootstraped_rates[list(bootstraped_rates)[len(bootstraped_rates) - 1 - j]]\n",
    "            #заполнили\n",
    "        \n",
    "        # дисконтируем известные платежи\n",
    "        discount_by_rates(known_rates_df, known_rates_df['rates'])\n",
    "        #считаем их сумму\n",
    "#        print(known_rates_df)\n",
    "        known = known_rates_df['Discounted'].sum()\n",
    "#        print('Known:', known)\n",
    "        \n",
    "        \n",
    "        #считываем цену\n",
    "        price = bonds_prices.iloc[day_number][sorted_bonds.index[i]]\n",
    "#        print('Price', price)\n",
    "            \n",
    "        unknown_rates_df = calc_df[calc_df['Дата фактической выплаты'] > list(bootstraped_rates.keys())[i - 1]]\n",
    "#        print(unknown_rates_df)\n",
    "        \n",
    "        #генеририуем функцию для поиска неизвестной ставки \n",
    "        solve_for_rate_function = generate_solve_for_rate(unknown_rates_df, known, price)\n",
    "        new_rate = fsolve(solve_for_rate_function, 0.1)[0]\n",
    "#        print(new_rate)\n",
    "        \n",
    "\n",
    "        \n",
    "        bootstraped_rates[sorted_bonds.iloc[i]] = new_rate\n",
    "#        print(bootstraped_rates)\n",
    "\n",
    "     \n",
    "    return bootstraped_rates"
   ]
  },
  {
   "cell_type": "code",
   "execution_count": 11,
   "metadata": {},
   "outputs": [
    {
     "name": "stderr",
     "output_type": "stream",
     "text": [
      "/Users/andrey_lukyanov/anaconda3/lib/python3.7/site-packages/pandas/core/generic.py:8765: SettingWithCopyWarning: \n",
      "A value is trying to be set on a copy of a slice from a DataFrame\n",
      "\n",
      "See the caveats in the documentation: https://pandas.pydata.org/pandas-docs/stable/user_guide/indexing.html#returning-a-view-versus-a-copy\n",
      "  self._update_inplace(new_data)\n",
      "/Users/andrey_lukyanov/anaconda3/lib/python3.7/site-packages/ipykernel_launcher.py:2: SettingWithCopyWarning: \n",
      "A value is trying to be set on a copy of a slice from a DataFrame.\n",
      "Try using .loc[row_indexer,col_indexer] = value instead\n",
      "\n",
      "See the caveats in the documentation: https://pandas.pydata.org/pandas-docs/stable/user_guide/indexing.html#returning-a-view-versus-a-copy\n",
      "  \n",
      "/Users/andrey_lukyanov/anaconda3/lib/python3.7/site-packages/ipykernel_launcher.py:4: SettingWithCopyWarning: \n",
      "A value is trying to be set on a copy of a slice from a DataFrame.\n",
      "Try using .loc[row_indexer,col_indexer] = value instead\n",
      "\n",
      "See the caveats in the documentation: https://pandas.pydata.org/pandas-docs/stable/user_guide/indexing.html#returning-a-view-versus-a-copy\n",
      "  after removing the cwd from sys.path.\n"
     ]
    },
    {
     "name": "stdout",
     "output_type": "stream",
     "text": [
      "CPU times: user 1min 33s, sys: 694 ms, total: 1min 34s\n",
      "Wall time: 1min 37s\n"
     ]
    }
   ],
   "source": [
    "%%time\n",
    "\n",
    "all_bootstraped_rates = []\n",
    "\n",
    "for i in range(len(dates)):\n",
    "    all_bootstraped_rates.append(bootsrap_rates_on_day(i))"
   ]
  },
  {
   "cell_type": "code",
   "execution_count": 12,
   "metadata": {},
   "outputs": [],
   "source": [
    "for i in range(len(dates)):\n",
    "    bt_rates_df = pd.DataFrame.from_dict(all_bootstraped_rates[i], orient='index', columns = ['rate'])\n",
    "    bt_rates_df.reset_index(level = 0, inplace = True)\n",
    "    bt_rates_df.columns = ['maturity', 'rates']\n",
    "    bt_rates_df.to_csv('/Users/andrey_lukyanov/Google_Drive/Studies/Year_4/Курсач/Coding/Comparing-numerical-methods-for-term-structure-fitting/Bootstraped_rates/bt_rates_' + str(dates[i].date()) + '.csv')"
   ]
  },
  {
   "cell_type": "code",
   "execution_count": 16,
   "metadata": {},
   "outputs": [],
   "source": [
    "bootstraped_rates_list = []\n",
    "\n",
    "for i in range(len(dates)):\n",
    "    bootstraped_rates_list.append(pd.read_csv('/Users/andrey_lukyanov/Google_Drive/Studies/Year_4/Курсач/Coding/Comparing-numerical-methods-for-term-structure-fitting/bootstraped_rates/bt_rates_' + str(dates[i].date()) + '.csv', index_col=0))"
   ]
  },
  {
   "cell_type": "code",
   "execution_count": 17,
   "metadata": {},
   "outputs": [
    {
     "data": {
      "image/png": "[encoded data removed]",
      "text/plain": [
       "<Figure size 432x288 with 1 Axes>"
      ]
     },
     "metadata": {
      "needs_background": "light"
     },
     "output_type": "display_data"
    }
   ],
   "source": [
    "j = 10\n",
    "\n",
    "plt.title(dates[j].date())\n",
    "plt.scatter(bootstraped_rates_list[j].maturity, bootstraped_rates_list[j].rates);"
   ]
  },
  {
   "cell_type": "markdown",
   "metadata": {},
   "source": [
    "## Diebold-Li weights generation"
   ]
  },
  {
   "cell_type": "code",
   "execution_count": 18,
   "metadata": {},
   "outputs": [],
   "source": [
    "def ns(m, theta):\n",
    "    tau = theta[0]\n",
    "    beta0 = theta[1]\n",
    "    beta1 = theta[2]\n",
    "    beta2 = theta[3]\n",
    "    return beta0 + beta1 * (1 - np.exp(- m / tau)) / (m / tau) + beta2 * ((1 - np.exp(- m / tau)) / (m / tau) - np.exp(- m / tau))"
   ]
  },
  {
   "cell_type": "code",
   "execution_count": 19,
   "metadata": {},
   "outputs": [],
   "source": [
    "import statsmodels.api as sm"
   ]
  },
  {
   "cell_type": "code",
   "execution_count": 20,
   "metadata": {},
   "outputs": [],
   "source": [
    "def get_loadings(m, tau):\n",
    "    \n",
    "    level = np.ones(m.shape[0])\n",
    "    slope_hump = (1 - np.exp(- m / tau)) / (m / tau)\n",
    "    hump =  - np.exp(- m / tau) \n",
    "\n",
    "    return level, slope_hump, hump"
   ]
  },
  {
   "cell_type": "markdown",
   "metadata": {},
   "source": [
    "We set $\\tau$ according to Diebold, Li 2006. The screnshot in the folder shows the way we obtained it."
   ]
  },
  {
   "cell_type": "code",
   "execution_count": 81,
   "metadata": {},
   "outputs": [],
   "source": [
    "def get_diebold_li_weights(day_number):\n",
    "\n",
    "    df_shape = bootstraped_rates_list[day_number].shape[0]\n",
    "\n",
    "    X = np.zeros([df_shape, 3])\n",
    "    X[:,0], X[:,1], X[:,2] = get_loadings(m = bootstraped_rates_list[day_number].maturity.values, tau = 0.717313)\n",
    "       \n",
    "    y = bootstraped_rates_list[day_number].rates.values * 100\n",
    "\n",
    "    model = sm.OLS(y, X)\n",
    "    beta = model.fit().params\n",
    "    \n",
    "    ns_theta = np.zeros(4)\n",
    "    ns_theta[0] = 0.717313\n",
    "    ns_theta[1] = beta[0]\n",
    "    ns_theta[2] = beta[1] - beta[2]\n",
    "    ns_theta[3] = beta[2]\n",
    "    \n",
    "    nss_theta = np.zeros(6)\n",
    "    nss_theta[0] = 0.717313\n",
    "    nss_theta[1] = theta[0] + 1\n",
    "    nss_theta[2] = beta[0]\n",
    "    nss_theta[3] = beta[1] - beta[2]\n",
    "    nss_theta[4] = beta[2]\n",
    "    nss_theta[5] = (theta[4] + 1)/10\n",
    "\n",
    "    return ns_theta, nss_theta"
   ]
  },
  {
   "cell_type": "code",
   "execution_count": 87,
   "metadata": {},
   "outputs": [
    {
     "name": "stdout",
     "output_type": "stream",
     "text": [
      "CPU times: user 135 ms, sys: 13.6 ms, total: 148 ms\n",
      "Wall time: 160 ms\n"
     ]
    }
   ],
   "source": [
    "%%time\n",
    "\n",
    "diebold_li_weights = pd.DataFrame(np.zeros([252, 6]), index = dates,\n",
    "                                  columns = ['tau1', 'tau2', 'beta0', 'beta1', 'beta2', 'beta3'])\n",
    "for i in range(diebold_li_weights.shape[0]):\n",
    "    diebold_li_weights.iloc[i] = get_diebold_li_weights(i)\n",
    "    \n",
    "diebold_li_weights.to_csv('/Users/andrey_lukyanov/Google_Drive/Studies/Year_4/Курсач/Coding/Comparing-numerical-methods-for-term-structure-fitting/Thetas/diebold_li.csv')"
   ]
  },
  {
   "cell_type": "code",
   "execution_count": 24,
   "metadata": {},
   "outputs": [],
   "source": [
    "diebold_li_weights = pd.read_csv('/Users/andrey_lukyanov/Google_Drive/Studies/Year_4/Курсач/Coding/Comparing-numerical-methods-for-term-structure-fitting/Data/diebold_li.csv', index_col='TRADEDATE', parse_dates=True)"
   ]
  },
  {
   "cell_type": "code",
   "execution_count": 59,
   "metadata": {},
   "outputs": [
    {
     "data": {
      "text/plain": [
       "array([  0.717313  ,   8.86004893,  25.78543592, -22.98906198])"
      ]
     },
     "execution_count": 59,
     "metadata": {},
     "output_type": "execute_result"
    }
   ],
   "source": []
  },
  {
   "cell_type": "code",
   "execution_count": 82,
   "metadata": {},
   "outputs": [
    {
     "name": "stderr",
     "output_type": "stream",
     "text": [
      "/Users/andrey_lukyanov/anaconda3/lib/python3.7/site-packages/ipykernel_launcher.py:6: RuntimeWarning: invalid value encountered in true_divide\n",
      "  \n",
      "/Users/andrey_lukyanov/Google_Drive/Studies/Year_4/Курсач/Coding/Comparing-numerical-methods-for-term-structure-fitting/thesis_library.py:31: RuntimeWarning: invalid value encountered in true_divide\n",
      "  return beta0 + beta1 * (1 - np.exp(- m / tau1)) / (m / tau1) + beta2 * ((1 - np.exp(- m / tau1)) / (m / tau1) - np.exp(- m / tau1)) + beta3 * ((1 - np.exp(- m / tau2)) / (m / tau2) - np.exp(- m / tau2))\n"
     ]
    },
    {
     "data": {
      "image/png": "[encoded data removed]",
      "text/plain": [
       "<Figure size 1080x540 with 1 Axes>"
      ]
     },
     "metadata": {
      "needs_background": "light"
     },
     "output_type": "display_data"
    }
   ],
   "source": [
    "j = 240\n",
    "\n",
    "m = np.linspace(0, 30, 600)\n",
    "plt.figure(figsize = (15,7.5))\n",
    "plt.grid()\n",
    "plt.plot(m, ns(m, get_diebold_li_weights(j)[0]), label = 'NS curve')\n",
    "plt.plot(m, thesis_library.nss(m, get_diebold_li_weights(j)[1]), label = 'NSS curve')\n",
    "plt.title(dates[j])\n",
    "plt.scatter(bootstraped_rates_list[j].maturity, bootstraped_rates_list[j].rates * 100, label = 'Bootsrap')\n",
    "plt.legend();"
   ]
  },
  {
   "cell_type": "code",
   "execution_count": 56,
   "metadata": {},
   "outputs": [
    {
     "data": {
      "image/png": "[encoded data removed]",
      "text/plain": [
       "<Figure size 1440x720 with 1 Axes>"
      ]
     },
     "metadata": {
      "needs_background": "light"
     },
     "output_type": "display_data"
    }
   ],
   "source": [
    "j = 10\n",
    "\n",
    "m = np.linspace(0, 30, 600)\n",
    "plt.figure(figsize = (20,10))\n",
    "plt.scatter(bootstraped_rates_list[j].maturity, thesis_library.nss(bootstraped_rates_list[j].maturity, diebold_li_weights.iloc[j].values))\n",
    "plt.scatter(bootstraped_rates_list[j].maturity, bootstraped_rates_list[j].rates * 100);"
   ]
  },
  {
   "cell_type": "code",
   "execution_count": 39,
   "metadata": {},
   "outputs": [],
   "source": [
    "%%bash\n",
    "say finished"
   ]
  }
 ],
 "metadata": {
  "kernelspec": {
   "display_name": "Python 3",
   "language": "python",
   "name": "python3"
  },
  "language_info": {
   "codemirror_mode": {
    "name": "ipython",
    "version": 3
   },
   "file_extension": ".py",
   "mimetype": "text/x-python",
   "name": "python",
   "nbconvert_exporter": "python",
   "pygments_lexer": "ipython3",
   "version": "3.7.7"
  }
 },
 "nbformat": 4,
 "nbformat_minor": 4
}
