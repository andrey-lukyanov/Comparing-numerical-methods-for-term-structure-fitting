{
 "cells": [
  {
   "cell_type": "markdown",
   "metadata": {},
   "source": [
    "# Bonds prices calculation"
   ]
  },
  {
   "cell_type": "code",
   "execution_count": 1,
   "metadata": {},
   "outputs": [],
   "source": [
    "import pandas as pd\n",
    "pd.core.common.is_list_like = pd.api.types.is_list_like\n",
    "import pandas_datareader as web\n",
    "from pandas_datareader.moex import MoexReader\n",
    "import numpy as np\n",
    "%matplotlib inline\n",
    "import matplotlib.pyplot as plt\n",
    "import pdb"
   ]
  },
  {
   "cell_type": "code",
   "execution_count": 2,
   "metadata": {},
   "outputs": [],
   "source": [
    "bonds_payments = pd.read_csv('/Users/andrey_lukyanov/Google_Drive/Studies/Year_4/Курсач/Coding/Comparing-numerical-methods-for-term-structure-fitting/Data/bonds_payments.csv', index_col=0)\n",
    "bonds_payments['Дата фактической выплаты'] = pd.to_datetime(bonds_payments['Дата фактической выплаты'])\n",
    "\n",
    "bond_trade_codes = bonds_payments['Торговый код'].unique()"
   ]
  },
  {
   "cell_type": "markdown",
   "metadata": {},
   "source": [
    "### Close prices and accrued interest import"
   ]
  },
  {
   "cell_type": "code",
   "execution_count": 3,
   "metadata": {},
   "outputs": [],
   "source": [
    "moex_data = [MoexReader(code, start = '01.01.2016', end = '31.12.2016').read() for code in bond_trade_codes]\n",
    "bonds_list_close = [moex_data[i][moex_data[i].BOARDID == 'TQOB'].drop_duplicates()['CLOSE'] for i in range(len(moex_data))]\n",
    "bonds_list_accint = [moex_data[i][moex_data[i].BOARDID == 'TQOB'].drop_duplicates()['ACCINT'] for i in range(len(moex_data))]\n",
    "\n",
    "bonds_list_close = pd.concat(bonds_list_close, axis = 1)\n",
    "bonds_list_accint = pd.concat(bonds_list_accint, axis = 1)\n",
    "\n",
    "bonds_list_close.columns = bond_trade_codes\n",
    "bonds_list_accint.columns = bond_trade_codes"
   ]
  },
  {
   "cell_type": "code",
   "execution_count": 33,
   "metadata": {},
   "outputs": [],
   "source": [
    "bonds_list_close.to_csv('/Users/andrey_lukyanov/Google_Drive/Studies/Year_4/Курсач/Coding/Comparing-numerical-methods-for-term-structure-fitting/Data/bonds_close_prices.csv')\n",
    "bonds_list_accint.to_csv('/Users/andrey_lukyanov/Google_Drive/Studies/Year_4/Курсач/Coding/Comparing-numerical-methods-for-term-structure-fitting/Data/bonds_accint.csv')"
   ]
  },
  {
   "cell_type": "code",
   "execution_count": 3,
   "metadata": {},
   "outputs": [],
   "source": [
    "bonds_list_close = pd.read_csv('/Users/andrey_lukyanov/Google_Drive/Studies/Year_4/Курсач/Coding/Comparing-numerical-methods-for-term-structure-fitting/Data/bonds_close_prices.csv', index_col='TRADEDATE', parse_dates=True)\n",
    "bonds_list_accint = pd.read_csv('/Users/andrey_lukyanov/Google_Drive/Studies/Year_4/Курсач/Coding/Comparing-numerical-methods-for-term-structure-fitting/Data/bonds_accint.csv', index_col='TRADEDATE', parse_dates=True)\n",
    "principal = pd.read_csv('/Users/andrey_lukyanov/Google_Drive/Studies/Year_4/Курсач/Coding/Comparing-numerical-methods-for-term-structure-fitting/Data/principal.csv', index_col='TRADEDATE', parse_dates=True)\n",
    "\n",
    "dates = bonds_list_close.index"
   ]
  },
  {
   "cell_type": "markdown",
   "metadata": {},
   "source": [
    "### Principal calculation"
   ]
  },
  {
   "cell_type": "code",
   "execution_count": 3,
   "metadata": {},
   "outputs": [
    {
     "ename": "NameError",
     "evalue": "name 'bonds_list_close' is not defined",
     "output_type": "error",
     "traceback": [
      "\u001b[0;31m---------------------------------------------------------------------------\u001b[0m",
      "\u001b[0;31mNameError\u001b[0m                                 Traceback (most recent call last)",
      "\u001b[0;32m<ipython-input-3-079f1ca82fc9>\u001b[0m in \u001b[0;36m<module>\u001b[0;34m\u001b[0m\n\u001b[0;32m----> 1\u001b[0;31m \u001b[0mdates\u001b[0m \u001b[0;34m=\u001b[0m \u001b[0mbonds_list_close\u001b[0m\u001b[0;34m.\u001b[0m\u001b[0mindex\u001b[0m\u001b[0;34m\u001b[0m\u001b[0;34m\u001b[0m\u001b[0m\n\u001b[0m\u001b[1;32m      2\u001b[0m \u001b[0;34m\u001b[0m\u001b[0m\n\u001b[1;32m      3\u001b[0m \u001b[0mprincipal\u001b[0m \u001b[0;34m=\u001b[0m \u001b[0mpd\u001b[0m\u001b[0;34m.\u001b[0m\u001b[0mDataFrame\u001b[0m\u001b[0;34m(\u001b[0m\u001b[0mnp\u001b[0m\u001b[0;34m.\u001b[0m\u001b[0mzeros\u001b[0m\u001b[0;34m(\u001b[0m\u001b[0;34m[\u001b[0m\u001b[0;36m252\u001b[0m\u001b[0;34m,\u001b[0m \u001b[0;36m20\u001b[0m\u001b[0;34m]\u001b[0m\u001b[0;34m)\u001b[0m\u001b[0;34m,\u001b[0m \u001b[0mindex\u001b[0m \u001b[0;34m=\u001b[0m \u001b[0mdates\u001b[0m\u001b[0;34m,\u001b[0m \u001b[0mcolumns\u001b[0m \u001b[0;34m=\u001b[0m \u001b[0mbonds_payments\u001b[0m\u001b[0;34m[\u001b[0m\u001b[0;34m'Торговый код'\u001b[0m\u001b[0;34m]\u001b[0m\u001b[0;34m.\u001b[0m\u001b[0munique\u001b[0m\u001b[0;34m(\u001b[0m\u001b[0;34m)\u001b[0m\u001b[0;34m)\u001b[0m\u001b[0;34m\u001b[0m\u001b[0;34m\u001b[0m\u001b[0m\n\u001b[1;32m      4\u001b[0m \u001b[0;34m\u001b[0m\u001b[0m\n\u001b[1;32m      5\u001b[0m \u001b[0;32mfor\u001b[0m \u001b[0mi\u001b[0m \u001b[0;32min\u001b[0m \u001b[0mrange\u001b[0m\u001b[0;34m(\u001b[0m\u001b[0mlen\u001b[0m\u001b[0;34m(\u001b[0m\u001b[0mdates\u001b[0m\u001b[0;34m)\u001b[0m\u001b[0;34m)\u001b[0m\u001b[0;34m:\u001b[0m\u001b[0;34m\u001b[0m\u001b[0;34m\u001b[0m\u001b[0m\n",
      "\u001b[0;31mNameError\u001b[0m: name 'bonds_list_close' is not defined"
     ]
    }
   ],
   "source": [
    "dates = bonds_list_close.index\n",
    "\n",
    "principal = pd.DataFrame(np.zeros([252, 20]), index = dates, columns = bonds_payments['Торговый код'].unique())\n",
    "\n",
    "for i in range(len(dates)):\n",
    "    payments_on_date = bonds_payments[bonds_payments['Дата фактической выплаты'] >= dates[i]]\n",
    "    \n",
    "    for ticker in bond_trade_codes:\n",
    "        bond_principal = payments_on_date[payments_on_date['Торговый код'] == ticker]['Погашение номинала, RUB'].values.sum()\n",
    "        \n",
    "        principal[i:i+1][ticker] = bond_principal"
   ]
  },
  {
   "cell_type": "code",
   "execution_count": 8,
   "metadata": {},
   "outputs": [],
   "source": [
    "principal.to_csv('/Users/andrey_lukyanov/Google_Drive/Studies/Year_4/Курсач/Coding/Comparing-numerical-methods-for-term-structure-fitting/Data/principal.csv')"
   ]
  },
  {
   "cell_type": "markdown",
   "metadata": {},
   "source": [
    "## Prices calculation"
   ]
  },
  {
   "cell_type": "markdown",
   "metadata": {},
   "source": [
    "Пересчитать с делением на 10"
   ]
  },
  {
   "cell_type": "code",
   "execution_count": 13,
   "metadata": {},
   "outputs": [],
   "source": [
    "bonds_prices = np.zeros([252, 20])\n",
    "\n",
    "for i in range(len(dates)):    \n",
    "    for j in range(bonds_list_close.shape[1]):        \n",
    "        bonds_prices[i, j] = bonds_list_close.iloc[i, j] * principal.iloc[i, j] / 100 + bonds_list_accint.iloc[i, j] / 10\n",
    "        \n",
    "bonds_prices = pd.DataFrame(bonds_prices, index = dates, columns = bond_trade_codes)"
   ]
  },
  {
   "cell_type": "code",
   "execution_count": 14,
   "metadata": {},
   "outputs": [],
   "source": [
    "bonds_prices.to_csv('/Users/andrey_lukyanov/Google_Drive/Studies/Year_4/Курсач/Coding/Comparing-numerical-methods-for-term-structure-fitting/Data/bonds_prices.csv')"
   ]
  },
  {
   "cell_type": "markdown",
   "metadata": {},
   "source": [
    "## Loading existing data"
   ]
  },
  {
   "cell_type": "code",
   "execution_count": 4,
   "metadata": {},
   "outputs": [],
   "source": [
    "bonds_prices = pd.read_csv('/Users/andrey_lukyanov/Google_Drive/Studies/Year_4/Курсач/Coding/Comparing-numerical-methods-for-term-structure-fitting/Data/bonds_prices.csv', index_col='TRADEDATE', parse_dates=True)"
   ]
  },
  {
   "cell_type": "code",
   "execution_count": 4,
   "metadata": {},
   "outputs": [],
   "source": [
    "irr_matrix = pd.read_csv('/Users/andrey_lukyanov/Google_Drive/Studies/Year_4/Курсач/Coding/Comparing-numerical-methods-for-term-structure-fitting/Data/bonds_irrs.csv', index_col=0)"
   ]
  },
  {
   "cell_type": "markdown",
   "metadata": {},
   "source": [
    "# IRR calcultation"
   ]
  },
  {
   "cell_type": "code",
   "execution_count": 6,
   "metadata": {},
   "outputs": [],
   "source": [
    "def npv(irr, cfs, yrs):  \n",
    "    return np.sum(cfs / (1. + irr) ** yrs)"
   ]
  },
  {
   "cell_type": "code",
   "execution_count": 7,
   "metadata": {},
   "outputs": [],
   "source": [
    "from scipy.optimize import fsolve\n",
    "\n",
    "def irr(cfs, yrs, x0):\n",
    "    return np.asscalar(fsolve(npv, x0=x0, args=(cfs, yrs)))"
   ]
  },
  {
   "cell_type": "code",
   "execution_count": 8,
   "metadata": {},
   "outputs": [],
   "source": [
    "def maturities_irrs(date_number):\n",
    "    irrs = []\n",
    "    maturities = []\n",
    "#    pdb.set_trace()\n",
    "    payments_on_date = bonds_payments[bonds_payments['Дата фактической выплаты'] >= dates[date_number]]\n",
    "    \n",
    "    for ticker in bonds_payments['Торговый код'].unique():\n",
    "    \n",
    "        payments = payments_on_date[payments_on_date['Торговый код'] == ticker]['Сумма купона, RUB'] + payments_on_date[payments_on_date['Торговый код'] == ticker]['Погашение номинала, RUB'].values\n",
    "        principal = payments_on_date[payments_on_date['Торговый код'] == ticker]['Погашение номинала, RUB'].values.sum()\n",
    "        payments_dates = (payments_on_date[payments_on_date['Торговый код'] == ticker]['Дата фактической выплаты'] - dates[date_number]).apply(lambda x: x.days)/365\n",
    "    \n",
    "        investment = bonds_prices.iloc[date_number][ticker]\n",
    "        payments = np.insert(np.array(payments), 0, -investment)\n",
    "        payments_dates = np.insert(np.array(payments_dates), 0, 0)\n",
    "        \n",
    "        if np.isnan(payments[0]) == True:\n",
    "            irrs.append(np.nan)\n",
    "            maturities.append(np.nan)\n",
    "        else:\n",
    "            bond_irr = irr(cfs=payments, yrs=payments_dates, x0=0.10)\n",
    "            irrs.append(bond_irr)\n",
    "            maturities.append(payments_dates[-1])\n",
    "            \n",
    "        \n",
    "    return (np.array([maturities]), np.array([irrs]))   "
   ]
  },
  {
   "cell_type": "code",
   "execution_count": 7,
   "metadata": {},
   "outputs": [],
   "source": [
    "irr_matrix = pd.DataFrame(np.zeros([252, 20]), index = dates, columns = bonds_payments['Торговый код'].unique())\n",
    "maturity_matrix = pd.DataFrame(np.zeros([252, 20]), index = dates, columns = bonds_payments['Торговый код'].unique())"
   ]
  },
  {
   "cell_type": "code",
   "execution_count": 19,
   "metadata": {},
   "outputs": [
    {
     "name": "stdout",
     "output_type": "stream",
     "text": [
      "CPU times: user 17 s, sys: 48.5 ms, total: 17 s\n",
      "Wall time: 17 s\n"
     ]
    }
   ],
   "source": [
    "%%time\n",
    "\n",
    "for i in range(len(dates)):\n",
    "    maturity_matrix[dates[i]:dates[i]], irr_matrix[dates[i]:dates[i]] = maturities_irrs(i)    "
   ]
  },
  {
   "cell_type": "code",
   "execution_count": 12,
   "metadata": {},
   "outputs": [],
   "source": [
    "maturity_matrix.to_csv('/Users/andrey_lukyanov/Google_Drive/Studies/Year_4/Курсач/Coding/Comparing-numerical-methods-for-term-structure-fitting/Data/bonds_maturities.csv')\n",
    "irr_matrix.to_csv('/Users/andrey_lukyanov/Google_Drive/Studies/Year_4/Курсач/Coding/Comparing-numerical-methods-for-term-structure-fitting/Data/bonds_irrs.csv')"
   ]
  },
  {
   "cell_type": "code",
   "execution_count": 5,
   "metadata": {},
   "outputs": [],
   "source": [
    "maturity_matrix = pd.read_csv('/Users/andrey_lukyanov/Google_Drive/Studies/Year_4/Курсач/Coding/Comparing-numerical-methods-for-term-structure-fitting/Data/bonds_maturities.csv', index_col='TRADEDATE', parse_dates=True)\n",
    "irr_matrix = pd.read_csv('/Users/andrey_lukyanov/Google_Drive/Studies/Year_4/Курсач/Coding/Comparing-numerical-methods-for-term-structure-fitting/Data/bonds_irrs.csv', index_col='TRADEDATE', parse_dates=True)"
   ]
  },
  {
   "cell_type": "markdown",
   "metadata": {},
   "source": [
    "## BOOTSRAP"
   ]
  },
  {
   "cell_type": "markdown",
   "metadata": {},
   "source": [
    "1. Сортируем бонды по их длине\n",
    "2. Первую ставку взять из IRR наиболее короткого бонда\n",
    "3. Далее решать каждый бонд при условии более коротких ставок."
   ]
  },
  {
   "cell_type": "code",
   "execution_count": 6,
   "metadata": {},
   "outputs": [],
   "source": [
    "from scipy.optimize import fsolve"
   ]
  },
  {
   "cell_type": "code",
   "execution_count": 7,
   "metadata": {},
   "outputs": [],
   "source": [
    "def discount_by_rates(df, rates):\n",
    "    df['Discounted'] = (df['Сумма купона, RUB'] + df['Погашение номинала, RUB']) * np.exp(-rates * df['Дата фактической выплаты'])"
   ]
  },
  {
   "cell_type": "code",
   "execution_count": 8,
   "metadata": {},
   "outputs": [],
   "source": [
    "def generate_solve_for_rate(unknown, known, price):\n",
    "    def solve_for_rate(rate):\n",
    "        nonlocal unknown, known, price\n",
    "        unknown['rates'] = np.ones(unknown.shape[0]) * rate\n",
    "        discount_by_rates(unknown, unknown['rates'])\n",
    "        return known + unknown.Discounted.sum() - price    \n",
    "    \n",
    "    return solve_for_rate"
   ]
  },
  {
   "cell_type": "code",
   "execution_count": 9,
   "metadata": {},
   "outputs": [],
   "source": [
    "def bootsrap_rates_on_day(day_number):\n",
    "    \n",
    "    sorted_bonds = maturity_matrix.iloc[day_number].sort_values()\n",
    "    sorted_bonds.dropna(inplace=True)\n",
    "#    print(sorted_bonds)\n",
    "    \n",
    "    bootstraped_rates = {}\n",
    "    bootstraped_rates[sorted_bonds.iloc[0]] = irr_matrix.iloc[day_number][sorted_bonds.index[0]]\n",
    "\n",
    "    for i in range(1, sorted_bonds.shape[0]):\n",
    "        \n",
    "        payments_after_date = bonds_payments[(bonds_payments['Торговый код'] == sorted_bonds.index[i]) & \n",
    "                                         (bonds_payments['Дата фактической выплаты'] > \n",
    "                                          dates[day_number])][['Сумма купона, RUB', \n",
    "                                                               'Погашение номинала, RUB', \n",
    "                                                               'Дата фактической выплаты']]\n",
    "\n",
    "        calc_df = pd.concat([(payments_after_date['Дата фактической выплаты'] - dates[0]).apply(lambda x: x.days)/365, \n",
    "                         payments_after_date['Сумма купона, RUB'], payments_after_date['Погашение номинала, RUB']], \n",
    "                        axis = 1)\n",
    "        calc_df['rates'] = np.zeros(calc_df.shape[0])\n",
    "        \n",
    "#        print(sorted_bonds.index[i])\n",
    "        \n",
    "        known_rates_df = calc_df[calc_df['Дата фактической выплаты'] <= list(bootstraped_rates.keys())[i - 1]]\n",
    "        \n",
    "        for j in range(len(bootstraped_rates)):\n",
    "            \n",
    "            #нужно заполнить столбец известными ставками\n",
    "            mask = known_rates_df['Дата фактической выплаты'] < list(bootstraped_rates)[len(bootstraped_rates) - 1 - j]\n",
    "            known_rates_df['rates'][mask] = bootstraped_rates[list(bootstraped_rates)[len(bootstraped_rates) - 1 - j]]\n",
    "            #заполнили\n",
    "        \n",
    "        # дисконтируем известные платежи\n",
    "        discount_by_rates(known_rates_df, known_rates_df['rates'])\n",
    "        #считаем их сумму\n",
    "#        print(known_rates_df)\n",
    "        known = known_rates_df['Discounted'].sum()\n",
    "#        print('Known:', known)\n",
    "        \n",
    "        \n",
    "        #считываем цену\n",
    "        price = bonds_prices.iloc[day_number][sorted_bonds.index[i]]\n",
    "#        print('Price', price)\n",
    "            \n",
    "        unknown_rates_df = calc_df[calc_df['Дата фактической выплаты'] > list(bootstraped_rates.keys())[i - 1]]\n",
    "#        print(unknown_rates_df)\n",
    "        \n",
    "        #генеририуем функцию для поиска неизвестной ставки \n",
    "        solve_for_rate_function = generate_solve_for_rate(unknown_rates_df, known, price)\n",
    "        new_rate = fsolve(solve_for_rate_function, 0.1)[0]\n",
    "#        print(new_rate)\n",
    "        \n",
    "\n",
    "        \n",
    "        bootstraped_rates[sorted_bonds.iloc[i]] = new_rate\n",
    "#        print(bootstraped_rates)\n",
    "\n",
    "     \n",
    "    return bootstraped_rates"
   ]
  },
  {
   "cell_type": "code",
   "execution_count": 10,
   "metadata": {},
   "outputs": [
    {
     "name": "stderr",
     "output_type": "stream",
     "text": [
      "/Users/andrey_lukyanov/anaconda3/lib/python3.6/site-packages/pandas/core/generic.py:7626: SettingWithCopyWarning: \n",
      "A value is trying to be set on a copy of a slice from a DataFrame\n",
      "\n",
      "See the caveats in the documentation: http://pandas.pydata.org/pandas-docs/stable/indexing.html#indexing-view-versus-copy\n",
      "  self._update_inplace(new_data)\n",
      "/Users/andrey_lukyanov/anaconda3/lib/python3.6/site-packages/ipykernel_launcher.py:5: SettingWithCopyWarning: \n",
      "A value is trying to be set on a copy of a slice from a DataFrame\n",
      "\n",
      "See the caveats in the documentation: http://pandas.pydata.org/pandas-docs/stable/indexing.html#indexing-view-versus-copy\n",
      "  \"\"\"\n",
      "/Users/andrey_lukyanov/anaconda3/lib/python3.6/site-packages/ipykernel_launcher.py:2: SettingWithCopyWarning: \n",
      "A value is trying to be set on a copy of a slice from a DataFrame.\n",
      "Try using .loc[row_indexer,col_indexer] = value instead\n",
      "\n",
      "See the caveats in the documentation: http://pandas.pydata.org/pandas-docs/stable/indexing.html#indexing-view-versus-copy\n",
      "  \n",
      "/Users/andrey_lukyanov/anaconda3/lib/python3.6/site-packages/ipykernel_launcher.py:4: SettingWithCopyWarning: \n",
      "A value is trying to be set on a copy of a slice from a DataFrame.\n",
      "Try using .loc[row_indexer,col_indexer] = value instead\n",
      "\n",
      "See the caveats in the documentation: http://pandas.pydata.org/pandas-docs/stable/indexing.html#indexing-view-versus-copy\n",
      "  after removing the cwd from sys.path.\n"
     ]
    },
    {
     "name": "stdout",
     "output_type": "stream",
     "text": [
      "CPU times: user 59min, sys: 16.7 s, total: 59min 16s\n",
      "Wall time: 1h 9s\n"
     ]
    }
   ],
   "source": [
    "%%time\n",
    "\n",
    "all_bootstraped_rates = []\n",
    "\n",
    "for i in range(len(dates)):\n",
    "    all_bootstraped_rates.append(bootsrap_rates_on_day(i))"
   ]
  },
  {
   "cell_type": "code",
   "execution_count": 11,
   "metadata": {},
   "outputs": [],
   "source": [
    "%%bash\n",
    "say finished"
   ]
  },
  {
   "cell_type": "code",
   "execution_count": 12,
   "metadata": {},
   "outputs": [],
   "source": [
    "for i in range(len(dates)):\n",
    "    bt_rates_df = pd.DataFrame.from_dict(all_bootstraped_rates[i], orient='index', columns = ['rate'])\n",
    "    bt_rates_df.reset_index(level = 0, inplace = True)\n",
    "    bt_rates_df.columns = ['maturity', 'rates']\n",
    "    bt_rates_df.to_csv('/Users/andrey_lukyanov/Google_Drive/Studies/Year_4/Курсач/Coding/Comparing-numerical-methods-for-term-structure-fitting/Bootstraped_rates/bt_rates_' + str(dates[i].date()) + '.csv')"
   ]
  },
  {
   "cell_type": "code",
   "execution_count": 6,
   "metadata": {},
   "outputs": [],
   "source": [
    "bootstraped_rates_list = []\n",
    "\n",
    "for i in range(len(dates)):\n",
    "    bootstraped_rates_list.append(pd.read_csv('/Users/andrey_lukyanov/Google_Drive/Studies/Year_4/Курсач/Coding/Comparing-numerical-methods-for-term-structure-fitting/bootstraped_rates/bt_rates_' + str(dates[i].date()) + '.csv', index_col=0))"
   ]
  },
  {
   "cell_type": "code",
   "execution_count": 18,
   "metadata": {},
   "outputs": [
    {
     "data": {
      "image/png": "[encoded data removed]",
      "text/plain": [
       "<Figure size 432x288 with 1 Axes>"
      ]
     },
     "metadata": {
      "needs_background": "light"
     },
     "output_type": "display_data"
    }
   ],
   "source": [
    "j = 25\n",
    "\n",
    "plt.title(dates[j].date())\n",
    "plt.scatter(bootstraped_rates_list[j].maturity, bootstraped_rates_list[j].rates);"
   ]
  },
  {
   "cell_type": "code",
   "execution_count": null,
   "metadata": {},
   "outputs": [],
   "source": []
  }
 ],
 "metadata": {
  "kernelspec": {
   "display_name": "Python 3",
   "language": "python",
   "name": "python3"
  },
  "language_info": {
   "codemirror_mode": {
    "name": "ipython",
    "version": 3
   },
   "file_extension": ".py",
   "mimetype": "text/x-python",
   "name": "python",
   "nbconvert_exporter": "python",
   "pygments_lexer": "ipython3",
   "version": "3.6.7"
  }
 },
 "nbformat": 4,
 "nbformat_minor": 2
}
