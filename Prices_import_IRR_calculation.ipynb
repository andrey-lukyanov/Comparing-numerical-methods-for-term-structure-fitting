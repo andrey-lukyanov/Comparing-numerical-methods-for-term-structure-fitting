{
 "cells": [
  {
   "cell_type": "markdown",
   "metadata": {},
   "source": [
    "# Bonds prices import"
   ]
  },
  {
   "cell_type": "code",
   "execution_count": 1,
   "metadata": {},
   "outputs": [],
   "source": [
    "import pandas as pd\n",
    "pd.core.common.is_list_like = pd.api.types.is_list_like\n",
    "import pandas_datareader as web\n",
    "from pandas_datareader.moex import MoexReader\n",
    "import numpy as np"
   ]
  },
  {
   "cell_type": "code",
   "execution_count": 2,
   "metadata": {},
   "outputs": [],
   "source": [
    "bonds_payments = pd.read_csv('/Users/andrey_lukyanov/Google_Drive/Studies/Year_4/Курсач/Coding/Comparing-numerical-methods-for-term-structure-fitting/Data/bonds_payments.csv', index_col=0)\n",
    "bonds_payments['Дата фактической выплаты'] = pd.to_datetime(bonds_payments['Дата фактической выплаты'])"
   ]
  },
  {
   "cell_type": "code",
   "execution_count": 3,
   "metadata": {},
   "outputs": [],
   "source": [
    "bond_trade_codes = bonds_payments['Торговый код'].unique()"
   ]
  },
  {
   "cell_type": "code",
   "execution_count": 4,
   "metadata": {},
   "outputs": [
    {
     "data": {
      "text/html": [
       "<div>\n",
       "<style scoped>\n",
       "    .dataframe tbody tr th:only-of-type {\n",
       "        vertical-align: middle;\n",
       "    }\n",
       "\n",
       "    .dataframe tbody tr th {\n",
       "        vertical-align: top;\n",
       "    }\n",
       "\n",
       "    .dataframe thead th {\n",
       "        text-align: right;\n",
       "    }\n",
       "</style>\n",
       "<table border=\"1\" class=\"dataframe\">\n",
       "  <thead>\n",
       "    <tr style=\"text-align: right;\">\n",
       "      <th></th>\n",
       "      <th>SU26205RMFS3</th>\n",
       "      <th>SU26207RMFS9</th>\n",
       "      <th>SU26208RMFS7</th>\n",
       "      <th>SU26209RMFS5</th>\n",
       "      <th>SU26210RMFS3</th>\n",
       "      <th>SU26211RMFS1</th>\n",
       "      <th>SU26212RMFS9</th>\n",
       "      <th>SU26214RMFS5</th>\n",
       "      <th>SU26215RMFS2</th>\n",
       "      <th>SU26216RMFS0</th>\n",
       "      <th>SU26217RMFS8</th>\n",
       "      <th>SU26218RMFS6</th>\n",
       "      <th>SU26219RMFS4</th>\n",
       "      <th>SU46011RMFS1</th>\n",
       "      <th>SU46012RMFS9</th>\n",
       "      <th>SU46018RMFS6</th>\n",
       "      <th>SU46019RMFS4</th>\n",
       "      <th>SU46020RMFS2</th>\n",
       "      <th>SU46022RMFS8</th>\n",
       "      <th>SU46023RMFS6</th>\n",
       "    </tr>\n",
       "    <tr>\n",
       "      <th>TRADEDATE</th>\n",
       "      <th></th>\n",
       "      <th></th>\n",
       "      <th></th>\n",
       "      <th></th>\n",
       "      <th></th>\n",
       "      <th></th>\n",
       "      <th></th>\n",
       "      <th></th>\n",
       "      <th></th>\n",
       "      <th></th>\n",
       "      <th></th>\n",
       "      <th></th>\n",
       "      <th></th>\n",
       "      <th></th>\n",
       "      <th></th>\n",
       "      <th></th>\n",
       "      <th></th>\n",
       "      <th></th>\n",
       "      <th></th>\n",
       "      <th></th>\n",
       "    </tr>\n",
       "  </thead>\n",
       "  <tbody>\n",
       "    <tr>\n",
       "      <th>2016-01-04</th>\n",
       "      <td>92.3500</td>\n",
       "      <td>91.8999</td>\n",
       "      <td>94.6000</td>\n",
       "      <td>NaN</td>\n",
       "      <td>NaN</td>\n",
       "      <td>NaN</td>\n",
       "      <td>83.9998</td>\n",
       "      <td>NaN</td>\n",
       "      <td>86.7400</td>\n",
       "      <td>NaN</td>\n",
       "      <td>NaN</td>\n",
       "      <td>NaN</td>\n",
       "      <td>NaN</td>\n",
       "      <td>NaN</td>\n",
       "      <td>NaN</td>\n",
       "      <td>NaN</td>\n",
       "      <td>NaN</td>\n",
       "      <td>NaN</td>\n",
       "      <td>NaN</td>\n",
       "      <td>NaN</td>\n",
       "    </tr>\n",
       "    <tr>\n",
       "      <th>2016-01-05</th>\n",
       "      <td>92.3500</td>\n",
       "      <td>91.9995</td>\n",
       "      <td>94.3999</td>\n",
       "      <td>91.3000</td>\n",
       "      <td>91.3004</td>\n",
       "      <td>87.6996</td>\n",
       "      <td>84.1000</td>\n",
       "      <td>88.7500</td>\n",
       "      <td>87.1764</td>\n",
       "      <td>92.0500</td>\n",
       "      <td>NaN</td>\n",
       "      <td>NaN</td>\n",
       "      <td>NaN</td>\n",
       "      <td>NaN</td>\n",
       "      <td>NaN</td>\n",
       "      <td>NaN</td>\n",
       "      <td>NaN</td>\n",
       "      <td>77.448</td>\n",
       "      <td>NaN</td>\n",
       "      <td>NaN</td>\n",
       "    </tr>\n",
       "    <tr>\n",
       "      <th>2016-01-06</th>\n",
       "      <td>92.0999</td>\n",
       "      <td>91.5999</td>\n",
       "      <td>94.4000</td>\n",
       "      <td>91.2000</td>\n",
       "      <td>90.8900</td>\n",
       "      <td>87.6999</td>\n",
       "      <td>83.7494</td>\n",
       "      <td>88.6500</td>\n",
       "      <td>86.6000</td>\n",
       "      <td>91.7200</td>\n",
       "      <td>NaN</td>\n",
       "      <td>NaN</td>\n",
       "      <td>NaN</td>\n",
       "      <td>NaN</td>\n",
       "      <td>88.0</td>\n",
       "      <td>91.97</td>\n",
       "      <td>NaN</td>\n",
       "      <td>77.991</td>\n",
       "      <td>83.31</td>\n",
       "      <td>NaN</td>\n",
       "    </tr>\n",
       "    <tr>\n",
       "      <th>2016-01-11</th>\n",
       "      <td>90.4499</td>\n",
       "      <td>89.2999</td>\n",
       "      <td>93.2899</td>\n",
       "      <td>88.7000</td>\n",
       "      <td>89.5000</td>\n",
       "      <td>85.5007</td>\n",
       "      <td>80.8000</td>\n",
       "      <td>87.4000</td>\n",
       "      <td>84.2500</td>\n",
       "      <td>90.7900</td>\n",
       "      <td>NaN</td>\n",
       "      <td>NaN</td>\n",
       "      <td>NaN</td>\n",
       "      <td>NaN</td>\n",
       "      <td>NaN</td>\n",
       "      <td>NaN</td>\n",
       "      <td>NaN</td>\n",
       "      <td>76.990</td>\n",
       "      <td>NaN</td>\n",
       "      <td>109.2</td>\n",
       "    </tr>\n",
       "    <tr>\n",
       "      <th>2016-01-12</th>\n",
       "      <td>89.2510</td>\n",
       "      <td>87.8001</td>\n",
       "      <td>92.9899</td>\n",
       "      <td>87.5011</td>\n",
       "      <td>88.9649</td>\n",
       "      <td>84.1501</td>\n",
       "      <td>79.6579</td>\n",
       "      <td>86.3007</td>\n",
       "      <td>83.5001</td>\n",
       "      <td>89.8102</td>\n",
       "      <td>NaN</td>\n",
       "      <td>NaN</td>\n",
       "      <td>NaN</td>\n",
       "      <td>NaN</td>\n",
       "      <td>NaN</td>\n",
       "      <td>86.00</td>\n",
       "      <td>NaN</td>\n",
       "      <td>76.000</td>\n",
       "      <td>NaN</td>\n",
       "      <td>NaN</td>\n",
       "    </tr>\n",
       "  </tbody>\n",
       "</table>\n",
       "</div>"
      ],
      "text/plain": [
       "            SU26205RMFS3  SU26207RMFS9  SU26208RMFS7  SU26209RMFS5  \\\n",
       "TRADEDATE                                                            \n",
       "2016-01-04       92.3500       91.8999       94.6000           NaN   \n",
       "2016-01-05       92.3500       91.9995       94.3999       91.3000   \n",
       "2016-01-06       92.0999       91.5999       94.4000       91.2000   \n",
       "2016-01-11       90.4499       89.2999       93.2899       88.7000   \n",
       "2016-01-12       89.2510       87.8001       92.9899       87.5011   \n",
       "\n",
       "            SU26210RMFS3  SU26211RMFS1  SU26212RMFS9  SU26214RMFS5  \\\n",
       "TRADEDATE                                                            \n",
       "2016-01-04           NaN           NaN       83.9998           NaN   \n",
       "2016-01-05       91.3004       87.6996       84.1000       88.7500   \n",
       "2016-01-06       90.8900       87.6999       83.7494       88.6500   \n",
       "2016-01-11       89.5000       85.5007       80.8000       87.4000   \n",
       "2016-01-12       88.9649       84.1501       79.6579       86.3007   \n",
       "\n",
       "            SU26215RMFS2  SU26216RMFS0  SU26217RMFS8  SU26218RMFS6  \\\n",
       "TRADEDATE                                                            \n",
       "2016-01-04       86.7400           NaN           NaN           NaN   \n",
       "2016-01-05       87.1764       92.0500           NaN           NaN   \n",
       "2016-01-06       86.6000       91.7200           NaN           NaN   \n",
       "2016-01-11       84.2500       90.7900           NaN           NaN   \n",
       "2016-01-12       83.5001       89.8102           NaN           NaN   \n",
       "\n",
       "            SU26219RMFS4  SU46011RMFS1  SU46012RMFS9  SU46018RMFS6  \\\n",
       "TRADEDATE                                                            \n",
       "2016-01-04           NaN           NaN           NaN           NaN   \n",
       "2016-01-05           NaN           NaN           NaN           NaN   \n",
       "2016-01-06           NaN           NaN          88.0         91.97   \n",
       "2016-01-11           NaN           NaN           NaN           NaN   \n",
       "2016-01-12           NaN           NaN           NaN         86.00   \n",
       "\n",
       "            SU46019RMFS4  SU46020RMFS2  SU46022RMFS8  SU46023RMFS6  \n",
       "TRADEDATE                                                           \n",
       "2016-01-04           NaN           NaN           NaN           NaN  \n",
       "2016-01-05           NaN        77.448           NaN           NaN  \n",
       "2016-01-06           NaN        77.991         83.31           NaN  \n",
       "2016-01-11           NaN        76.990           NaN         109.2  \n",
       "2016-01-12           NaN        76.000           NaN           NaN  "
      ]
     },
     "execution_count": 4,
     "metadata": {},
     "output_type": "execute_result"
    }
   ],
   "source": [
    "bonds_list = [MoexReader(code, start = '01.01.2016', end = '31.12.2016').read() for code in bond_trade_codes]\n",
    "bonds_list = [bonds_list[i][bonds_list[i].BOARDID == 'TQOB'].drop_duplicates()['CLOSE'] for i in range(len(bonds_list))]\n",
    "\n",
    "for i in range(len(bond_trade_codes)):\n",
    "    bonds_list[i].name = bond_trade_codes[i]\n",
    "    \n",
    "bonds_prices = pd.concat(bonds_list, axis = 1)\n",
    "bonds_prices.head()"
   ]
  },
  {
   "cell_type": "code",
   "execution_count": 9,
   "metadata": {},
   "outputs": [],
   "source": [
    "bonds_prices.to_csv('/Users/andrey_lukyanov/Google_Drive/Studies/Year_4/Курсач/Coding/Comparing-numerical-methods-for-term-structure-fitting/Data/bonds_prices.csv')"
   ]
  },
  {
   "cell_type": "markdown",
   "metadata": {},
   "source": [
    "## Loading existing data"
   ]
  },
  {
   "cell_type": "code",
   "execution_count": 2,
   "metadata": {},
   "outputs": [],
   "source": [
    "bonds_payments = pd.read_csv('/Users/andrey_lukyanov/Google_Drive/Studies/Year_4/Курсач/Coding/Comparing-numerical-methods-for-term-structure-fitting/Data/bonds_payments.csv', index_col=0)\n",
    "bonds_payments['Дата фактической выплаты'] = pd.to_datetime(bonds_payments['Дата фактической выплаты'])"
   ]
  },
  {
   "cell_type": "code",
   "execution_count": 3,
   "metadata": {},
   "outputs": [],
   "source": [
    "bonds_prices = pd.read_csv('/Users/andrey_lukyanov/Google_Drive/Studies/Year_4/Курсач/Coding/Comparing-numerical-methods-for-term-structure-fitting/Data/bonds_prices.csv', index_col='TRADEDATE', parse_dates=True)"
   ]
  },
  {
   "cell_type": "code",
   "execution_count": 7,
   "metadata": {},
   "outputs": [],
   "source": [
    "irr_matrix = pd.read_csv('/Users/andrey_lukyanov/Google_Drive/Studies/Year_4/Курсач/Coding/Comparing-numerical-methods-for-term-structure-fitting/Data/bonds_irrs.csv', index_col=0)"
   ]
  },
  {
   "cell_type": "markdown",
   "metadata": {},
   "source": [
    "# IRR calcultation"
   ]
  },
  {
   "cell_type": "code",
   "execution_count": 4,
   "metadata": {},
   "outputs": [],
   "source": [
    "dates = bonds_prices.index"
   ]
  },
  {
   "cell_type": "code",
   "execution_count": 5,
   "metadata": {},
   "outputs": [],
   "source": [
    "def npv(irr, cfs, yrs):  \n",
    "    return np.sum(cfs / (1. + irr) ** yrs)"
   ]
  },
  {
   "cell_type": "code",
   "execution_count": 6,
   "metadata": {},
   "outputs": [],
   "source": [
    "from scipy.optimize import fsolve\n",
    "\n",
    "def irr(cfs, yrs, x0):\n",
    "    return np.asscalar(fsolve(npv, x0=x0, args=(cfs, yrs)))"
   ]
  },
  {
   "cell_type": "code",
   "execution_count": 7,
   "metadata": {},
   "outputs": [],
   "source": [
    "def maturities_irrs(date_number):\n",
    "    irrs = []\n",
    "    maturities = []\n",
    "    payments_on_date = bonds_payments[bonds_payments['Дата фактической выплаты'] >= dates[date_number]]\n",
    "    \n",
    "    for ticker in bonds_payments['Торговый код'].unique():\n",
    "    \n",
    "        payments = payments_on_date[payments_on_date['Торговый код'] == ticker]['Сумма купона, RUB'] + payments_on_date[payments_on_date['Торговый код'] == ticker]['Погашение номинала, RUB'].values\n",
    "        principal = payments_on_date[payments_on_date['Торговый код'] == ticker]['Погашение номинала, RUB'].values.sum()\n",
    "        payments_dates = (payments_on_date[payments_on_date['Торговый код'] == ticker]['Дата фактической выплаты'] - dates[date_number]).apply(lambda x: x.days)/365\n",
    "    \n",
    "        investment = bonds_prices.iloc[date_number][ticker] / 100 * principal\n",
    "        payments = np.insert(np.array(payments), 0, -investment)\n",
    "        payments_dates = np.insert(np.array(payments_dates), 0, 0)\n",
    "        \n",
    "        if np.isnan(payments[0]) == True:\n",
    "            irrs.append(np.nan)\n",
    "            maturities.append(np.nan)\n",
    "        else:\n",
    "            bond_irr = irr(cfs=payments, yrs=payments_dates, x0=0.10)\n",
    "            irrs.append(bond_irr)\n",
    "            maturities.append(payments_dates[-1])\n",
    "        \n",
    "    return (np.array([maturities]), np.array([irrs]))   "
   ]
  },
  {
   "cell_type": "code",
   "execution_count": 8,
   "metadata": {},
   "outputs": [],
   "source": [
    "irr_matrix = pd.DataFrame(np.zeros([252, 20]), index = dates, columns = bonds_payments['Торговый код'].unique())\n",
    "maturity_matrix = pd.DataFrame(np.zeros([252, 20]), index = dates, columns = bonds_payments['Торговый код'].unique())"
   ]
  },
  {
   "cell_type": "code",
   "execution_count": 9,
   "metadata": {},
   "outputs": [],
   "source": [
    "for i in range(len(dates)):\n",
    "    maturity_matrix[dates[i]:dates[i]], irr_matrix[dates[i]:dates[i]] = maturities_irrs(i)    "
   ]
  },
  {
   "cell_type": "code",
   "execution_count": 16,
   "metadata": {},
   "outputs": [],
   "source": [
    "maturity_matrix.to_csv('/Users/andrey_lukyanov/Google_Drive/Studies/Year_4/Курсач/Coding/Comparing-numerical-methods-for-term-structure-fitting/Data/bonds_maturities.csv')\n",
    "irr_matrix.to_csv('/Users/andrey_lukyanov/Google_Drive/Studies/Year_4/Курсач/Coding/Comparing-numerical-methods-for-term-structure-fitting/Data/bonds_irrs.csv')"
   ]
  },
  {
   "cell_type": "code",
   "execution_count": 10,
   "metadata": {},
   "outputs": [],
   "source": [
    "%%bash\n",
    "say finished"
   ]
  }
 ],
 "metadata": {
  "kernelspec": {
   "display_name": "Python 3",
   "language": "python",
   "name": "python3"
  },
  "language_info": {
   "codemirror_mode": {
    "name": "ipython",
    "version": 3
   },
   "file_extension": ".py",
   "mimetype": "text/x-python",
   "name": "python",
   "nbconvert_exporter": "python",
   "pygments_lexer": "ipython3",
   "version": "3.6.7"
  }
 },
 "nbformat": 4,
 "nbformat_minor": 2
}
