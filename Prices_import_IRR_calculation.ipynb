{
 "cells": [
  {
   "cell_type": "markdown",
   "metadata": {},
   "source": [
    "# Bonds prices calculation"
   ]
  },
  {
   "cell_type": "code",
   "execution_count": 1,
   "metadata": {},
   "outputs": [],
   "source": [
    "import pandas as pd\n",
    "pd.core.common.is_list_like = pd.api.types.is_list_like\n",
    "import pandas_datareader as web\n",
    "from pandas_datareader.moex import MoexReader\n",
    "import numpy as np\n",
    "%matplotlib inline\n",
    "import matplotlib.pyplot as plt"
   ]
  },
  {
   "cell_type": "code",
   "execution_count": 2,
   "metadata": {},
   "outputs": [],
   "source": [
    "bonds_payments = pd.read_csv('/Users/andrey_lukyanov/Google_Drive/Studies/Year_4/Курсач/Coding/Comparing-numerical-methods-for-term-structure-fitting/Data/bonds_payments.csv', index_col=0)\n",
    "bonds_payments['Дата фактической выплаты'] = pd.to_datetime(bonds_payments['Дата фактической выплаты'])\n",
    "\n",
    "bond_trade_codes = bonds_payments['Торговый код'].unique()"
   ]
  },
  {
   "cell_type": "markdown",
   "metadata": {},
   "source": [
    "### Close prices and accrued interest import"
   ]
  },
  {
   "cell_type": "code",
   "execution_count": 3,
   "metadata": {},
   "outputs": [],
   "source": [
    "moex_data = [MoexReader(code, start = '01.01.2016', end = '31.12.2016').read() for code in bond_trade_codes]\n",
    "bonds_list_close = [moex_data[i][moex_data[i].BOARDID == 'TQOB'].drop_duplicates()['CLOSE'] for i in range(len(moex_data))]\n",
    "bonds_list_accint = [moex_data[i][moex_data[i].BOARDID == 'TQOB'].drop_duplicates()['ACCINT'] for i in range(len(moex_data))]\n",
    "\n",
    "bonds_list_close = pd.concat(bonds_list_close, axis = 1)\n",
    "bonds_list_accint = pd.concat(bonds_list_accint, axis = 1)\n",
    "\n",
    "bonds_list_close.columns = bond_trade_codes\n",
    "bonds_list_accint.columns = bond_trade_codes"
   ]
  },
  {
   "cell_type": "code",
   "execution_count": 33,
   "metadata": {},
   "outputs": [],
   "source": [
    "bonds_list_close.to_csv('/Users/andrey_lukyanov/Google_Drive/Studies/Year_4/Курсач/Coding/Comparing-numerical-methods-for-term-structure-fitting/Data/bonds_close_prices.csv')\n",
    "bonds_list_accint.to_csv('/Users/andrey_lukyanov/Google_Drive/Studies/Year_4/Курсач/Coding/Comparing-numerical-methods-for-term-structure-fitting/Data/bonds_accint.csv')"
   ]
  },
  {
   "cell_type": "markdown",
   "metadata": {},
   "source": [
    "### Principal calculation"
   ]
  },
  {
   "cell_type": "code",
   "execution_count": 7,
   "metadata": {},
   "outputs": [
    {
     "name": "stderr",
     "output_type": "stream",
     "text": [
      "/Users/andrey_lukyanov/anaconda3/lib/python3.6/site-packages/ipykernel_launcher.py:11: SettingWithCopyWarning: \n",
      "A value is trying to be set on a copy of a slice from a DataFrame.\n",
      "Try using .loc[row_indexer,col_indexer] = value instead\n",
      "\n",
      "See the caveats in the documentation: http://pandas.pydata.org/pandas-docs/stable/indexing.html#indexing-view-versus-copy\n",
      "  # This is added back by InteractiveShellApp.init_path()\n"
     ]
    }
   ],
   "source": [
    "dates = bonds_list_close.index\n",
    "\n",
    "principal = pd.DataFrame(np.zeros([252, 20]), index = dates, columns = bonds_payments['Торговый код'].unique())\n",
    "\n",
    "for i in range(len(dates)):\n",
    "    payments_on_date = bonds_payments[bonds_payments['Дата фактической выплаты'] >= dates[i]]\n",
    "    \n",
    "    for ticker in bond_trade_codes:\n",
    "        bond_principal = payments_on_date[payments_on_date['Торговый код'] == ticker]['Погашение номинала, RUB'].values.sum()\n",
    "        \n",
    "        principal[i:i+1][ticker] = bond_principal"
   ]
  },
  {
   "cell_type": "code",
   "execution_count": 8,
   "metadata": {},
   "outputs": [],
   "source": [
    "principal.to_csv('/Users/andrey_lukyanov/Google_Drive/Studies/Year_4/Курсач/Coding/Comparing-numerical-methods-for-term-structure-fitting/Data/principal.csv')"
   ]
  },
  {
   "cell_type": "markdown",
   "metadata": {},
   "source": [
    "## Prices calculation"
   ]
  },
  {
   "cell_type": "code",
   "execution_count": 23,
   "metadata": {},
   "outputs": [],
   "source": [
    "bonds_prices = np.zeros([252, 20])\n",
    "\n",
    "for i in range(len(dates)):    \n",
    "    for j in range(bonds_list_close.shape[1]):        \n",
    "        bonds_prices[i, j] = bonds_list_close.iloc[i, j] * principal.iloc[i, j] / 100 + bonds_list_accint.iloc[i, j]\n",
    "        \n",
    "bonds_prices = pd.DataFrame(bonds_prices, index = dates, columns = bond_trade_codes)"
   ]
  },
  {
   "cell_type": "code",
   "execution_count": 32,
   "metadata": {},
   "outputs": [],
   "source": [
    "bonds_prices.to_csv('/Users/andrey_lukyanov/Google_Drive/Studies/Year_4/Курсач/Coding/Comparing-numerical-methods-for-term-structure-fitting/Data/bonds_prices.csv')"
   ]
  },
  {
   "cell_type": "markdown",
   "metadata": {},
   "source": [
    "## Loading existing data"
   ]
  },
  {
   "cell_type": "code",
   "execution_count": 6,
   "metadata": {},
   "outputs": [],
   "source": [
    "bonds_prices = pd.read_csv('/Users/andrey_lukyanov/Google_Drive/Studies/Year_4/Курсач/Coding/Comparing-numerical-methods-for-term-structure-fitting/Data/bonds_prices.csv', index_col='TRADEDATE', parse_dates=True)"
   ]
  },
  {
   "cell_type": "code",
   "execution_count": 4,
   "metadata": {},
   "outputs": [],
   "source": [
    "irr_matrix = pd.read_csv('/Users/andrey_lukyanov/Google_Drive/Studies/Year_4/Курсач/Coding/Comparing-numerical-methods-for-term-structure-fitting/Data/bonds_irrs.csv', index_col=0)"
   ]
  },
  {
   "cell_type": "markdown",
   "metadata": {},
   "source": [
    "# IRR calcultation"
   ]
  },
  {
   "cell_type": "code",
   "execution_count": 34,
   "metadata": {},
   "outputs": [],
   "source": [
    "def npv(irr, cfs, yrs):  \n",
    "    return np.sum(cfs / (1. + irr) ** yrs)"
   ]
  },
  {
   "cell_type": "code",
   "execution_count": 35,
   "metadata": {},
   "outputs": [],
   "source": [
    "from scipy.optimize import fsolve\n",
    "\n",
    "def irr(cfs, yrs, x0):\n",
    "    return np.asscalar(fsolve(npv, x0=x0, args=(cfs, yrs)))"
   ]
  },
  {
   "cell_type": "code",
   "execution_count": 36,
   "metadata": {},
   "outputs": [],
   "source": [
    "def maturities_irrs(date_number):\n",
    "    irrs = []\n",
    "    maturities = []\n",
    "    payments_on_date = bonds_payments[bonds_payments['Дата фактической выплаты'] >= dates[date_number]]\n",
    "    \n",
    "    for ticker in bonds_payments['Торговый код'].unique():\n",
    "    \n",
    "        payments = payments_on_date[payments_on_date['Торговый код'] == ticker]['Сумма купона, RUB'] + payments_on_date[payments_on_date['Торговый код'] == ticker]['Погашение номинала, RUB'].values\n",
    "        principal = payments_on_date[payments_on_date['Торговый код'] == ticker]['Погашение номинала, RUB'].values.sum()\n",
    "        payments_dates = (payments_on_date[payments_on_date['Торговый код'] == ticker]['Дата фактической выплаты'] - dates[date_number]).apply(lambda x: x.days)/365\n",
    "    \n",
    "        investment = bonds_prices.iloc[date_number][ticker]\n",
    "        payments = np.insert(np.array(payments), 0, -investment)\n",
    "        payments_dates = np.insert(np.array(payments_dates), 0, 0)\n",
    "        \n",
    "        if np.isnan(payments[0]) == True:\n",
    "            irrs.append(np.nan)\n",
    "            maturities.append(np.nan)\n",
    "        else:\n",
    "            bond_irr = irr(cfs=payments, yrs=payments_dates, x0=0.10)\n",
    "            irrs.append(bond_irr)\n",
    "            maturities.append(payments_dates[-1])\n",
    "        \n",
    "    return (np.array([maturities]), np.array([irrs]))   "
   ]
  },
  {
   "cell_type": "code",
   "execution_count": 37,
   "metadata": {},
   "outputs": [],
   "source": [
    "irr_matrix = pd.DataFrame(np.zeros([252, 20]), index = dates, columns = bonds_payments['Торговый код'].unique())\n",
    "maturity_matrix = pd.DataFrame(np.zeros([252, 20]), index = dates, columns = bonds_payments['Торговый код'].unique())"
   ]
  },
  {
   "cell_type": "code",
   "execution_count": 38,
   "metadata": {},
   "outputs": [
    {
     "name": "stderr",
     "output_type": "stream",
     "text": [
      "/Users/andrey_lukyanov/anaconda3/lib/python3.6/site-packages/scipy/optimize/minpack.py:163: RuntimeWarning: The iteration is not making good progress, as measured by the \n",
      "  improvement from the last ten iterations.\n",
      "  warnings.warn(msg, RuntimeWarning)\n"
     ]
    }
   ],
   "source": [
    "for i in range(len(dates)):\n",
    "    maturity_matrix[dates[i]:dates[i]], irr_matrix[dates[i]:dates[i]] = maturities_irrs(i)    "
   ]
  },
  {
   "cell_type": "code",
   "execution_count": 39,
   "metadata": {},
   "outputs": [],
   "source": [
    "maturity_matrix.to_csv('/Users/andrey_lukyanov/Google_Drive/Studies/Year_4/Курсач/Coding/Comparing-numerical-methods-for-term-structure-fitting/Data/bonds_maturities.csv')\n",
    "irr_matrix.to_csv('/Users/andrey_lukyanov/Google_Drive/Studies/Year_4/Курсач/Coding/Comparing-numerical-methods-for-term-structure-fitting/Data/bonds_irrs.csv')"
   ]
  },
  {
   "cell_type": "markdown",
   "metadata": {},
   "source": [
    "## BOOTSRAP"
   ]
  },
  {
   "cell_type": "markdown",
   "metadata": {},
   "source": [
    "1. Сортируем бонды по их длине\n",
    "2. Первую ставку взять из IRR наиболее короткого бонда\n",
    "3. Далее решать каждый бонд при условии более коротких ставок."
   ]
  },
  {
   "cell_type": "code",
   "execution_count": null,
   "metadata": {},
   "outputs": [],
   "source": []
  }
 ],
 "metadata": {
  "kernelspec": {
   "display_name": "Python 3",
   "language": "python",
   "name": "python3"
  },
  "language_info": {
   "codemirror_mode": {
    "name": "ipython",
    "version": 3
   },
   "file_extension": ".py",
   "mimetype": "text/x-python",
   "name": "python",
   "nbconvert_exporter": "python",
   "pygments_lexer": "ipython3",
   "version": "3.6.7"
  }
 },
 "nbformat": 4,
 "nbformat_minor": 2
}
