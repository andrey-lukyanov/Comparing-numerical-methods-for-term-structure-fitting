{
 "cells": [
  {
   "cell_type": "code",
   "execution_count": 1,
   "metadata": {},
   "outputs": [],
   "source": [
    "from new_thesis_library import *\n",
    "import matplotlib.pyplot as plt"
   ]
  },
  {
   "cell_type": "markdown",
   "metadata": {},
   "source": [
    "# BFGS"
   ]
  },
  {
   "cell_type": "code",
   "execution_count": 2,
   "metadata": {},
   "outputs": [],
   "source": [
    "bfgs_thetas = []\n",
    "bfgs_times = []\n",
    "\n",
    "for i in range(1, 17):\n",
    "    bfgs_thetas.append(pd.read_csv(path + 'Thetas/l_bfgs_b_rand_' + str(i) + '.csv', index_col='TRADEDATE', parse_dates = True))\n",
    "    bfgs_times.append(pd.read_csv(path + 'Time/l_bfgs_b_rand_' + str(i) + '.csv', index_col='TRADEDATE', parse_dates = True))"
   ]
  },
  {
   "cell_type": "code",
   "execution_count": 3,
   "metadata": {},
   "outputs": [],
   "source": [
    "rmse_functions = []\n",
    "for i in range(len(dates)):\n",
    "    rmse_functions.append(build_rmse_function(dates[i]))"
   ]
  },
  {
   "cell_type": "code",
   "execution_count": 24,
   "metadata": {},
   "outputs": [
    {
     "name": "stdout",
     "output_type": "stream",
     "text": [
      "CPU times: user 4min 3s, sys: 826 ms, total: 4min 4s\n",
      "Wall time: 4min 6s\n"
     ]
    }
   ],
   "source": [
    "%%time\n",
    "\n",
    "rmse_bfgs = pd.DataFrame(data = np.zeros([len(dates), 16]), columns = list(range(1, 17)), index = dates)\n",
    "\n",
    "for i in range(len(dates)):\n",
    "    for j in range(16):\n",
    "        rmse_bfgs.iloc[i, j] = rmse_functions[i](bfgs_thetas[j].values[i])"
   ]
  },
  {
   "cell_type": "code",
   "execution_count": 29,
   "metadata": {},
   "outputs": [
    {
     "data": {
      "text/plain": [
       "TRADEDATE\n",
       "2014-01-09    13\n",
       "2014-01-10    10\n",
       "2014-01-13     7\n",
       "2014-01-14     7\n",
       "2014-01-15    11\n",
       "              ..\n",
       "2020-07-07    11\n",
       "2020-07-08    11\n",
       "2020-07-09     6\n",
       "2020-07-10     2\n",
       "2020-07-13    10\n",
       "Length: 1635, dtype: int64"
      ]
     },
     "execution_count": 29,
     "metadata": {},
     "output_type": "execute_result"
    }
   ],
   "source": [
    "where_min = rmse_bfgs.T.idxmin()\n",
    "where_min"
   ]
  },
  {
   "cell_type": "code",
   "execution_count": 52,
   "metadata": {},
   "outputs": [],
   "source": [
    "best_of_rand_bfgs_thetas = pd.DataFrame(np.zeros([len(dates), 4]), index = dates, columns = ['tau', 'beta0', 'beta1', 'beta2'])\n",
    "best_of_rand_bfgs_time = pd.DataFrame(np.zeros(len(dates)), index = dates, columns = ['Seconds'])\n",
    "\n",
    "for i in range(len(dates)):\n",
    "    best_of_rand_bfgs_thetas.iloc[i] = bfgs_thetas[where_min.iloc[i] - 1].iloc[i]\n",
    "    best_of_rand_bfgs_time.iloc[i] = bfgs_times[where_min.iloc[i] - 1].iloc[i]\n",
    "       \n",
    "best_of_rand_bfgs.to_csv(path + '/Thetas/l_bfgs_b_best_of_rand.csv')\n",
    "best_of_rand_bfgs_time.to_csv(path + 'Time/l_bfgs_b_best_of_rand.csv')"
   ]
  },
  {
   "cell_type": "code",
   "execution_count": 3,
   "metadata": {},
   "outputs": [],
   "source": [
    "pd.concat(bfgs_times, axis = 1).mean(axis = 1).to_csv(path + 'Time/l_bfgs_b_best_of_rand_avg.csv')"
   ]
  },
  {
   "cell_type": "markdown",
   "metadata": {},
   "source": [
    "# Powell"
   ]
  },
  {
   "cell_type": "code",
   "execution_count": 4,
   "metadata": {},
   "outputs": [],
   "source": [
    "powell_thetas = []\n",
    "powell_times = []\n",
    "\n",
    "for i in range(1, 17):\n",
    "    powell_thetas.append(pd.read_csv(path + 'Thetas/powell_rand_' + str(i) + '.csv', index_col='TRADEDATE', parse_dates = True))\n",
    "    powell_times.append(pd.read_csv(path + 'Time/powell_rand_' + str(i) + '.csv', index_col='TRADEDATE', parse_dates = True))"
   ]
  },
  {
   "cell_type": "code",
   "execution_count": 43,
   "metadata": {},
   "outputs": [],
   "source": [
    "rmse_functions = []\n",
    "for i in range(len(dates)):\n",
    "    rmse_functions.append(build_rmse_function(dates[i]))"
   ]
  },
  {
   "cell_type": "code",
   "execution_count": 44,
   "metadata": {},
   "outputs": [
    {
     "name": "stdout",
     "output_type": "stream",
     "text": [
      "CPU times: user 4min 33s, sys: 2.74 s, total: 4min 35s\n",
      "Wall time: 5min 57s\n"
     ]
    }
   ],
   "source": [
    "%%time\n",
    "\n",
    "rmse_powell = pd.DataFrame(data = np.zeros([len(dates), 16]), columns = list(range(1, 17)), index = dates)\n",
    "\n",
    "for i in range(len(dates)):\n",
    "    for j in range(16):\n",
    "        rmse_powell.iloc[i, j] = rmse_functions[i](powell_thetas[j].values[i])"
   ]
  },
  {
   "cell_type": "code",
   "execution_count": 66,
   "metadata": {},
   "outputs": [
    {
     "data": {
      "text/plain": [
       "TRADEDATE\n",
       "2014-01-09    11\n",
       "2014-01-10     2\n",
       "2014-01-13     1\n",
       "2014-01-14    15\n",
       "2014-01-15     9\n",
       "              ..\n",
       "2020-07-07    16\n",
       "2020-07-08    15\n",
       "2020-07-09    15\n",
       "2020-07-10     4\n",
       "2020-07-13     7\n",
       "Length: 1635, dtype: int64"
      ]
     },
     "execution_count": 66,
     "metadata": {},
     "output_type": "execute_result"
    }
   ],
   "source": [
    "where_min = rmse_powell.T.idxmin()\n",
    "where_min"
   ]
  },
  {
   "cell_type": "code",
   "execution_count": 67,
   "metadata": {},
   "outputs": [],
   "source": [
    "best_of_rand_powell_thetas = pd.DataFrame(np.zeros([len(dates), 4]), index = dates, columns = ['tau', 'beta0', 'beta1', 'beta2'])\n",
    "best_of_rand_powell_time = pd.DataFrame(np.zeros(len(dates)), index = dates, columns = ['Seconds'])\n",
    "\n",
    "for i in range(len(dates)):\n",
    "    best_of_rand_powell_thetas.iloc[i] = powell_thetas[where_min.iloc[i] - 1].iloc[i]\n",
    "    best_of_rand_powell_time.iloc[i] = powell_times[where_min.iloc[i] - 1].iloc[i]\n",
    "    \n",
    "best_of_rand_powell_thetas.to_csv(path + '/Thetas/powell_best_of_rand.csv')\n",
    "best_of_rand_powell_time.to_csv(path + 'Time/powell_best_of_rand.csv')"
   ]
  },
  {
   "cell_type": "code",
   "execution_count": 5,
   "metadata": {},
   "outputs": [],
   "source": [
    "pd.concat(powell_times, axis = 1).mean(axis = 1).to_csv(path + 'Time/powell_best_of_rand_avg.csv')"
   ]
  },
  {
   "cell_type": "markdown",
   "metadata": {},
   "source": [
    "# Nelder Mead"
   ]
  },
  {
   "cell_type": "code",
   "execution_count": 6,
   "metadata": {},
   "outputs": [],
   "source": [
    "nelder_mead_thetas = []\n",
    "nelder_mead_times = []\n",
    "\n",
    "for i in range(1, 17):\n",
    "    nelder_mead_thetas.append(pd.read_csv(path + 'Thetas/nelder_mead_rand_' + str(i) + '.csv', index_col='TRADEDATE', parse_dates = True))\n",
    "    nelder_mead_times.append(pd.read_csv(path + 'Time/nelder_mead_rand_' + str(i) + '.csv', index_col='TRADEDATE', parse_dates = True))"
   ]
  },
  {
   "cell_type": "code",
   "execution_count": 57,
   "metadata": {},
   "outputs": [
    {
     "name": "stdout",
     "output_type": "stream",
     "text": [
      "CPU times: user 4min 20s, sys: 2.52 s, total: 4min 22s\n",
      "Wall time: 4min 37s\n"
     ]
    }
   ],
   "source": [
    "%%time\n",
    "\n",
    "rmse_nelder_mead = pd.DataFrame(data = np.zeros([len(dates), 16]), columns = list(range(1, 17)), index = dates)\n",
    "\n",
    "for i in range(len(dates)):\n",
    "    for j in range(16):\n",
    "        rmse_nelder_mead.iloc[i, j] = rmse_functions[i](nelder_mead_thetas[j].values[i])"
   ]
  },
  {
   "cell_type": "code",
   "execution_count": 58,
   "metadata": {},
   "outputs": [
    {
     "data": {
      "text/plain": [
       "TRADEDATE\n",
       "2014-01-09     3\n",
       "2014-01-10     6\n",
       "2014-01-13    14\n",
       "2014-01-14    14\n",
       "2014-01-15     2\n",
       "              ..\n",
       "2020-07-07    16\n",
       "2020-07-08     2\n",
       "2020-07-09     1\n",
       "2020-07-10     5\n",
       "2020-07-13    12\n",
       "Length: 1635, dtype: int64"
      ]
     },
     "execution_count": 58,
     "metadata": {},
     "output_type": "execute_result"
    }
   ],
   "source": [
    "where_min = rmse_nelder_mead.T.idxmin()\n",
    "where_min"
   ]
  },
  {
   "cell_type": "code",
   "execution_count": 60,
   "metadata": {},
   "outputs": [],
   "source": [
    "best_of_rand_nelder_mead_thetas = pd.DataFrame(np.zeros([len(dates), 4]), index = dates, columns = ['tau', 'beta0', 'beta1', 'beta2'])\n",
    "best_of_rand_nelder_mead_time = pd.DataFrame(np.zeros(len(dates)), index = dates, columns = ['Seconds'])\n",
    "\n",
    "for i in range(len(dates)):\n",
    "    best_of_rand_nelder_mead_thetas.iloc[i] = nelder_mead_thetas[where_min.iloc[i] - 1].iloc[i]\n",
    "    best_of_rand_nelder_mead_time.iloc[i] = nelder_mead_times[where_min.iloc[i] - 1].iloc[i]\n",
    "    \n",
    "best_of_rand_nelder_mead_thetas.to_csv(path + '/Thetas/nelder_mead_best_of_rand.csv')\n",
    "best_of_rand_nelder_mead_time.to_csv(path + 'Time/nelder_mead_best_of_rand.csv')"
   ]
  },
  {
   "cell_type": "code",
   "execution_count": 7,
   "metadata": {},
   "outputs": [],
   "source": [
    "pd.concat(nelder_mead_times, axis = 1).mean(axis = 1).to_csv(path + 'Time/nelder_mead_best_of_rand_avg.csv')"
   ]
  },
  {
   "cell_type": "markdown",
   "metadata": {},
   "source": [
    "# Trust Constr"
   ]
  },
  {
   "cell_type": "code",
   "execution_count": 8,
   "metadata": {},
   "outputs": [],
   "source": [
    "trust_constr_thetas = []\n",
    "trust_constr_times = []\n",
    "\n",
    "for i in range(1, 17):\n",
    "    trust_constr_thetas.append(pd.read_csv(path + 'Thetas/trust_constr_rand_' + str(i) + '.csv', index_col='TRADEDATE', parse_dates = True))\n",
    "    trust_constr_times.append(pd.read_csv(path + 'Time/trust_constr_rand_' + str(i) + '.csv', index_col='TRADEDATE', parse_dates = True))"
   ]
  },
  {
   "cell_type": "code",
   "execution_count": 62,
   "metadata": {},
   "outputs": [
    {
     "name": "stdout",
     "output_type": "stream",
     "text": [
      "CPU times: user 4min 16s, sys: 2.43 s, total: 4min 19s\n",
      "Wall time: 4min 24s\n"
     ]
    }
   ],
   "source": [
    "%%time\n",
    "\n",
    "rmse_trust_constr = pd.DataFrame(data = np.zeros([len(dates), 16]), columns = list(range(1, 17)), index = dates)\n",
    "\n",
    "for i in range(len(dates)):\n",
    "    for j in range(16):\n",
    "        rmse_trust_constr.iloc[i, j] = rmse_functions[i](trust_constr_thetas[j].values[i])"
   ]
  },
  {
   "cell_type": "code",
   "execution_count": 63,
   "metadata": {},
   "outputs": [
    {
     "data": {
      "text/plain": [
       "TRADEDATE\n",
       "2014-01-09    12\n",
       "2014-01-10    10\n",
       "2014-01-13    14\n",
       "2014-01-14     9\n",
       "2014-01-15     4\n",
       "              ..\n",
       "2020-07-07    16\n",
       "2020-07-08     8\n",
       "2020-07-09     1\n",
       "2020-07-10    12\n",
       "2020-07-13    13\n",
       "Length: 1635, dtype: int64"
      ]
     },
     "execution_count": 63,
     "metadata": {},
     "output_type": "execute_result"
    }
   ],
   "source": [
    "where_min = rmse_trust_constr.T.idxmin()\n",
    "where_min"
   ]
  },
  {
   "cell_type": "code",
   "execution_count": 64,
   "metadata": {},
   "outputs": [],
   "source": [
    "best_of_rand_trust_constr_thetas = pd.DataFrame(np.zeros([len(dates), 4]), index = dates, columns = ['tau', 'beta0', 'beta1', 'beta2'])\n",
    "best_of_rand_trust_constr_time = pd.DataFrame(np.zeros(len(dates)), index = dates, columns = ['Seconds'])\n",
    "\n",
    "for i in range(len(dates)):\n",
    "    best_of_rand_trust_constr_thetas.iloc[i] = trust_constr_thetas[where_min.iloc[i] - 1].iloc[i]\n",
    "    best_of_rand_trust_constr_time.iloc[i] = trust_constr_times[where_min.iloc[i] - 1].iloc[i]\n",
    "    \n",
    "best_of_rand_trust_constr_thetas.to_csv(path + '/Thetas/trust_constr_best_of_rand.csv')\n",
    "best_of_rand_trust_constr_time.to_csv(path + 'Time/trust_constr_best_of_rand.csv')"
   ]
  },
  {
   "cell_type": "code",
   "execution_count": 9,
   "metadata": {},
   "outputs": [],
   "source": [
    "pd.concat(trust_constr_times, axis = 1).mean(axis = 1).to_csv(path + 'Time/trust_constr_best_of_rand_avg.csv')"
   ]
  },
  {
   "cell_type": "code",
   "execution_count": 65,
   "metadata": {},
   "outputs": [],
   "source": [
    "%%bash\n",
    "say finished"
   ]
  }
 ],
 "metadata": {
  "kernelspec": {
   "display_name": "Python 3",
   "language": "python",
   "name": "python3"
  },
  "language_info": {
   "codemirror_mode": {
    "name": "ipython",
    "version": 3
   },
   "file_extension": ".py",
   "mimetype": "text/x-python",
   "name": "python",
   "nbconvert_exporter": "python",
   "pygments_lexer": "ipython3",
   "version": "3.7.7"
  }
 },
 "nbformat": 4,
 "nbformat_minor": 4
}
