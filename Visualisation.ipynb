{
 "cells": [
  {
   "cell_type": "code",
   "execution_count": 1,
   "metadata": {},
   "outputs": [],
   "source": [
    "import pandas as pd\n",
    "import numpy as np\n",
    "import matplotlib.pyplot as plt\n",
    "%matplotlib inline"
   ]
  },
  {
   "cell_type": "markdown",
   "metadata": {},
   "source": [
    "# Thetas import"
   ]
  },
  {
   "cell_type": "code",
   "execution_count": 2,
   "metadata": {},
   "outputs": [],
   "source": [
    "bfgs_rand1 = pd.read_csv('/Users/andrey_lukyanov/Google_Drive/Studies/Year_4/Курсач/Coding/Comparing-numerical-methods-for-term-structure-fitting/Thetas/bfgs_rand_1.csv', index_col='TRADEDATE', parse_dates = True)\n",
    "bfgs_rand2 = pd.read_csv('/Users/andrey_lukyanov/Google_Drive/Studies/Year_4/Курсач/Coding/Comparing-numerical-methods-for-term-structure-fitting/Thetas/bfgs_rand_2.csv', index_col='TRADEDATE', parse_dates = True)\n",
    "bfgs_rand3 = pd.read_csv('/Users/andrey_lukyanov/Google_Drive/Studies/Year_4/Курсач/Coding/Comparing-numerical-methods-for-term-structure-fitting/Thetas/bfgs_rand_3.csv', index_col='TRADEDATE', parse_dates = True)\n",
    "bfgs_rand4 = pd.read_csv('/Users/andrey_lukyanov/Google_Drive/Studies/Year_4/Курсач/Coding/Comparing-numerical-methods-for-term-structure-fitting/Thetas/bfgs_rand_4.csv', index_col='TRADEDATE', parse_dates = True)\n",
    "bfgs_rand5 = pd.read_csv('/Users/andrey_lukyanov/Google_Drive/Studies/Year_4/Курсач/Coding/Comparing-numerical-methods-for-term-structure-fitting/Thetas/bfgs_rand_5.csv', index_col='TRADEDATE', parse_dates = True)\n",
    "bfgs_rand6 = pd.read_csv('/Users/andrey_lukyanov/Google_Drive/Studies/Year_4/Курсач/Coding/Comparing-numerical-methods-for-term-structure-fitting/Thetas/bfgs_rand_6.csv', index_col='TRADEDATE', parse_dates = True)\n",
    "bfgs_rand7 = pd.read_csv('/Users/andrey_lukyanov/Google_Drive/Studies/Year_4/Курсач/Coding/Comparing-numerical-methods-for-term-structure-fitting/Thetas/bfgs_rand_7.csv', index_col='TRADEDATE', parse_dates = True)\n",
    "bfgs_rand8 = pd.read_csv('/Users/andrey_lukyanov/Google_Drive/Studies/Year_4/Курсач/Coding/Comparing-numerical-methods-for-term-structure-fitting/Thetas/bfgs_rand_8.csv', index_col='TRADEDATE', parse_dates = True)\n",
    "\n",
    "nelder_mead_rand1 = pd.read_csv('/Users/andrey_lukyanov/Google_Drive/Studies/Year_4/Курсач/Coding/Comparing-numerical-methods-for-term-structure-fitting/Thetas/nelder_mead_rand_1.csv', index_col='TRADEDATE', parse_dates = True)\n",
    "nelder_mead_rand2 = pd.read_csv('/Users/andrey_lukyanov/Google_Drive/Studies/Year_4/Курсач/Coding/Comparing-numerical-methods-for-term-structure-fitting/Thetas/nelder_mead_rand_2.csv', index_col='TRADEDATE', parse_dates = True)\n",
    "nelder_mead_rand3 = pd.read_csv('/Users/andrey_lukyanov/Google_Drive/Studies/Year_4/Курсач/Coding/Comparing-numerical-methods-for-term-structure-fitting/Thetas/nelder_mead_rand_3.csv', index_col='TRADEDATE', parse_dates = True)\n",
    "nelder_mead_rand4 = pd.read_csv('/Users/andrey_lukyanov/Google_Drive/Studies/Year_4/Курсач/Coding/Comparing-numerical-methods-for-term-structure-fitting/Thetas/nelder_mead_rand_4.csv', index_col='TRADEDATE', parse_dates = True)\n",
    "nelder_mead_rand5 = pd.read_csv('/Users/andrey_lukyanov/Google_Drive/Studies/Year_4/Курсач/Coding/Comparing-numerical-methods-for-term-structure-fitting/Thetas/nelder_mead_rand_5.csv', index_col='TRADEDATE', parse_dates = True)\n",
    "nelder_mead_rand6 = pd.read_csv('/Users/andrey_lukyanov/Google_Drive/Studies/Year_4/Курсач/Coding/Comparing-numerical-methods-for-term-structure-fitting/Thetas/nelder_mead_rand_6.csv', index_col='TRADEDATE', parse_dates = True)\n",
    "nelder_mead_rand7 = pd.read_csv('/Users/andrey_lukyanov/Google_Drive/Studies/Year_4/Курсач/Coding/Comparing-numerical-methods-for-term-structure-fitting/Thetas/nelder_mead_rand_7.csv', index_col='TRADEDATE', parse_dates = True)\n",
    "nelder_mead_rand8 = pd.read_csv('/Users/andrey_lukyanov/Google_Drive/Studies/Year_4/Курсач/Coding/Comparing-numerical-methods-for-term-structure-fitting/Thetas/nelder_mead_rand_8.csv', index_col='TRADEDATE', parse_dates = True)\n",
    "\n",
    "powell_rand1 = pd.read_csv('/Users/andrey_lukyanov/Google_Drive/Studies/Year_4/Курсач/Coding/Comparing-numerical-methods-for-term-structure-fitting/Thetas/powell_rand_1.csv', index_col='TRADEDATE', parse_dates = True)\n",
    "powell_rand2 = pd.read_csv('/Users/andrey_lukyanov/Google_Drive/Studies/Year_4/Курсач/Coding/Comparing-numerical-methods-for-term-structure-fitting/Thetas/powell_rand_2.csv', index_col='TRADEDATE', parse_dates = True)\n",
    "powell_rand3 = pd.read_csv('/Users/andrey_lukyanov/Google_Drive/Studies/Year_4/Курсач/Coding/Comparing-numerical-methods-for-term-structure-fitting/Thetas/powell_rand_3.csv', index_col='TRADEDATE', parse_dates = True)\n",
    "powell_rand4 = pd.read_csv('/Users/andrey_lukyanov/Google_Drive/Studies/Year_4/Курсач/Coding/Comparing-numerical-methods-for-term-structure-fitting/Thetas/powell_rand_4.csv', index_col='TRADEDATE', parse_dates = True)\n",
    "powell_rand5 = pd.read_csv('/Users/andrey_lukyanov/Google_Drive/Studies/Year_4/Курсач/Coding/Comparing-numerical-methods-for-term-structure-fitting/Thetas/powell_rand_5.csv', index_col='TRADEDATE', parse_dates = True)\n",
    "powell_rand6 = pd.read_csv('/Users/andrey_lukyanov/Google_Drive/Studies/Year_4/Курсач/Coding/Comparing-numerical-methods-for-term-structure-fitting/Thetas/powell_rand_6.csv', index_col='TRADEDATE', parse_dates = True)\n",
    "powell_rand7 = pd.read_csv('/Users/andrey_lukyanov/Google_Drive/Studies/Year_4/Курсач/Coding/Comparing-numerical-methods-for-term-structure-fitting/Thetas/powell_rand_7.csv', index_col='TRADEDATE', parse_dates = True)\n",
    "powell_rand8 = pd.read_csv('/Users/andrey_lukyanov/Google_Drive/Studies/Year_4/Курсач/Coding/Comparing-numerical-methods-for-term-structure-fitting/Thetas/powell_rand_8.csv', index_col='TRADEDATE', parse_dates = True)"
   ]
  },
  {
   "cell_type": "markdown",
   "metadata": {},
   "source": [
    "## Recurrent"
   ]
  },
  {
   "cell_type": "code",
   "execution_count": 4,
   "metadata": {},
   "outputs": [],
   "source": [
    "bfgs_recurrent = pd.read_csv('/Users/andrey_lukyanov/Google_Drive/Studies/Year_4/Курсач/Coding/Comparing-numerical-methods-for-term-structure-fitting/Thetas/bfgs_recurrent.csv', index_col='TRADEDATE', parse_dates = True)\n",
    "nelder_mead_recurrent = pd.read_csv('/Users/andrey_lukyanov/Google_Drive/Studies/Year_4/Курсач/Coding/Comparing-numerical-methods-for-term-structure-fitting/Thetas/nelder_mead_recurrent.csv', index_col='TRADEDATE', parse_dates = True)\n",
    "powell_recurrent = pd.read_csv('/Users/andrey_lukyanov/Google_Drive/Studies/Year_4/Курсач/Coding/Comparing-numerical-methods-for-term-structure-fitting/Thetas/powell_recurrent.csv', index_col='TRADEDATE', parse_dates = True)"
   ]
  },
  {
   "cell_type": "markdown",
   "metadata": {},
   "source": [
    "## PSO"
   ]
  },
  {
   "cell_type": "code",
   "execution_count": 5,
   "metadata": {},
   "outputs": [],
   "source": [
    "pso_batch_62 = pd.read_csv('/Users/andrey_lukyanov/Google_Drive/Studies/Year_4/Курсач/Coding/constrained_thetas/pso_batch_62.csv', index_col='TRADEDATE', parse_dates = True)\n",
    "pso_batch_126 = pd.read_csv('/Users/andrey_lukyanov/Google_Drive/Studies/Year_4/Курсач/Coding/constrained_thetas/pso_batch_126.csv', index_col='TRADEDATE', parse_dates = True)\n",
    "pso_batch_189 = pd.read_csv('/Users/andrey_lukyanov/Google_Drive/Studies/Year_4/Курсач/Coding/constrained_thetas/pso_batch_189.csv', index_col='TRADEDATE', parse_dates = True)\n",
    "pso_batch_251 = pd.read_csv('/Users/andrey_lukyanov/Google_Drive/Studies/Year_4/Курсач/Coding/constrained_thetas/pso_batch_251.csv', index_col='TRADEDATE', parse_dates = True)"
   ]
  },
  {
   "cell_type": "code",
   "execution_count": 6,
   "metadata": {},
   "outputs": [],
   "source": [
    "pso_df = pd.concat([pso_batch_62, pso_batch_126, pso_batch_189, pso_batch_251])"
   ]
  },
  {
   "cell_type": "markdown",
   "metadata": {},
   "source": [
    "# Comparison"
   ]
  },
  {
   "cell_type": "code",
   "execution_count": 8,
   "metadata": {},
   "outputs": [],
   "source": [
    "results = [bfgs_rand1, bfgs_rand2, bfgs_rand3, bfgs_rand4, bfgs_rand5, bfgs_rand6, bfgs_rand7, bfgs_rand8, \n",
    "           nelder_mead_rand1, nelder_mead_rand2, nelder_mead_rand3, nelder_mead_rand4, \n",
    "           nelder_mead_rand5, nelder_mead_rand6, nelder_mead_rand7, nelder_mead_rand8, \n",
    "           powell_rand1, powell_rand2, powell_rand3, powell_rand4, powell_rand5, powell_rand6, powell_rand7, powell_rand8, \n",
    "           bfgs_recurrent, nelder_mead_recurrent, powell_recurrent, pso_df]"
   ]
  },
  {
   "cell_type": "code",
   "execution_count": 9,
   "metadata": {},
   "outputs": [],
   "source": [
    "results_names = ['bfgs_rand_1', 'bfgs_rand_2', 'bfgs_rand_3', 'bfgs_rand_4', \n",
    "                 'bfgs_rand_5', 'bfgs_rand_6', 'bfgs_rand_7', 'bfgs_rand_8', \n",
    "                 'nelder_mead_rand_1', 'nelder_mead_rand_2', 'nelder_mead_rand_3', 'nelder_mead_rand_4',\n",
    "                 'nelder_mead_rand_5', 'nelder_mead_rand_6', 'nelder_mead_rand_7', 'nelder_mead_rand_8',\n",
    "                 'powell_rand_1', 'powell_rand_2', 'powell_rand_3', 'powell_rand_4',\n",
    "                 'powell_rand_5', 'powell_rand_6', 'powell_rand_7', 'powell_rand_8',\n",
    "                 'bfgs_recurrent', 'nelder_mead_recurrent', 'powell_recurrent', 'pso_df']"
   ]
  },
  {
   "cell_type": "markdown",
   "metadata": {},
   "source": [
    "# Bon"
   ]
  }
 ],
 "metadata": {
  "kernelspec": {
   "display_name": "Python 3",
   "language": "python",
   "name": "python3"
  },
  "language_info": {
   "codemirror_mode": {
    "name": "ipython",
    "version": 3
   },
   "file_extension": ".py",
   "mimetype": "text/x-python",
   "name": "python",
   "nbconvert_exporter": "python",
   "pygments_lexer": "ipython3",
   "version": "3.6.7"
  }
 },
 "nbformat": 4,
 "nbformat_minor": 2
}
