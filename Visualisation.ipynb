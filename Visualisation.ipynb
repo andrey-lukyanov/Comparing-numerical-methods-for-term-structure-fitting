{
 "cells": [
  {
   "cell_type": "code",
   "execution_count": 13,
   "metadata": {},
   "outputs": [],
   "source": [
    "import pandas as pd\n",
    "import numpy as np\n",
    "import matplotlib.pyplot as plt\n",
    "%matplotlib inline\n",
    "from thesis_library import *"
   ]
  },
  {
   "cell_type": "markdown",
   "metadata": {},
   "source": [
    "# Thetas import"
   ]
  },
  {
   "cell_type": "code",
   "execution_count": null,
   "metadata": {},
   "outputs": [],
   "source": []
  },
  {
   "cell_type": "code",
   "execution_count": 2,
   "metadata": {},
   "outputs": [],
   "source": [
    "bfgs_rand1 = pd.read_csv('/Users/andrey_lukyanov/Google_Drive/Studies/Year_4/Курсач/Coding/Comparing-numerical-methods-for-term-structure-fitting/Thetas/bfgs_rand_1.csv', index_col='TRADEDATE', parse_dates = True)\n",
    "bfgs_rand2 = pd.read_csv('/Users/andrey_lukyanov/Google_Drive/Studies/Year_4/Курсач/Coding/Comparing-numerical-methods-for-term-structure-fitting/Thetas/bfgs_rand_2.csv', index_col='TRADEDATE', parse_dates = True)\n",
    "bfgs_rand3 = pd.read_csv('/Users/andrey_lukyanov/Google_Drive/Studies/Year_4/Курсач/Coding/Comparing-numerical-methods-for-term-structure-fitting/Thetas/bfgs_rand_3.csv', index_col='TRADEDATE', parse_dates = True)\n",
    "bfgs_rand4 = pd.read_csv('/Users/andrey_lukyanov/Google_Drive/Studies/Year_4/Курсач/Coding/Comparing-numerical-methods-for-term-structure-fitting/Thetas/bfgs_rand_4.csv', index_col='TRADEDATE', parse_dates = True)\n",
    "bfgs_rand5 = pd.read_csv('/Users/andrey_lukyanov/Google_Drive/Studies/Year_4/Курсач/Coding/Comparing-numerical-methods-for-term-structure-fitting/Thetas/bfgs_rand_5.csv', index_col='TRADEDATE', parse_dates = True)\n",
    "bfgs_rand6 = pd.read_csv('/Users/andrey_lukyanov/Google_Drive/Studies/Year_4/Курсач/Coding/Comparing-numerical-methods-for-term-structure-fitting/Thetas/bfgs_rand_6.csv', index_col='TRADEDATE', parse_dates = True)\n",
    "bfgs_rand7 = pd.read_csv('/Users/andrey_lukyanov/Google_Drive/Studies/Year_4/Курсач/Coding/Comparing-numerical-methods-for-term-structure-fitting/Thetas/bfgs_rand_7.csv', index_col='TRADEDATE', parse_dates = True)\n",
    "bfgs_rand8 = pd.read_csv('/Users/andrey_lukyanov/Google_Drive/Studies/Year_4/Курсач/Coding/Comparing-numerical-methods-for-term-structure-fitting/Thetas/bfgs_rand_8.csv', index_col='TRADEDATE', parse_dates = True)\n",
    "bfgs_rand9 = pd.read_csv('/Users/andrey_lukyanov/Google_Drive/Studies/Year_4/Курсач/Coding/Comparing-numerical-methods-for-term-structure-fitting/Thetas/bfgs_rand_9.csv', index_col='TRADEDATE', parse_dates = True)\n",
    "bfgs_rand10 = pd.read_csv('/Users/andrey_lukyanov/Google_Drive/Studies/Year_4/Курсач/Coding/Comparing-numerical-methods-for-term-structure-fitting/Thetas/bfgs_rand_10.csv', index_col='TRADEDATE', parse_dates = True)\n",
    "bfgs_rand11 = pd.read_csv('/Users/andrey_lukyanov/Google_Drive/Studies/Year_4/Курсач/Coding/Comparing-numerical-methods-for-term-structure-fitting/Thetas/bfgs_rand_11.csv', index_col='TRADEDATE', parse_dates = True)\n",
    "bfgs_rand12 = pd.read_csv('/Users/andrey_lukyanov/Google_Drive/Studies/Year_4/Курсач/Coding/Comparing-numerical-methods-for-term-structure-fitting/Thetas/bfgs_rand_12.csv', index_col='TRADEDATE', parse_dates = True)\n",
    "bfgs_rand13 = pd.read_csv('/Users/andrey_lukyanov/Google_Drive/Studies/Year_4/Курсач/Coding/Comparing-numerical-methods-for-term-structure-fitting/Thetas/bfgs_rand_13.csv', index_col='TRADEDATE', parse_dates = True)\n",
    "bfgs_rand14 = pd.read_csv('/Users/andrey_lukyanov/Google_Drive/Studies/Year_4/Курсач/Coding/Comparing-numerical-methods-for-term-structure-fitting/Thetas/bfgs_rand_14.csv', index_col='TRADEDATE', parse_dates = True)\n",
    "bfgs_rand15 = pd.read_csv('/Users/andrey_lukyanov/Google_Drive/Studies/Year_4/Курсач/Coding/Comparing-numerical-methods-for-term-structure-fitting/Thetas/bfgs_rand_15.csv', index_col='TRADEDATE', parse_dates = True)\n",
    "bfgs_rand16 = pd.read_csv('/Users/andrey_lukyanov/Google_Drive/Studies/Year_4/Курсач/Coding/Comparing-numerical-methods-for-term-structure-fitting/Thetas/bfgs_rand_16.csv', index_col='TRADEDATE', parse_dates = True)\n",
    "\n",
    "nelder_mead_rand1 = pd.read_csv('/Users/andrey_lukyanov/Google_Drive/Studies/Year_4/Курсач/Coding/Comparing-numerical-methods-for-term-structure-fitting/Thetas/nelder_mead_rand_1.csv', index_col='TRADEDATE', parse_dates = True)\n",
    "nelder_mead_rand2 = pd.read_csv('/Users/andrey_lukyanov/Google_Drive/Studies/Year_4/Курсач/Coding/Comparing-numerical-methods-for-term-structure-fitting/Thetas/nelder_mead_rand_2.csv', index_col='TRADEDATE', parse_dates = True)\n",
    "nelder_mead_rand3 = pd.read_csv('/Users/andrey_lukyanov/Google_Drive/Studies/Year_4/Курсач/Coding/Comparing-numerical-methods-for-term-structure-fitting/Thetas/nelder_mead_rand_3.csv', index_col='TRADEDATE', parse_dates = True)\n",
    "nelder_mead_rand4 = pd.read_csv('/Users/andrey_lukyanov/Google_Drive/Studies/Year_4/Курсач/Coding/Comparing-numerical-methods-for-term-structure-fitting/Thetas/nelder_mead_rand_4.csv', index_col='TRADEDATE', parse_dates = True)\n",
    "nelder_mead_rand5 = pd.read_csv('/Users/andrey_lukyanov/Google_Drive/Studies/Year_4/Курсач/Coding/Comparing-numerical-methods-for-term-structure-fitting/Thetas/nelder_mead_rand_5.csv', index_col='TRADEDATE', parse_dates = True)\n",
    "nelder_mead_rand6 = pd.read_csv('/Users/andrey_lukyanov/Google_Drive/Studies/Year_4/Курсач/Coding/Comparing-numerical-methods-for-term-structure-fitting/Thetas/nelder_mead_rand_6.csv', index_col='TRADEDATE', parse_dates = True)\n",
    "nelder_mead_rand7 = pd.read_csv('/Users/andrey_lukyanov/Google_Drive/Studies/Year_4/Курсач/Coding/Comparing-numerical-methods-for-term-structure-fitting/Thetas/nelder_mead_rand_7.csv', index_col='TRADEDATE', parse_dates = True)\n",
    "nelder_mead_rand8 = pd.read_csv('/Users/andrey_lukyanov/Google_Drive/Studies/Year_4/Курсач/Coding/Comparing-numerical-methods-for-term-structure-fitting/Thetas/nelder_mead_rand_8.csv', index_col='TRADEDATE', parse_dates = True)\n",
    "nelder_mead_rand9 = pd.read_csv('/Users/andrey_lukyanov/Google_Drive/Studies/Year_4/Курсач/Coding/Comparing-numerical-methods-for-term-structure-fitting/Thetas/nelder_mead_rand_9.csv', index_col='TRADEDATE', parse_dates = True)\n",
    "nelder_mead_rand10 = pd.read_csv('/Users/andrey_lukyanov/Google_Drive/Studies/Year_4/Курсач/Coding/Comparing-numerical-methods-for-term-structure-fitting/Thetas/nelder_mead_rand_10.csv', index_col='TRADEDATE', parse_dates = True)\n",
    "nelder_mead_rand11 = pd.read_csv('/Users/andrey_lukyanov/Google_Drive/Studies/Year_4/Курсач/Coding/Comparing-numerical-methods-for-term-structure-fitting/Thetas/nelder_mead_rand_11.csv', index_col='TRADEDATE', parse_dates = True)\n",
    "nelder_mead_rand12 = pd.read_csv('/Users/andrey_lukyanov/Google_Drive/Studies/Year_4/Курсач/Coding/Comparing-numerical-methods-for-term-structure-fitting/Thetas/nelder_mead_rand_12.csv', index_col='TRADEDATE', parse_dates = True)\n",
    "nelder_mead_rand13 = pd.read_csv('/Users/andrey_lukyanov/Google_Drive/Studies/Year_4/Курсач/Coding/Comparing-numerical-methods-for-term-structure-fitting/Thetas/nelder_mead_rand_13.csv', index_col='TRADEDATE', parse_dates = True)\n",
    "nelder_mead_rand14 = pd.read_csv('/Users/andrey_lukyanov/Google_Drive/Studies/Year_4/Курсач/Coding/Comparing-numerical-methods-for-term-structure-fitting/Thetas/nelder_mead_rand_14.csv', index_col='TRADEDATE', parse_dates = True)\n",
    "nelder_mead_rand15 = pd.read_csv('/Users/andrey_lukyanov/Google_Drive/Studies/Year_4/Курсач/Coding/Comparing-numerical-methods-for-term-structure-fitting/Thetas/nelder_mead_rand_15.csv', index_col='TRADEDATE', parse_dates = True)\n",
    "nelder_mead_rand16 = pd.read_csv('/Users/andrey_lukyanov/Google_Drive/Studies/Year_4/Курсач/Coding/Comparing-numerical-methods-for-term-structure-fitting/Thetas/nelder_mead_rand_16.csv', index_col='TRADEDATE', parse_dates = True)\n",
    "\n",
    "powell_rand1 = pd.read_csv('/Users/andrey_lukyanov/Google_Drive/Studies/Year_4/Курсач/Coding/Comparing-numerical-methods-for-term-structure-fitting/Thetas/powell_rand_1.csv', index_col='TRADEDATE', parse_dates = True)\n",
    "powell_rand2 = pd.read_csv('/Users/andrey_lukyanov/Google_Drive/Studies/Year_4/Курсач/Coding/Comparing-numerical-methods-for-term-structure-fitting/Thetas/powell_rand_2.csv', index_col='TRADEDATE', parse_dates = True)\n",
    "powell_rand3 = pd.read_csv('/Users/andrey_lukyanov/Google_Drive/Studies/Year_4/Курсач/Coding/Comparing-numerical-methods-for-term-structure-fitting/Thetas/powell_rand_3.csv', index_col='TRADEDATE', parse_dates = True)\n",
    "powell_rand4 = pd.read_csv('/Users/andrey_lukyanov/Google_Drive/Studies/Year_4/Курсач/Coding/Comparing-numerical-methods-for-term-structure-fitting/Thetas/powell_rand_4.csv', index_col='TRADEDATE', parse_dates = True)\n",
    "powell_rand5 = pd.read_csv('/Users/andrey_lukyanov/Google_Drive/Studies/Year_4/Курсач/Coding/Comparing-numerical-methods-for-term-structure-fitting/Thetas/powell_rand_5.csv', index_col='TRADEDATE', parse_dates = True)\n",
    "powell_rand6 = pd.read_csv('/Users/andrey_lukyanov/Google_Drive/Studies/Year_4/Курсач/Coding/Comparing-numerical-methods-for-term-structure-fitting/Thetas/powell_rand_6.csv', index_col='TRADEDATE', parse_dates = True)\n",
    "powell_rand7 = pd.read_csv('/Users/andrey_lukyanov/Google_Drive/Studies/Year_4/Курсач/Coding/Comparing-numerical-methods-for-term-structure-fitting/Thetas/powell_rand_7.csv', index_col='TRADEDATE', parse_dates = True)\n",
    "powell_rand8 = pd.read_csv('/Users/andrey_lukyanov/Google_Drive/Studies/Year_4/Курсач/Coding/Comparing-numerical-methods-for-term-structure-fitting/Thetas/powell_rand_8.csv', index_col='TRADEDATE', parse_dates = True)\n",
    "powell_rand9 = pd.read_csv('/Users/andrey_lukyanov/Google_Drive/Studies/Year_4/Курсач/Coding/Comparing-numerical-methods-for-term-structure-fitting/Thetas/powell_rand_9.csv', index_col='TRADEDATE', parse_dates = True)\n",
    "powell_rand10 = pd.read_csv('/Users/andrey_lukyanov/Google_Drive/Studies/Year_4/Курсач/Coding/Comparing-numerical-methods-for-term-structure-fitting/Thetas/powell_rand_10.csv', index_col='TRADEDATE', parse_dates = True)\n",
    "powell_rand11 = pd.read_csv('/Users/andrey_lukyanov/Google_Drive/Studies/Year_4/Курсач/Coding/Comparing-numerical-methods-for-term-structure-fitting/Thetas/powell_rand_11.csv', index_col='TRADEDATE', parse_dates = True)\n",
    "powell_rand12 = pd.read_csv('/Users/andrey_lukyanov/Google_Drive/Studies/Year_4/Курсач/Coding/Comparing-numerical-methods-for-term-structure-fitting/Thetas/powell_rand_12.csv', index_col='TRADEDATE', parse_dates = True)\n",
    "powell_rand13 = pd.read_csv('/Users/andrey_lukyanov/Google_Drive/Studies/Year_4/Курсач/Coding/Comparing-numerical-methods-for-term-structure-fitting/Thetas/powell_rand_13.csv', index_col='TRADEDATE', parse_dates = True)\n",
    "powell_rand14 = pd.read_csv('/Users/andrey_lukyanov/Google_Drive/Studies/Year_4/Курсач/Coding/Comparing-numerical-methods-for-term-structure-fitting/Thetas/powell_rand_14.csv', index_col='TRADEDATE', parse_dates = True)\n",
    "powell_rand15 = pd.read_csv('/Users/andrey_lukyanov/Google_Drive/Studies/Year_4/Курсач/Coding/Comparing-numerical-methods-for-term-structure-fitting/Thetas/powell_rand_15.csv', index_col='TRADEDATE', parse_dates = True)\n",
    "powell_rand16 = pd.read_csv('/Users/andrey_lukyanov/Google_Drive/Studies/Year_4/Курсач/Coding/Comparing-numerical-methods-for-term-structure-fitting/Thetas/powell_rand_16.csv', index_col='TRADEDATE', parse_dates = True)"
   ]
  },
  {
   "cell_type": "markdown",
   "metadata": {},
   "source": [
    "## Recurrent"
   ]
  },
  {
   "cell_type": "code",
   "execution_count": 3,
   "metadata": {},
   "outputs": [],
   "source": [
    "bfgs_recurrent = pd.read_csv('/Users/andrey_lukyanov/Google_Drive/Studies/Year_4/Курсач/Coding/Comparing-numerical-methods-for-term-structure-fitting/Thetas/bfgs_recurrent.csv', index_col='TRADEDATE', parse_dates = True)\n",
    "nelder_mead_recurrent = pd.read_csv('/Users/andrey_lukyanov/Google_Drive/Studies/Year_4/Курсач/Coding/Comparing-numerical-methods-for-term-structure-fitting/Thetas/nelder_mead_recurrent.csv', index_col='TRADEDATE', parse_dates = True)\n",
    "powell_recurrent = pd.read_csv('/Users/andrey_lukyanov/Google_Drive/Studies/Year_4/Курсач/Coding/Comparing-numerical-methods-for-term-structure-fitting/Thetas/powell_recurrent.csv', index_col='TRADEDATE', parse_dates = True)"
   ]
  },
  {
   "cell_type": "markdown",
   "metadata": {},
   "source": [
    "## PSO"
   ]
  },
  {
   "cell_type": "code",
   "execution_count": 4,
   "metadata": {},
   "outputs": [],
   "source": [
    "pso_batch_62 = pd.read_csv('/Users/andrey_lukyanov/Google_Drive/Studies/Year_4/Курсач/Coding/constrained_thetas/pso_batch_62.csv', index_col='TRADEDATE', parse_dates = True)\n",
    "pso_batch_126 = pd.read_csv('/Users/andrey_lukyanov/Google_Drive/Studies/Year_4/Курсач/Coding/constrained_thetas/pso_batch_126.csv', index_col='TRADEDATE', parse_dates = True)\n",
    "pso_batch_189 = pd.read_csv('/Users/andrey_lukyanov/Google_Drive/Studies/Year_4/Курсач/Coding/constrained_thetas/pso_batch_189.csv', index_col='TRADEDATE', parse_dates = True)\n",
    "pso_batch_251 = pd.read_csv('/Users/andrey_lukyanov/Google_Drive/Studies/Year_4/Курсач/Coding/constrained_thetas/pso_batch_251.csv', index_col='TRADEDATE', parse_dates = True)"
   ]
  },
  {
   "cell_type": "code",
   "execution_count": 5,
   "metadata": {},
   "outputs": [],
   "source": [
    "pso_df = pd.concat([pso_batch_62, pso_batch_126, pso_batch_189, pso_batch_251])"
   ]
  },
  {
   "cell_type": "markdown",
   "metadata": {},
   "source": [
    "## Flat rate"
   ]
  },
  {
   "cell_type": "code",
   "execution_count": 7,
   "metadata": {},
   "outputs": [],
   "source": [
    "bfgs_flat_rate = pd.read_csv('/Users/andrey_lukyanov/Google_Drive/Studies/Year_4/Курсач/Coding/Comparing-numerical-methods-for-term-structure-fitting/Thetas/bfgs_flat_rate.csv', index_col='TRADEDATE', parse_dates = True)\n",
    "nelder_mead_flat_rate = pd.read_csv('/Users/andrey_lukyanov/Google_Drive/Studies/Year_4/Курсач/Coding/Comparing-numerical-methods-for-term-structure-fitting/Thetas/nelder_mead_flat_rate.csv', index_col='TRADEDATE', parse_dates = True)\n",
    "powell_flat_rate = pd.read_csv('/Users/andrey_lukyanov/Google_Drive/Studies/Year_4/Курсач/Coding/Comparing-numerical-methods-for-term-structure-fitting/Thetas/powell_flat_rate.csv', index_col='TRADEDATE', parse_dates = True)"
   ]
  },
  {
   "cell_type": "code",
   "execution_count": 9,
   "metadata": {},
   "outputs": [],
   "source": [
    "results = [bfgs_rand1, bfgs_rand2, bfgs_rand3, bfgs_rand4, bfgs_rand5, bfgs_rand6, bfgs_rand7, bfgs_rand8, \n",
    "           bfgs_rand9, bfgs_rand10, bfgs_rand11, bfgs_rand12, bfgs_rand13, bfgs_rand14, bfgs_rand15, bfgs_rand16,\n",
    "           nelder_mead_rand1, nelder_mead_rand2, nelder_mead_rand3, nelder_mead_rand4, \n",
    "           nelder_mead_rand5, nelder_mead_rand6, nelder_mead_rand7, nelder_mead_rand8, \n",
    "           nelder_mead_rand9, nelder_mead_rand10, nelder_mead_rand11, nelder_mead_rand12, \n",
    "           nelder_mead_rand13, nelder_mead_rand14, nelder_mead_rand15, nelder_mead_rand16,\n",
    "           powell_rand1, powell_rand2, powell_rand3, powell_rand4, \n",
    "           powell_rand5, powell_rand6, powell_rand7, powell_rand8, \n",
    "           powell_rand9, powell_rand10, powell_rand11, powell_rand12, \n",
    "           powell_rand13, powell_rand14, powell_rand15, powell_rand16, \n",
    "           bfgs_recurrent, nelder_mead_recurrent, powell_recurrent, \n",
    "           bfgs_flat_rate, nelder_mead_flat_rate, powell_flat_rate, \n",
    "           pso_df]"
   ]
  },
  {
   "cell_type": "code",
   "execution_count": 10,
   "metadata": {},
   "outputs": [],
   "source": [
    "results_names = ['bfgs_rand_1', 'bfgs_rand_2', 'bfgs_rand_3', 'bfgs_rand_4', \n",
    "                 'bfgs_rand_5', 'bfgs_rand_6', 'bfgs_rand_7', 'bfgs_rand_8',\n",
    "                 'bfgs_rand_9', 'bfgs_rand_10', 'bfgs_rand_11', 'bfgs_rand_12',\n",
    "                 'bfgs_rand_13', 'bfgs_rand_14', 'bfgs_rand_15', 'bfgs_rand_16',\n",
    "                 'nelder_mead_rand_1', 'nelder_mead_rand_2', 'nelder_mead_rand_3', 'nelder_mead_rand_4',\n",
    "                 'nelder_mead_rand_5', 'nelder_mead_rand_6', 'nelder_mead_rand_7', 'nelder_mead_rand_8',\n",
    "                 'nelder_mead_rand_9', 'nelder_mead_rand_10', 'nelder_mead_rand_11', 'nelder_mead_rand_12',\n",
    "                 'nelder_mead_rand_13', 'nelder_mead_rand_14', 'nelder_mead_rand_15', 'nelder_mead_rand_16',\n",
    "                 'powell_rand_1', 'powell_rand_2', 'powell_rand_3', 'powell_rand_4',\n",
    "                 'powell_rand_5', 'powell_rand_6', 'powell_rand_7', 'powell_rand_8',\n",
    "                 'powell_rand_9', 'powell_rand_10', 'powell_rand_11', 'powell_rand_12',\n",
    "                 'powell_rand_13', 'powell_rand_14', 'powell_rand_15', 'powell_rand_16',\n",
    "                 'bfgs_recurrent', 'nelder_mead_recurrent', 'powell_recurrent', \n",
    "                 'bfgs_flat_rate', 'nelder_mead_flat_rate', 'powell_flat_rate',\n",
    "                 'pso_df']"
   ]
  },
  {
   "cell_type": "markdown",
   "metadata": {},
   "source": [
    "# Hypothetical bonds prices calculation"
   ]
  },
  {
   "cell_type": "code",
   "execution_count": 11,
   "metadata": {},
   "outputs": [],
   "source": [
    "short_bond_dates = np.linspace(0.5, 3, 6)\n",
    "short_bond_payments = np.ones(6) * 4\n",
    "short_bond_payments[-1] += 100\n",
    "\n",
    "medium_bond_dates = np.linspace(0.5, 10, 20)\n",
    "medium_bond_payments = np.ones(20) * 4\n",
    "medium_bond_payments[-1] += 100\n",
    "\n",
    "long_bond_dates = np.linspace(0.5, 30, 60)\n",
    "long_bond_payments = np.ones(60) * 4\n",
    "long_bond_payments[-1] += 100"
   ]
  },
  {
   "cell_type": "code",
   "execution_count": 15,
   "metadata": {},
   "outputs": [
    {
     "name": "stdout",
     "output_type": "stream",
     "text": [
      "CPU times: user 12.8 s, sys: 69.4 ms, total: 12.9 s\n",
      "Wall time: 12.9 s\n"
     ]
    },
    {
     "name": "stderr",
     "output_type": "stream",
     "text": [
      "/Users/andrey_lukyanov/Google_Drive/Studies/Year_4/Курсач/Coding/Comparing-numerical-methods-for-term-structure-fitting/thesis_library.py:30: RuntimeWarning: divide by zero encountered in true_divide\n",
      "  return beta0 + beta1 * (1 - np.exp(- m / tau1)) / (m / tau1) + beta2 * ((1 - np.exp(- m / tau1)) / (m / tau1) - np.exp(- m / tau1)) + beta3 * ((1 - np.exp(- m / tau2)) / (m / tau2) - np.exp(- m / tau2))\n"
     ]
    }
   ],
   "source": [
    "%%time\n",
    "\n",
    "for q in range(len(results)):\n",
    "        \n",
    "    bonds_prices_df = pd.DataFrame(columns = ['short', 'medium', 'long'], data = np.zeros([252, 3]), index = bonds_prices.index)\n",
    "    \n",
    "    for j in range(3):\n",
    "        \n",
    "        for i in range(251):\n",
    "            if j == 0:\n",
    "                dcf = short_bond_payments * np.exp(- short_bond_dates * nss(m = short_bond_dates, theta = np.array(results[q].iloc[i]))/100)\n",
    "                \n",
    "            elif j == 1:\n",
    "                dcf = medium_bond_payments * np.exp(- medium_bond_dates * nss(m = medium_bond_dates, theta = np.array(results[q].iloc[i]))/100)\n",
    "                \n",
    "            elif j == 2:\n",
    "                dcf = long_bond_payments * np.exp(- long_bond_dates * nss(m = long_bond_dates, theta = np.array(results[q].iloc[i]))/100)\n",
    "                \n",
    "            bonds_prices_df.iloc[i, j] = dcf.sum()\n",
    "        \n",
    "    bonds_prices_df.to_csv('/Users/andrey_lukyanov/Google_Drive/Studies/Year_4/Курсач/Coding/Comparing-numerical-methods-for-term-structure-fitting/1.3/' + results_names[q] + '.csv')           "
   ]
  },
  {
   "cell_type": "markdown",
   "metadata": {},
   "source": [
    "# Comparison"
   ]
  },
  {
   "cell_type": "code",
   "execution_count": null,
   "metadata": {},
   "outputs": [],
   "source": []
  }
 ],
 "metadata": {
  "kernelspec": {
   "display_name": "Python 3",
   "language": "python",
   "name": "python3"
  },
  "language_info": {
   "codemirror_mode": {
    "name": "ipython",
    "version": 3
   },
   "file_extension": ".py",
   "mimetype": "text/x-python",
   "name": "python",
   "nbconvert_exporter": "python",
   "pygments_lexer": "ipython3",
   "version": "3.6.7"
  }
 },
 "nbformat": 4,
 "nbformat_minor": 2
}
